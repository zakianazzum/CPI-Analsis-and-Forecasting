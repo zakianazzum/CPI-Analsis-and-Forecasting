{
 "cells": [
  {
   "cell_type": "code",
   "outputs": [],
   "source": [
    "import pandas as pd"
   ],
   "metadata": {
    "collapsed": false,
    "ExecuteTime": {
     "end_time": "2024-09-15T12:45:34.146988800Z",
     "start_time": "2024-09-15T12:45:33.750074600Z"
    }
   },
   "id": "e04bd0def21ba3cd",
   "execution_count": 2
  },
  {
   "cell_type": "code",
   "execution_count": 12,
   "id": "initial_id",
   "metadata": {
    "collapsed": true,
    "ExecuteTime": {
     "end_time": "2024-09-15T13:21:48.227101900Z",
     "start_time": "2024-09-15T13:21:48.214100600Z"
    }
   },
   "outputs": [],
   "source": [
    "# Importing Libraries\n",
    "import os\n",
    "from dotenv import load_dotenv\n",
    "load_dotenv()\n",
    "\n",
    "from fredapi import Fred\n",
    "\n",
    "fred_api_key = os.getenv('API_KEY')"
   ]
  },
  {
   "cell_type": "code",
   "outputs": [],
   "source": [
    "pd.set_option('display.max_colwidth', None)"
   ],
   "metadata": {
    "collapsed": false,
    "ExecuteTime": {
     "end_time": "2024-09-15T13:21:48.646594900Z",
     "start_time": "2024-09-15T13:21:48.639583300Z"
    }
   },
   "id": "959c4f6037f3d45d",
   "execution_count": 13
  },
  {
   "cell_type": "code",
   "outputs": [],
   "source": [
    "# Creating the Fred Object\n",
    "fred = Fred(fred_api_key)"
   ],
   "metadata": {
    "collapsed": false,
    "ExecuteTime": {
     "end_time": "2024-09-15T13:21:49.722604600Z",
     "start_time": "2024-09-15T13:21:49.712595200Z"
    }
   },
   "id": "d3ff1c4c7cbb187f",
   "execution_count": 14
  },
  {
   "cell_type": "code",
   "outputs": [],
   "source": [
    "cpi_df = fred.search('Consumer Price Index for All Urban Consumers: All Items in U.S. City Average',filter=('frequency', 'Monthly'))\n",
    "cpi_baseYear = cpi_df.query('seasonal_adjustment== \"Seasonally Adjusted\" and units == \"Index 1982-1984=100\" ')"
   ],
   "metadata": {
    "collapsed": false,
    "ExecuteTime": {
     "end_time": "2024-09-15T15:44:22.006793100Z",
     "start_time": "2024-09-15T15:44:20.123013900Z"
    }
   },
   "id": "55a36aeda797c780",
   "execution_count": 18
  },
  {
   "cell_type": "code",
   "outputs": [
    {
     "data": {
      "text/plain": "series id\nCPIAUCSL         The Consumer Price Index for All Urban Consumers: All Items (CPIAUCSL) is a price index of a basket of goods and services paid by urban consumers. Percent changes in the price index measure the inflation rate between any two time periods. The most common inflation metric is the percent change from one year ago. It can also represent the buying habits of urban consumers. This particular index includes roughly 88 percent of the total population, accounting for wage earners, clerical workers, technical workers, self-employed, short-term workers, unemployed, retirees, and those not in the labor force.  The CPIs are based on prices for food, clothing, shelter, and fuels; transportation fares; service fees (e.g., water and sewer service); and sales taxes. Prices are collected monthly from about 4,000 housing units and approximately 26,000 retail establishments across 87 urban areas. To calculate the index, price changes are averaged with weights representing their importance in the spending of the particular group. The index measures price changes (as a percent change) from a predetermined reference date. In addition to the original unadjusted index distributed, the Bureau of Labor Statistics also releases a seasonally adjusted index. The unadjusted series reflects all factors that may influence a change in prices. However, it can be very useful to look at the seasonally adjusted CPI, which removes the effects of seasonal changes, such as weather, school year, production cycles, and holidays.  The CPI can be used to recognize periods of inflation and deflation. Significant increases in the CPI within a short time frame might indicate a period of inflation, and significant decreases in CPI within a short time frame might indicate a period of deflation. However, because the CPI includes volatile food and oil prices, it might not be a reliable measure of inflationary and deflationary periods. For a more accurate detection, the core CPI (CPILFESL (https://fred.stlouisfed.org/series/CPILFESL)) is often used. When using the CPI, please note that it is not applicable to all consumers and should not be used to determine relative living costs. Additionally, the CPI is a statistical measure vulnerable to sampling error since it is based on a sample of prices and not the complete average.  For more information on the consumer price indexes, see:   Bureau of Economic Analysis. \"CPI Detailed Report.\" (https://www.bls.gov/cpi/) 2013.   Handbook of Methods (https://www.bls.gov/opub/hom/pdf/cpihom.pdf)   Understanding the CPI: Frequently Asked Questions (https://www.bls.gov/cpi/questions-and-answers.htm)\nCPIAUCNS                                                                                                                                                                                                                                                                                                                                                                                                                                                                                                                                                                                                                                                                                                                                                                                                                                                                                                                                                                                                                                                                                                                                                                                                                                                                                                                                                                                                                                                                                                                                                                                                                                                                                                                                                                                                                                                                                                                                                                                                                                                                                                                                                                                                                                                                                                                                                                                                                                                                                                                                                                       Handbook of Methods (https://www.bls.gov/opub/hom/pdf/cpihom.pdf) Understanding the CPI: Frequently Asked Questions (https://www.bls.gov/cpi/questions-and-answers.htm)\nCPILFESL                                                                                                                                                                                                                                                                                                                                                                                                                                                                                                                                                                                                                                                                                                                                                                                                                                                                                                                                                                                                                                                                                                                                                                                                                                                                                                                                                                                                                                                                                                                                                                                                                                                                                                                                                                                                                                                                                                                                                                                                                                                                                                                                                                                  The \"Consumer Price Index for All Urban Consumers: All Items Less Food & Energy\" is an aggregate of prices paid by urban consumers for a typical basket of goods, excluding food and energy. This measurement, known as \"Core CPI,\" is widely used by economists because food and energy have very volatile prices. The Bureau of Labor Statistics defines and measures the official CPI, and more information can be found in the FAQ (https://www.bls.gov/cpi/questions-and-answers.htm) or in this article (https://www.bls.gov/opub/hom/pdf/cpihom.pdf).\nCPILFENS                                                                                                                                                                                                                                                                                                                                                                                                                                                                                                                                                                                                                                                                                                                                                                                                                                                                                                                                                                                                                                                                                                                                                                                                                                                                                                                                                                                                                                                                                                                                                                                                                                                                                                                                                                                                                                                                                                                                                                                                                                                                                                                                                                                                     The “Consumer Price Index for All Urban Consumers: All Items Less Food & Energy” is an aggregate of prices paid by urban consumers for a typical basket of goods, excluding food and energy. This measurement, known as “Core CPI,” is widely used by economists because food and energy have very volatile prices. The Bureau of Labor Statistics defines and measures the official CPI, and more information can be found here: https://www.bls.gov/cpi/questions-and-answers.htm or here: https://www.bls.gov/opub/hom/pdf/cpihom.pdf.\nAPU0000708111                                                                                                                                                                                                                                                                                                                                                                                                                                                                                                                                                                                                                                                                                                                                                                                                                                                                                                                                                                                                                                                                                                                                                                                                                                                                                                                                                                                                                                                                                                                                                                                                                                                    Large white, Grade A chicken eggs, sold in a carton of a dozen. Includes organic, non-organic, cage free, free range, and traditional.  Average consumer prices are calculated for household fuel, motor fuel, and food items from prices collected for the Consumer Price Index (CPI). Average prices are best used to measure the price level in a particular month, not to measure price change over time. It is more appropriate to use CPI index values for the particular item categories to measure price change.  Prices, except for electricity, are collected monthly by BLS representatives in the 75 urban areas priced for the CPI. Electricity prices are collected for the BLS for the same 75 areas on a monthly basis by the Department of Energy using mail questionnaires. All fuel prices include applicable Federal, State, and local taxes; prices for natural gas and electricity also include fuel and purchased gas adjustments.  For more information, please visit the Bureau of Labor Statistics (https://www.bls.gov/cpi/factsheets/average-prices.htm).\n                                                                                                                                                                                                                                                                                                                                                                                                                                                                                                                                                                                                                                                                                                                                                                                                                                                                                                                                                                                                                                                                                                                                                                                                                                                                                                                                                                                 ...                                                                                                                                                                                                                                                                                                                                                                                                                                                                                                                                                                                                                                                                                                                                                                                                                                                                                                                                                                                                                                                                                                                                                                                                                                                                                                                                                                  \nAPUS12A72511                                                                                                                                                                                                                                                                                                                                                                                                                                                                                                                                                                                                                                                                                                                                                                                                                                                                                                                                                                                                                                                                                                                                                                                                                                                                                                                                                                                                                                                                                                                                                                                                                                                                                                                                                                           All fuel oil #2.  Average consumer prices are calculated for household fuel, motor fuel, and food items from prices collected for the Consumer Price Index (CPI). Average prices are best used to measure the price level in a particular month, not to measure price change over time. It is more appropriate to use CPI index values for the particular item categories to measure price change.  Prices, except for electricity, are collected monthly by BLS representatives in the 75 urban areas priced for the CPI. Electricity prices are collected for the BLS for the same 75 areas on a monthly basis by the Department of Energy using mail questionnaires. All fuel prices include applicable Federal, State, and local taxes; prices for natural gas and electricity also include fuel and purchased gas adjustments.  For more information, please visit the Bureau of Labor Statistics (https://www.bls.gov/cpi/factsheets/average-prices.htm).\nAPU0000717412                                                                                                                                                                                                                                                                                                                                                                                                                                                                                                                                                                                                                                                                                                                                                                                                                                                                                                                                                                                                                                                                                                                                                                                                                                                                                                                                                                                                                                                                                                                                                                                                                                                                                                                                                                                            Average consumer prices are calculated for household fuel, motor fuel, and food items from prices collected for the Consumer Price Index (CPI). Average prices are best used to measure the price level in a particular month, not to measure price change over time. It is more appropriate to use CPI index values for the particular item categories to measure price change.  Prices, except for electricity, are collected monthly by BLS representatives in the 75 urban areas priced for the CPI. Electricity prices are collected for the BLS for the same 75 areas on a monthly basis by the Department of Energy using mail questionnaires. All fuel prices include applicable Federal, State, and local taxes; prices for natural gas and electricity also include fuel and purchased gas adjustments.  For more information, please visit the Bureau of Labor Statistics (https://www.bls.gov/cpi/factsheets/average-prices.htm).\nAPU0000717326                                                                                                                                                                                                                                                                                                                                                                                                                                                                                                                                                                                                                                                                                                                                                                                                                                                                                                                                                                                                                                                                                                                                                                                                                                                                                                                                                                                                                                                                                                                                                                                                                                                                                                                                                                                            Average consumer prices are calculated for household fuel, motor fuel, and food items from prices collected for the Consumer Price Index (CPI). Average prices are best used to measure the price level in a particular month, not to measure price change over time. It is more appropriate to use CPI index values for the particular item categories to measure price change.  Prices, except for electricity, are collected monthly by BLS representatives in the 75 urban areas priced for the CPI. Electricity prices are collected for the BLS for the same 75 areas on a monthly basis by the Department of Energy using mail questionnaires. All fuel prices include applicable Federal, State, and local taxes; prices for natural gas and electricity also include fuel and purchased gas adjustments.  For more information, please visit the Bureau of Labor Statistics (https://www.bls.gov/cpi/factsheets/average-prices.htm).\nAPUS12A74713                                                                                                                                                                                                                                                                                                                                                                                                                                                                                                                                                                                                                                                                                                                                                                                                                                                                                                                                                                                                                                                                                                                                                                                                                                                                                                                                                                                                                                                                                                                                                                                                                                                                                                                                                                                             Average consumer prices are calculated for household fuel, motor fuel, and food items from prices collected for the Consumer Price Index (CPI). Average prices are best used to measure the price level in a particular month, not to measure price change over time. It is more appropriate to use CPI index values for the particular item categories to measure price change.  Prices, except for electricity, are collected monthly by BLS representatives in the 75 urban areas priced for the CPI. Electricity prices are collected for the BLS for the same 75 areas on a monthly basis by the Department of Energy using mail questionnaires. All fuel prices include applicable Federal, State, and local taxes; prices for natural gas and electricity also include fuel and purchased gas adjustments.  For more information, please visit the Bureau of Labor Statistics (https://www.bls.gov/cpi/factsheets/average-prices.htm).\nAPUS12B74715                                                                                                                                                                                                                                                                                                                                                                                                                                                                                                                                                                                                                                                                                                                                                                                                                                                                                                                                                                                                                                                                                                                                                                                                                                                                                                                                                                                                                                                                                                                                                                                                                                                                                                                                                           All unleaded mid-grade gasoline.  Average consumer prices are calculated for household fuel, motor fuel, and food items from prices collected for the Consumer Price Index (CPI). Average prices are best used to measure the price level in a particular month, not to measure price change over time. It is more appropriate to use CPI index values for the particular item categories to measure price change.  Prices, except for electricity, are collected monthly by BLS representatives in the 75 urban areas priced for the CPI. Electricity prices are collected for the BLS for the same 75 areas on a monthly basis by the Department of Energy using mail questionnaires. All fuel prices include applicable Federal, State, and local taxes; prices for natural gas and electricity also include fuel and purchased gas adjustments.  For more information, please visit the Bureau of Labor Statistics (https://www.bls.gov/cpi/factsheets/average-prices.htm).\nName: notes, Length: 257, dtype: object"
     },
     "execution_count": 23,
     "metadata": {},
     "output_type": "execute_result"
    }
   ],
   "source": [
    "cpi_df['notes']"
   ],
   "metadata": {
    "collapsed": false,
    "ExecuteTime": {
     "end_time": "2024-09-15T15:45:17.431467500Z",
     "start_time": "2024-09-15T15:45:17.412085300Z"
    }
   },
   "id": "3bd0c05d98a306be",
   "execution_count": 23
  },
  {
   "cell_type": "code",
   "outputs": [],
   "source": [
    "cpi_baseYear = cpi_df.query('seasonal_adjustment== \"Seasonally Adjusted\" and units == \"Index 1982-1984=100\" ')\n",
    "core_cpi = cpi_baseYear.head(4)"
   ],
   "metadata": {
    "collapsed": false,
    "ExecuteTime": {
     "end_time": "2024-09-15T15:44:24.884241100Z",
     "start_time": "2024-09-15T15:44:24.877232900Z"
    }
   },
   "id": "3b2411e92b57a199",
   "execution_count": 20
  },
  {
   "cell_type": "code",
   "outputs": [],
   "source": [
    "# Adding all the series in one dataFrame\n",
    "all_results = []\n",
    "\n",
    "for sID in core_cpi.index:\n",
    "    results = fred.get_series(sID)\n",
    "    results = results.to_frame(name=sID)\n",
    "    all_results.append(results)\n",
    "df_core_cpi = pd.concat(all_results, axis=1).dropna()"
   ],
   "metadata": {
    "collapsed": false,
    "ExecuteTime": {
     "end_time": "2024-09-15T15:44:34.209167200Z",
     "start_time": "2024-09-15T15:44:31.210336900Z"
    }
   },
   "id": "b058ec1ce4e7e4aa",
   "execution_count": 21
  },
  {
   "cell_type": "code",
   "outputs": [
    {
     "data": {
      "text/plain": "            CPIAUCSL  CPILFESL  CWSR0000SA0  CUSR0000SA0L2\n1957-01-01    27.670    28.500       27.820         29.300\n1957-02-01    27.800    28.600       27.960         29.400\n1957-03-01    27.860    28.700       28.020         29.500\n1957-04-01    27.930    28.800       28.090         29.600\n1957-05-01    28.000    28.800       28.160         29.600\n...              ...       ...          ...            ...\n2024-04-01   313.207   317.622      307.496        283.849\n2024-05-01   313.225   318.140      307.330        283.228\n2024-06-01   313.049   318.346      306.946        282.703\n2024-07-01   313.534   318.872      307.419        282.779\n2024-08-01   314.121   319.768      307.853        282.768\n\n[812 rows x 4 columns]",
      "text/html": "<div>\n<style scoped>\n    .dataframe tbody tr th:only-of-type {\n        vertical-align: middle;\n    }\n\n    .dataframe tbody tr th {\n        vertical-align: top;\n    }\n\n    .dataframe thead th {\n        text-align: right;\n    }\n</style>\n<table border=\"1\" class=\"dataframe\">\n  <thead>\n    <tr style=\"text-align: right;\">\n      <th></th>\n      <th>CPIAUCSL</th>\n      <th>CPILFESL</th>\n      <th>CWSR0000SA0</th>\n      <th>CUSR0000SA0L2</th>\n    </tr>\n  </thead>\n  <tbody>\n    <tr>\n      <th>1957-01-01</th>\n      <td>27.670</td>\n      <td>28.500</td>\n      <td>27.820</td>\n      <td>29.300</td>\n    </tr>\n    <tr>\n      <th>1957-02-01</th>\n      <td>27.800</td>\n      <td>28.600</td>\n      <td>27.960</td>\n      <td>29.400</td>\n    </tr>\n    <tr>\n      <th>1957-03-01</th>\n      <td>27.860</td>\n      <td>28.700</td>\n      <td>28.020</td>\n      <td>29.500</td>\n    </tr>\n    <tr>\n      <th>1957-04-01</th>\n      <td>27.930</td>\n      <td>28.800</td>\n      <td>28.090</td>\n      <td>29.600</td>\n    </tr>\n    <tr>\n      <th>1957-05-01</th>\n      <td>28.000</td>\n      <td>28.800</td>\n      <td>28.160</td>\n      <td>29.600</td>\n    </tr>\n    <tr>\n      <th>...</th>\n      <td>...</td>\n      <td>...</td>\n      <td>...</td>\n      <td>...</td>\n    </tr>\n    <tr>\n      <th>2024-04-01</th>\n      <td>313.207</td>\n      <td>317.622</td>\n      <td>307.496</td>\n      <td>283.849</td>\n    </tr>\n    <tr>\n      <th>2024-05-01</th>\n      <td>313.225</td>\n      <td>318.140</td>\n      <td>307.330</td>\n      <td>283.228</td>\n    </tr>\n    <tr>\n      <th>2024-06-01</th>\n      <td>313.049</td>\n      <td>318.346</td>\n      <td>306.946</td>\n      <td>282.703</td>\n    </tr>\n    <tr>\n      <th>2024-07-01</th>\n      <td>313.534</td>\n      <td>318.872</td>\n      <td>307.419</td>\n      <td>282.779</td>\n    </tr>\n    <tr>\n      <th>2024-08-01</th>\n      <td>314.121</td>\n      <td>319.768</td>\n      <td>307.853</td>\n      <td>282.768</td>\n    </tr>\n  </tbody>\n</table>\n<p>812 rows × 4 columns</p>\n</div>"
     },
     "execution_count": 22,
     "metadata": {},
     "output_type": "execute_result"
    }
   ],
   "source": [
    "df_core_cpi"
   ],
   "metadata": {
    "collapsed": false,
    "ExecuteTime": {
     "end_time": "2024-09-15T15:44:46.833039400Z",
     "start_time": "2024-09-15T15:44:46.817521700Z"
    }
   },
   "id": "6fb2ede24bcb2b3",
   "execution_count": 22
  },
  {
   "cell_type": "code",
   "outputs": [],
   "source": [
    "# Renaming columns\n",
    "df_core_cpi.rename(columns={\n",
    "    'CPIAUCSL': 'CPI_All_Items',\n",
    "    'CPILFESL': 'CPI_Less_Food_Energy'\n",
    "}, inplace=True)"
   ],
   "metadata": {
    "collapsed": false,
    "ExecuteTime": {
     "end_time": "2024-09-15T10:10:40.295695Z",
     "start_time": "2024-09-15T10:10:40.289697100Z"
    }
   },
   "id": "50899f0bd8c96c8b",
   "execution_count": 76
  },
  {
   "cell_type": "code",
   "outputs": [],
   "source": [
    "df_core_cpi.to_csv(\"data.csv\")"
   ],
   "metadata": {
    "collapsed": false,
    "ExecuteTime": {
     "end_time": "2024-09-15T10:12:31.603901Z",
     "start_time": "2024-09-15T10:12:31.596088900Z"
    }
   },
   "id": "f8326963a567bf06",
   "execution_count": 79
  }
 ],
 "metadata": {
  "kernelspec": {
   "display_name": "Python 3",
   "language": "python",
   "name": "python3"
  },
  "language_info": {
   "codemirror_mode": {
    "name": "ipython",
    "version": 2
   },
   "file_extension": ".py",
   "mimetype": "text/x-python",
   "name": "python",
   "nbconvert_exporter": "python",
   "pygments_lexer": "ipython2",
   "version": "2.7.6"
  }
 },
 "nbformat": 4,
 "nbformat_minor": 5
}

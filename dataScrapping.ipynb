{
 "cells": [
  {
   "cell_type": "code",
   "outputs": [],
   "source": [
    "import pandas as pd"
   ],
   "metadata": {
    "collapsed": false,
    "ExecuteTime": {
     "end_time": "2024-09-15T08:05:47.934956800Z",
     "start_time": "2024-09-15T08:05:47.918947300Z"
    }
   },
   "id": "e04bd0def21ba3cd",
   "execution_count": 10
  },
  {
   "cell_type": "code",
   "execution_count": 1,
   "id": "initial_id",
   "metadata": {
    "collapsed": true,
    "ExecuteTime": {
     "end_time": "2024-09-15T07:58:09.193266200Z",
     "start_time": "2024-09-15T07:58:08.839158800Z"
    }
   },
   "outputs": [],
   "source": [
    "# Importing Libraries\n",
    "import os\n",
    "from dotenv import load_dotenv\n",
    "load_dotenv()\n",
    "\n",
    "from fredapi import Fred\n",
    "\n",
    "fred_api_key = os.getenv('API_KEY')"
   ]
  },
  {
   "cell_type": "code",
   "outputs": [],
   "source": [
    "pd.set_option('display.max_colwidth', None)"
   ],
   "metadata": {
    "collapsed": false,
    "ExecuteTime": {
     "end_time": "2024-09-15T08:05:50.168455600Z",
     "start_time": "2024-09-15T08:05:50.166454100Z"
    }
   },
   "id": "959c4f6037f3d45d",
   "execution_count": 11
  },
  {
   "cell_type": "code",
   "outputs": [],
   "source": [
    "# Creating the Fred Object\n",
    "fred = Fred(fred_api_key)"
   ],
   "metadata": {
    "collapsed": false
   },
   "id": "d3ff1c4c7cbb187f"
  },
  {
   "cell_type": "code",
   "outputs": [],
   "source": [
    "cpi_df = fred.search('Consumer Price Index for All Urban Consumers: All Items in U.S. City Average',filter=('frequency', 'Monthly'))\n",
    "cpi_baseYear = cpi_df.query('seasonal_adjustment== \"Seasonally Adjusted\" and units == \"Index 1982-1984=100\" ')\n",
    "core_cpi = cpi_baseYear.head(2)"
   ],
   "metadata": {
    "collapsed": false,
    "ExecuteTime": {
     "end_time": "2024-09-15T08:14:00.580746100Z",
     "start_time": "2024-09-15T08:13:59.142427500Z"
    }
   },
   "id": "55a36aeda797c780",
   "execution_count": 16
  },
  {
   "cell_type": "code",
   "outputs": [],
   "source": [
    "# Adding all the series in one dataFrame\n",
    "all_results = []\n",
    "\n",
    "for sID in core_cpi.index:\n",
    "    results = fred.get_series(sID)\n",
    "    results = results.to_frame(name=sID)\n",
    "    all_results.append(results)\n",
    "df_core_cpi = pd.concat(all_results, axis=1).dropna()"
   ],
   "metadata": {
    "collapsed": false,
    "ExecuteTime": {
     "end_time": "2024-09-15T09:50:16.056393700Z",
     "start_time": "2024-09-15T09:50:14.636030200Z"
    }
   },
   "id": "b058ec1ce4e7e4aa",
   "execution_count": 73
  },
  {
   "cell_type": "code",
   "outputs": [],
   "source": [
    "# Renaming columns\n",
    "df_core_cpi.rename(columns={\n",
    "    'CPIAUCSL': 'CPI_All_Items',\n",
    "    'CPILFESL': 'CPI_Less_Food_Energy'\n",
    "}, inplace=True)"
   ],
   "metadata": {
    "collapsed": false,
    "ExecuteTime": {
     "end_time": "2024-09-15T10:10:40.295695Z",
     "start_time": "2024-09-15T10:10:40.289697100Z"
    }
   },
   "id": "50899f0bd8c96c8b",
   "execution_count": 76
  },
  {
   "cell_type": "code",
   "outputs": [],
   "source": [
    "df_core_cpi.to_csv(\"data.csv\")"
   ],
   "metadata": {
    "collapsed": false,
    "ExecuteTime": {
     "end_time": "2024-09-15T10:12:31.603901Z",
     "start_time": "2024-09-15T10:12:31.596088900Z"
    }
   },
   "id": "f8326963a567bf06",
   "execution_count": 79
  }
 ],
 "metadata": {
  "kernelspec": {
   "display_name": "Python 3",
   "language": "python",
   "name": "python3"
  },
  "language_info": {
   "codemirror_mode": {
    "name": "ipython",
    "version": 2
   },
   "file_extension": ".py",
   "mimetype": "text/x-python",
   "name": "python",
   "nbconvert_exporter": "python",
   "pygments_lexer": "ipython2",
   "version": "2.7.6"
  }
 },
 "nbformat": 4,
 "nbformat_minor": 5
}

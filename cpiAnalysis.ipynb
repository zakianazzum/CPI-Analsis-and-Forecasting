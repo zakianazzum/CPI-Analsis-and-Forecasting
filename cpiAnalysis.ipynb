{
 "cells": [
  {
   "cell_type": "markdown",
   "source": [
    "# Goal\n",
    "##### The goal is to analyze inflation trends using CPI data in the form of an index based on 1982-1984=100. This will help understand how inflation has evolved over time for urban consumers, comparing the overall Consumer Price Index (CPI) with the core CPI (less food and energy).\n",
    "\n",
    "# Data Dictionary: \n",
    "CPI_All_Items: Consumer Price Index for All Urban Consumers.\n",
    "CPI_Less_Food_Energy: Consumer Price Index for All Urban Consumers: All Items Less Food and Energy in U.S. City Average."
   ],
   "metadata": {
    "collapsed": false
   },
   "id": "e1628c3c49164429"
  },
  {
   "cell_type": "code",
   "outputs": [],
   "source": [],
   "metadata": {
    "collapsed": false
   },
   "id": "8f7fc16eb1e97b3d"
  },
  {
   "cell_type": "code",
   "execution_count": 1,
   "id": "initial_id",
   "metadata": {
    "collapsed": true,
    "ExecuteTime": {
     "end_time": "2024-09-15T18:41:31.386749600Z",
     "start_time": "2024-09-15T18:41:30.383859Z"
    }
   },
   "outputs": [],
   "source": [
    "# Importing Libraries\n",
    "import pandas as pd\n",
    "import numpy as np\n",
    "import matplotlib.pyplot as plt\n",
    "import plotly.express as px\n",
    "import plotly.graph_objects as go\n",
    "from plotly.subplots import make_subplots"
   ]
  },
  {
   "cell_type": "markdown",
   "source": [],
   "metadata": {
    "collapsed": false
   },
   "id": "8a5800ce1be5641d"
  },
  {
   "cell_type": "markdown",
   "source": [
    "# Loading Data"
   ],
   "metadata": {
    "collapsed": false
   },
   "id": "7182b1e92eb48617"
  },
  {
   "cell_type": "code",
   "outputs": [],
   "source": [
    "import os\n",
    "from dotenv import load_dotenv\n",
    "load_dotenv()\n",
    "\n",
    "path = os.getenv('DATA_PATH')\n",
    "df = pd.read_csv(path)"
   ],
   "metadata": {
    "collapsed": false,
    "ExecuteTime": {
     "end_time": "2024-09-15T18:42:38.689088Z",
     "start_time": "2024-09-15T18:42:38.648348Z"
    }
   },
   "id": "253db24065373665",
   "execution_count": 20
  },
  {
   "cell_type": "markdown",
   "source": [
    "# 1. Data Understanding and Preperation\n",
    " * What is the structure and time range of the data?\n",
    "  * Are there any missing values?"
   ],
   "metadata": {
    "collapsed": false
   },
   "id": "56fa45028a02a41a"
  },
  {
   "cell_type": "code",
   "outputs": [],
   "source": [
    "# Renaming column\n",
    "df = df.rename(columns={'Unnamed: 0': 'Date'})"
   ],
   "metadata": {
    "collapsed": false,
    "ExecuteTime": {
     "end_time": "2024-09-15T18:42:44.561183100Z",
     "start_time": "2024-09-15T18:42:44.543005100Z"
    }
   },
   "id": "70b71856ea0fa16b",
   "execution_count": 21
  },
  {
   "cell_type": "code",
   "outputs": [],
   "source": [
    "df['Date'] = pd.to_datetime(df['Date'])\n",
    "df.set_index('Date', inplace=True)"
   ],
   "metadata": {
    "collapsed": false,
    "ExecuteTime": {
     "end_time": "2024-09-15T18:42:46.002426500Z",
     "start_time": "2024-09-15T18:42:45.957459200Z"
    }
   },
   "id": "5af3dd09f9d78bce",
   "execution_count": 22
  },
  {
   "cell_type": "code",
   "outputs": [
    {
     "name": "stdout",
     "output_type": "stream",
     "text": [
      "<class 'pandas.core.frame.DataFrame'>\n",
      "DatetimeIndex: 812 entries, 1957-01-01 to 2024-08-01\n",
      "Data columns (total 2 columns):\n",
      " #   Column                Non-Null Count  Dtype  \n",
      "---  ------                --------------  -----  \n",
      " 0   CPI_All_Items         812 non-null    float64\n",
      " 1   CPI_Less_Food_Energy  812 non-null    float64\n",
      "dtypes: float64(2)\n",
      "memory usage: 19.0 KB\n"
     ]
    }
   ],
   "source": [
    "df.info()"
   ],
   "metadata": {
    "collapsed": false,
    "ExecuteTime": {
     "end_time": "2024-09-15T18:42:48.677540200Z",
     "start_time": "2024-09-15T18:42:48.618811500Z"
    }
   },
   "id": "5871d2f155b64b0b",
   "execution_count": 23
  },
  {
   "cell_type": "code",
   "outputs": [
    {
     "data": {
      "text/plain": "<Axes: xlabel='Date'>"
     },
     "execution_count": 24,
     "metadata": {},
     "output_type": "execute_result"
    },
    {
     "data": {
      "text/plain": "<Figure size 640x480 with 1 Axes>",
      "image/png": "[encoded data removed]"
     },
     "metadata": {},
     "output_type": "display_data"
    }
   ],
   "source": [
    "df.isnull().sum(axis=1).plot()"
   ],
   "metadata": {
    "collapsed": false,
    "ExecuteTime": {
     "end_time": "2024-09-15T18:42:50.053241300Z",
     "start_time": "2024-09-15T18:42:49.898189Z"
    }
   },
   "id": "dbbb87f2c596b2c0",
   "execution_count": 24
  },
  {
   "cell_type": "markdown",
   "source": [
    "##### No missing values"
   ],
   "metadata": {
    "collapsed": false
   },
   "id": "1df75a70a83f228a"
  },
  {
   "cell_type": "code",
   "outputs": [
    {
     "name": "stdout",
     "output_type": "stream",
     "text": [
      "The Time Range of the data is : 1957-01-01 00:00:00 - 2024-08-01 00:00:00\n"
     ]
    }
   ],
   "source": [
    "# Time range\n",
    "min_index = df.index.min()\n",
    "max_index = df.index.max()\n",
    "\n",
    "print(f\"The Time Range of the data is : {min_index} - {max_index}\")"
   ],
   "metadata": {
    "collapsed": false,
    "ExecuteTime": {
     "end_time": "2024-09-15T18:42:53.116577600Z",
     "start_time": "2024-09-15T18:42:53.087492500Z"
    }
   },
   "id": "21238c0ebe448322",
   "execution_count": 25
  },
  {
   "cell_type": "markdown",
   "source": [
    "# 2.Exploratory Data Analysis (EDA)"
   ],
   "metadata": {
    "collapsed": false
   },
   "id": "232924d530647a37"
  },
  {
   "cell_type": "code",
   "outputs": [
    {
     "data": {
      "text/plain": "       CPI_All_Items  CPI_Less_Food_Energy\ncount     812.000000            812.000000\nmean      134.760110            138.439057\nstd        83.765672             85.567787\nmin        27.670000             28.500000\n25%        46.200000             46.650000\n50%       133.550000            137.800000\n75%       208.707750            211.684750\nmax       314.121000            319.768000",
      "text/html": "<div>\n<style scoped>\n    .dataframe tbody tr th:only-of-type {\n        vertical-align: middle;\n    }\n\n    .dataframe tbody tr th {\n        vertical-align: top;\n    }\n\n    .dataframe thead th {\n        text-align: right;\n    }\n</style>\n<table border=\"1\" class=\"dataframe\">\n  <thead>\n    <tr style=\"text-align: right;\">\n      <th></th>\n      <th>CPI_All_Items</th>\n      <th>CPI_Less_Food_Energy</th>\n    </tr>\n  </thead>\n  <tbody>\n    <tr>\n      <th>count</th>\n      <td>812.000000</td>\n      <td>812.000000</td>\n    </tr>\n    <tr>\n      <th>mean</th>\n      <td>134.760110</td>\n      <td>138.439057</td>\n    </tr>\n    <tr>\n      <th>std</th>\n      <td>83.765672</td>\n      <td>85.567787</td>\n    </tr>\n    <tr>\n      <th>min</th>\n      <td>27.670000</td>\n      <td>28.500000</td>\n    </tr>\n    <tr>\n      <th>25%</th>\n      <td>46.200000</td>\n      <td>46.650000</td>\n    </tr>\n    <tr>\n      <th>50%</th>\n      <td>133.550000</td>\n      <td>137.800000</td>\n    </tr>\n    <tr>\n      <th>75%</th>\n      <td>208.707750</td>\n      <td>211.684750</td>\n    </tr>\n    <tr>\n      <th>max</th>\n      <td>314.121000</td>\n      <td>319.768000</td>\n    </tr>\n  </tbody>\n</table>\n</div>"
     },
     "execution_count": 26,
     "metadata": {},
     "output_type": "execute_result"
    }
   ],
   "source": [
    "df.describe()"
   ],
   "metadata": {
    "collapsed": false,
    "ExecuteTime": {
     "end_time": "2024-09-15T18:42:55.648982400Z",
     "start_time": "2024-09-15T18:42:55.640171800Z"
    }
   },
   "id": "68b3c7df8c25415e",
   "execution_count": 26
  },
  {
   "cell_type": "code",
   "outputs": [
    {
     "data": {
      "application/vnd.plotly.v1+json": {
       "data": [
        {
         "hovertemplate": "variable=CPI_All_Items<br>Date=%{x}<br>value=%{y}<extra></extra>",
         "legendgroup": "CPI_All_Items",
         "line": {
          "color": "#636efa",
          "dash": "solid"
         },
         "marker": {
          "symbol": "circle"
         },
         "mode": "lines",
         "name": "CPI_All_Items",
         "showlegend": true,
         "x": [
          "1957-01-01T00:00:00",
          "1957-02-01T00:00:00",
          "1957-03-01T00:00:00",
          "1957-04-01T00:00:00",
          "1957-05-01T00:00:00",
          "1957-06-01T00:00:00",
          "1957-07-01T00:00:00",
          "1957-08-01T00:00:00",
          "1957-09-01T00:00:00",
          "1957-10-01T00:00:00",
          "1957-11-01T00:00:00",
          "1957-12-01T00:00:00",
          "1958-01-01T00:00:00",
          "1958-02-01T00:00:00",
          "1958-03-01T00:00:00",
          "1958-04-01T00:00:00",
          "1958-05-01T00:00:00",
          "1958-06-01T00:00:00",
          "1958-07-01T00:00:00",
          "1958-08-01T00:00:00",
          "1958-09-01T00:00:00",
          "1958-10-01T00:00:00",
          "1958-11-01T00:00:00",
          "1958-12-01T00:00:00",
          "1959-01-01T00:00:00",
          "1959-02-01T00:00:00",
          "1959-03-01T00:00:00",
          "1959-04-01T00:00:00",
          "1959-05-01T00:00:00",
          "1959-06-01T00:00:00",
          "1959-07-01T00:00:00",
          "1959-08-01T00:00:00",
          "1959-09-01T00:00:00",
          "1959-10-01T00:00:00",
          "1959-11-01T00:00:00",
          "1959-12-01T00:00:00",
          "1960-01-01T00:00:00",
          "1960-02-01T00:00:00",
          "1960-03-01T00:00:00",
          "1960-04-01T00:00:00",
          "1960-05-01T00:00:00",
          "1960-06-01T00:00:00",
          "1960-07-01T00:00:00",
          "1960-08-01T00:00:00",
          "1960-09-01T00:00:00",
          "1960-10-01T00:00:00",
          "1960-11-01T00:00:00",
          "1960-12-01T00:00:00",
          "1961-01-01T00:00:00",
          "1961-02-01T00:00:00",
          "1961-03-01T00:00:00",
          "1961-04-01T00:00:00",
          "1961-05-01T00:00:00",
          "1961-06-01T00:00:00",
          "1961-07-01T00:00:00",
          "1961-08-01T00:00:00",
          "1961-09-01T00:00:00",
          "1961-10-01T00:00:00",
          "1961-11-01T00:00:00",
          "1961-12-01T00:00:00",
          "1962-01-01T00:00:00",
          "1962-02-01T00:00:00",
          "1962-03-01T00:00:00",
          "1962-04-01T00:00:00",
          "1962-05-01T00:00:00",
          "1962-06-01T00:00:00",
          "1962-07-01T00:00:00",
          "1962-08-01T00:00:00",
          "1962-09-01T00:00:00",
          "1962-10-01T00:00:00",
          "1962-11-01T00:00:00",
          "1962-12-01T00:00:00",
          "1963-01-01T00:00:00",
          "1963-02-01T00:00:00",
          "1963-03-01T00:00:00",
          "1963-04-01T00:00:00",
          "1963-05-01T00:00:00",
          "1963-06-01T00:00:00",
          "1963-07-01T00:00:00",
          "1963-08-01T00:00:00",
          "1963-09-01T00:00:00",
          "1963-10-01T00:00:00",
          "1963-11-01T00:00:00",
          "1963-12-01T00:00:00",
          "1964-01-01T00:00:00",
          "1964-02-01T00:00:00",
          "1964-03-01T00:00:00",
          "1964-04-01T00:00:00",
          "1964-05-01T00:00:00",
          "1964-06-01T00:00:00",
          "1964-07-01T00:00:00",
          "1964-08-01T00:00:00",
          "1964-09-01T00:00:00",
          "1964-10-01T00:00:00",
          "1964-11-01T00:00:00",
          "1964-12-01T00:00:00",
          "1965-01-01T00:00:00",
          "1965-02-01T00:00:00",
          "1965-03-01T00:00:00",
          "1965-04-01T00:00:00",
          "1965-05-01T00:00:00",
          "1965-06-01T00:00:00",
          "1965-07-01T00:00:00",
          "1965-08-01T00:00:00",
          "1965-09-01T00:00:00",
          "1965-10-01T00:00:00",
          "1965-11-01T00:00:00",
          "1965-12-01T00:00:00",
          "1966-01-01T00:00:00",
          "1966-02-01T00:00:00",
          "1966-03-01T00:00:00",
          "1966-04-01T00:00:00",
          "1966-05-01T00:00:00",
          "1966-06-01T00:00:00",
          "1966-07-01T00:00:00",
          "1966-08-01T00:00:00",
          "1966-09-01T00:00:00",
          "1966-10-01T00:00:00",
          "1966-11-01T00:00:00",
          "1966-12-01T00:00:00",
          "1967-01-01T00:00:00",
          "1967-02-01T00:00:00",
          "1967-03-01T00:00:00",
          "1967-04-01T00:00:00",
          "1967-05-01T00:00:00",
          "1967-06-01T00:00:00",
          "1967-07-01T00:00:00",
          "1967-08-01T00:00:00",
          "1967-09-01T00:00:00",
          "1967-10-01T00:00:00",
          "1967-11-01T00:00:00",
          "1967-12-01T00:00:00",
          "1968-01-01T00:00:00",
          "1968-02-01T00:00:00",
          "1968-03-01T00:00:00",
          "1968-04-01T00:00:00",
          "1968-05-01T00:00:00",
          "1968-06-01T00:00:00",
          "1968-07-01T00:00:00",
          "1968-08-01T00:00:00",
          "1968-09-01T00:00:00",
          "1968-10-01T00:00:00",
          "1968-11-01T00:00:00",
          "1968-12-01T00:00:00",
          "1969-01-01T00:00:00",
          "1969-02-01T00:00:00",
          "1969-03-01T00:00:00",
          "1969-04-01T00:00:00",
          "1969-05-01T00:00:00",
          "1969-06-01T00:00:00",
          "1969-07-01T00:00:00",
          "1969-08-01T00:00:00",
          "1969-09-01T00:00:00",
          "1969-10-01T00:00:00",
          "1969-11-01T00:00:00",
          "1969-12-01T00:00:00",
          "1970-01-01T00:00:00",
          "1970-02-01T00:00:00",
          "1970-03-01T00:00:00",
          "1970-04-01T00:00:00",
          "1970-05-01T00:00:00",
          "1970-06-01T00:00:00",
          "1970-07-01T00:00:00",
          "1970-08-01T00:00:00",
          "1970-09-01T00:00:00",
          "1970-10-01T00:00:00",
          "1970-11-01T00:00:00",
          "1970-12-01T00:00:00",
          "1971-01-01T00:00:00",
          "1971-02-01T00:00:00",
          "1971-03-01T00:00:00",
          "1971-04-01T00:00:00",
          "1971-05-01T00:00:00",
          "1971-06-01T00:00:00",
          "1971-07-01T00:00:00",
          "1971-08-01T00:00:00",
          "1971-09-01T00:00:00",
          "1971-10-01T00:00:00",
          "1971-11-01T00:00:00",
          "1971-12-01T00:00:00",
          "1972-01-01T00:00:00",
          "1972-02-01T00:00:00",
          "1972-03-01T00:00:00",
          "1972-04-01T00:00:00",
          "1972-05-01T00:00:00",
          "1972-06-01T00:00:00",
          "1972-07-01T00:00:00",
          "1972-08-01T00:00:00",
          "1972-09-01T00:00:00",
          "1972-10-01T00:00:00",
          "1972-11-01T00:00:00",
          "1972-12-01T00:00:00",
          "1973-01-01T00:00:00",
          "1973-02-01T00:00:00",
          "1973-03-01T00:00:00",
          "1973-04-01T00:00:00",
          "1973-05-01T00:00:00",
          "1973-06-01T00:00:00",
          "1973-07-01T00:00:00",
          "1973-08-01T00:00:00",
          "1973-09-01T00:00:00",
          "1973-10-01T00:00:00",
          "1973-11-01T00:00:00",
          "1973-12-01T00:00:00",
          "1974-01-01T00:00:00",
          "1974-02-01T00:00:00",
          "1974-03-01T00:00:00",
          "1974-04-01T00:00:00",
          "1974-05-01T00:00:00",
          "1974-06-01T00:00:00",
          "1974-07-01T00:00:00",
          "1974-08-01T00:00:00",
          "1974-09-01T00:00:00",
          "1974-10-01T00:00:00",
          "1974-11-01T00:00:00",
          "1974-12-01T00:00:00",
          "1975-01-01T00:00:00",
          "1975-02-01T00:00:00",
          "1975-03-01T00:00:00",
          "1975-04-01T00:00:00",
          "1975-05-01T00:00:00",
          "1975-06-01T00:00:00",
          "1975-07-01T00:00:00",
          "1975-08-01T00:00:00",
          "1975-09-01T00:00:00",
          "1975-10-01T00:00:00",
          "1975-11-01T00:00:00",
          "1975-12-01T00:00:00",
          "1976-01-01T00:00:00",
          "1976-02-01T00:00:00",
          "1976-03-01T00:00:00",
          "1976-04-01T00:00:00",
          "1976-05-01T00:00:00",
          "1976-06-01T00:00:00",
          "1976-07-01T00:00:00",
          "1976-08-01T00:00:00",
          "1976-09-01T00:00:00",
          "1976-10-01T00:00:00",
          "1976-11-01T00:00:00",
          "1976-12-01T00:00:00",
          "1977-01-01T00:00:00",
          "1977-02-01T00:00:00",
          "1977-03-01T00:00:00",
          "1977-04-01T00:00:00",
          "1977-05-01T00:00:00",
          "1977-06-01T00:00:00",
          "1977-07-01T00:00:00",
          "1977-08-01T00:00:00",
          "1977-09-01T00:00:00",
          "1977-10-01T00:00:00",
          "1977-11-01T00:00:00",
          "1977-12-01T00:00:00",
          "1978-01-01T00:00:00",
          "1978-02-01T00:00:00",
          "1978-03-01T00:00:00",
          "1978-04-01T00:00:00",
          "1978-05-01T00:00:00",
          "1978-06-01T00:00:00",
          "1978-07-01T00:00:00",
          "1978-08-01T00:00:00",
          "1978-09-01T00:00:00",
          "1978-10-01T00:00:00",
          "1978-11-01T00:00:00",
          "1978-12-01T00:00:00",
          "1979-01-01T00:00:00",
          "1979-02-01T00:00:00",
          "1979-03-01T00:00:00",
          "1979-04-01T00:00:00",
          "1979-05-01T00:00:00",
          "1979-06-01T00:00:00",
          "1979-07-01T00:00:00",
          "1979-08-01T00:00:00",
          "1979-09-01T00:00:00",
          "1979-10-01T00:00:00",
          "1979-11-01T00:00:00",
          "1979-12-01T00:00:00",
          "1980-01-01T00:00:00",
          "1980-02-01T00:00:00",
          "1980-03-01T00:00:00",
          "1980-04-01T00:00:00",
          "1980-05-01T00:00:00",
          "1980-06-01T00:00:00",
          "1980-07-01T00:00:00",
          "1980-08-01T00:00:00",
          "1980-09-01T00:00:00",
          "1980-10-01T00:00:00",
          "1980-11-01T00:00:00",
          "1980-12-01T00:00:00",
          "1981-01-01T00:00:00",
          "1981-02-01T00:00:00",
          "1981-03-01T00:00:00",
          "1981-04-01T00:00:00",
          "1981-05-01T00:00:00",
          "1981-06-01T00:00:00",
          "1981-07-01T00:00:00",
          "1981-08-01T00:00:00",
          "1981-09-01T00:00:00",
          "1981-10-01T00:00:00",
          "1981-11-01T00:00:00",
          "1981-12-01T00:00:00",
          "1982-01-01T00:00:00",
          "1982-02-01T00:00:00",
          "1982-03-01T00:00:00",
          "1982-04-01T00:00:00",
          "1982-05-01T00:00:00",
          "1982-06-01T00:00:00",
          "1982-07-01T00:00:00",
          "1982-08-01T00:00:00",
          "1982-09-01T00:00:00",
          "1982-10-01T00:00:00",
          "1982-11-01T00:00:00",
          "1982-12-01T00:00:00",
          "1983-01-01T00:00:00",
          "1983-02-01T00:00:00",
          "1983-03-01T00:00:00",
          "1983-04-01T00:00:00",
          "1983-05-01T00:00:00",
          "1983-06-01T00:00:00",
          "1983-07-01T00:00:00",
          "1983-08-01T00:00:00",
          "1983-09-01T00:00:00",
          "1983-10-01T00:00:00",
          "1983-11-01T00:00:00",
          "1983-12-01T00:00:00",
          "1984-01-01T00:00:00",
          "1984-02-01T00:00:00",
          "1984-03-01T00:00:00",
          "1984-04-01T00:00:00",
          "1984-05-01T00:00:00",
          "1984-06-01T00:00:00",
          "1984-07-01T00:00:00",
          "1984-08-01T00:00:00",
          "1984-09-01T00:00:00",
          "1984-10-01T00:00:00",
          "1984-11-01T00:00:00",
          "1984-12-01T00:00:00",
          "1985-01-01T00:00:00",
          "1985-02-01T00:00:00",
          "1985-03-01T00:00:00",
          "1985-04-01T00:00:00",
          "1985-05-01T00:00:00",
          "1985-06-01T00:00:00",
          "1985-07-01T00:00:00",
          "1985-08-01T00:00:00",
          "1985-09-01T00:00:00",
          "1985-10-01T00:00:00",
          "1985-11-01T00:00:00",
          "1985-12-01T00:00:00",
          "1986-01-01T00:00:00",
          "1986-02-01T00:00:00",
          "1986-03-01T00:00:00",
          "1986-04-01T00:00:00",
          "1986-05-01T00:00:00",
          "1986-06-01T00:00:00",
          "1986-07-01T00:00:00",
          "1986-08-01T00:00:00",
          "1986-09-01T00:00:00",
          "1986-10-01T00:00:00",
          "1986-11-01T00:00:00",
          "1986-12-01T00:00:00",
          "1987-01-01T00:00:00",
          "1987-02-01T00:00:00",
          "1987-03-01T00:00:00",
          "1987-04-01T00:00:00",
          "1987-05-01T00:00:00",
          "1987-06-01T00:00:00",
          "1987-07-01T00:00:00",
          "1987-08-01T00:00:00",
          "1987-09-01T00:00:00",
          "1987-10-01T00:00:00",
          "1987-11-01T00:00:00",
          "1987-12-01T00:00:00",
          "1988-01-01T00:00:00",
          "1988-02-01T00:00:00",
          "1988-03-01T00:00:00",
          "1988-04-01T00:00:00",
          "1988-05-01T00:00:00",
          "1988-06-01T00:00:00",
          "1988-07-01T00:00:00",
          "1988-08-01T00:00:00",
          "1988-09-01T00:00:00",
          "1988-10-01T00:00:00",
          "1988-11-01T00:00:00",
          "1988-12-01T00:00:00",
          "1989-01-01T00:00:00",
          "1989-02-01T00:00:00",
          "1989-03-01T00:00:00",
          "1989-04-01T00:00:00",
          "1989-05-01T00:00:00",
          "1989-06-01T00:00:00",
          "1989-07-01T00:00:00",
          "1989-08-01T00:00:00",
          "1989-09-01T00:00:00",
          "1989-10-01T00:00:00",
          "1989-11-01T00:00:00",
          "1989-12-01T00:00:00",
          "1990-01-01T00:00:00",
          "1990-02-01T00:00:00",
          "1990-03-01T00:00:00",
          "1990-04-01T00:00:00",
          "1990-05-01T00:00:00",
          "1990-06-01T00:00:00",
          "1990-07-01T00:00:00",
          "1990-08-01T00:00:00",
          "1990-09-01T00:00:00",
          "1990-10-01T00:00:00",
          "1990-11-01T00:00:00",
          "1990-12-01T00:00:00",
          "1991-01-01T00:00:00",
          "1991-02-01T00:00:00",
          "1991-03-01T00:00:00",
          "1991-04-01T00:00:00",
          "1991-05-01T00:00:00",
          "1991-06-01T00:00:00",
          "1991-07-01T00:00:00",
          "1991-08-01T00:00:00",
          "1991-09-01T00:00:00",
          "1991-10-01T00:00:00",
          "1991-11-01T00:00:00",
          "1991-12-01T00:00:00",
          "1992-01-01T00:00:00",
          "1992-02-01T00:00:00",
          "1992-03-01T00:00:00",
          "1992-04-01T00:00:00",
          "1992-05-01T00:00:00",
          "1992-06-01T00:00:00",
          "1992-07-01T00:00:00",
          "1992-08-01T00:00:00",
          "1992-09-01T00:00:00",
          "1992-10-01T00:00:00",
          "1992-11-01T00:00:00",
          "1992-12-01T00:00:00",
          "1993-01-01T00:00:00",
          "1993-02-01T00:00:00",
          "1993-03-01T00:00:00",
          "1993-04-01T00:00:00",
          "1993-05-01T00:00:00",
          "1993-06-01T00:00:00",
          "1993-07-01T00:00:00",
          "1993-08-01T00:00:00",
          "1993-09-01T00:00:00",
          "1993-10-01T00:00:00",
          "1993-11-01T00:00:00",
          "1993-12-01T00:00:00",
          "1994-01-01T00:00:00",
          "1994-02-01T00:00:00",
          "1994-03-01T00:00:00",
          "1994-04-01T00:00:00",
          "1994-05-01T00:00:00",
          "1994-06-01T00:00:00",
          "1994-07-01T00:00:00",
          "1994-08-01T00:00:00",
          "1994-09-01T00:00:00",
          "1994-10-01T00:00:00",
          "1994-11-01T00:00:00",
          "1994-12-01T00:00:00",
          "1995-01-01T00:00:00",
          "1995-02-01T00:00:00",
          "1995-03-01T00:00:00",
          "1995-04-01T00:00:00",
          "1995-05-01T00:00:00",
          "1995-06-01T00:00:00",
          "1995-07-01T00:00:00",
          "1995-08-01T00:00:00",
          "1995-09-01T00:00:00",
          "1995-10-01T00:00:00",
          "1995-11-01T00:00:00",
          "1995-12-01T00:00:00",
          "1996-01-01T00:00:00",
          "1996-02-01T00:00:00",
          "1996-03-01T00:00:00",
          "1996-04-01T00:00:00",
          "1996-05-01T00:00:00",
          "1996-06-01T00:00:00",
          "1996-07-01T00:00:00",
          "1996-08-01T00:00:00",
          "1996-09-01T00:00:00",
          "1996-10-01T00:00:00",
          "1996-11-01T00:00:00",
          "1996-12-01T00:00:00",
          "1997-01-01T00:00:00",
          "1997-02-01T00:00:00",
          "1997-03-01T00:00:00",
          "1997-04-01T00:00:00",
          "1997-05-01T00:00:00",
          "1997-06-01T00:00:00",
          "1997-07-01T00:00:00",
          "1997-08-01T00:00:00",
          "1997-09-01T00:00:00",
          "1997-10-01T00:00:00",
          "1997-11-01T00:00:00",
          "1997-12-01T00:00:00",
          "1998-01-01T00:00:00",
          "1998-02-01T00:00:00",
          "1998-03-01T00:00:00",
          "1998-04-01T00:00:00",
          "1998-05-01T00:00:00",
          "1998-06-01T00:00:00",
          "1998-07-01T00:00:00",
          "1998-08-01T00:00:00",
          "1998-09-01T00:00:00",
          "1998-10-01T00:00:00",
          "1998-11-01T00:00:00",
          "1998-12-01T00:00:00",
          "1999-01-01T00:00:00",
          "1999-02-01T00:00:00",
          "1999-03-01T00:00:00",
          "1999-04-01T00:00:00",
          "1999-05-01T00:00:00",
          "1999-06-01T00:00:00",
          "1999-07-01T00:00:00",
          "1999-08-01T00:00:00",
          "1999-09-01T00:00:00",
          "1999-10-01T00:00:00",
          "1999-11-01T00:00:00",
          "1999-12-01T00:00:00",
          "2000-01-01T00:00:00",
          "2000-02-01T00:00:00",
          "2000-03-01T00:00:00",
          "2000-04-01T00:00:00",
          "2000-05-01T00:00:00",
          "2000-06-01T00:00:00",
          "2000-07-01T00:00:00",
          "2000-08-01T00:00:00",
          "2000-09-01T00:00:00",
          "2000-10-01T00:00:00",
          "2000-11-01T00:00:00",
          "2000-12-01T00:00:00",
          "2001-01-01T00:00:00",
          "2001-02-01T00:00:00",
          "2001-03-01T00:00:00",
          "2001-04-01T00:00:00",
          "2001-05-01T00:00:00",
          "2001-06-01T00:00:00",
          "2001-07-01T00:00:00",
          "2001-08-01T00:00:00",
          "2001-09-01T00:00:00",
          "2001-10-01T00:00:00",
          "2001-11-01T00:00:00",
          "2001-12-01T00:00:00",
          "2002-01-01T00:00:00",
          "2002-02-01T00:00:00",
          "2002-03-01T00:00:00",
          "2002-04-01T00:00:00",
          "2002-05-01T00:00:00",
          "2002-06-01T00:00:00",
          "2002-07-01T00:00:00",
          "2002-08-01T00:00:00",
          "2002-09-01T00:00:00",
          "2002-10-01T00:00:00",
          "2002-11-01T00:00:00",
          "2002-12-01T00:00:00",
          "2003-01-01T00:00:00",
          "2003-02-01T00:00:00",
          "2003-03-01T00:00:00",
          "2003-04-01T00:00:00",
          "2003-05-01T00:00:00",
          "2003-06-01T00:00:00",
          "2003-07-01T00:00:00",
          "2003-08-01T00:00:00",
          "2003-09-01T00:00:00",
          "2003-10-01T00:00:00",
          "2003-11-01T00:00:00",
          "2003-12-01T00:00:00",
          "2004-01-01T00:00:00",
          "2004-02-01T00:00:00",
          "2004-03-01T00:00:00",
          "2004-04-01T00:00:00",
          "2004-05-01T00:00:00",
          "2004-06-01T00:00:00",
          "2004-07-01T00:00:00",
          "2004-08-01T00:00:00",
          "2004-09-01T00:00:00",
          "2004-10-01T00:00:00",
          "2004-11-01T00:00:00",
          "2004-12-01T00:00:00",
          "2005-01-01T00:00:00",
          "2005-02-01T00:00:00",
          "2005-03-01T00:00:00",
          "2005-04-01T00:00:00",
          "2005-05-01T00:00:00",
          "2005-06-01T00:00:00",
          "2005-07-01T00:00:00",
          "2005-08-01T00:00:00",
          "2005-09-01T00:00:00",
          "2005-10-01T00:00:00",
          "2005-11-01T00:00:00",
          "2005-12-01T00:00:00",
          "2006-01-01T00:00:00",
          "2006-02-01T00:00:00",
          "2006-03-01T00:00:00",
          "2006-04-01T00:00:00",
          "2006-05-01T00:00:00",
          "2006-06-01T00:00:00",
          "2006-07-01T00:00:00",
          "2006-08-01T00:00:00",
          "2006-09-01T00:00:00",
          "2006-10-01T00:00:00",
          "2006-11-01T00:00:00",
          "2006-12-01T00:00:00",
          "2007-01-01T00:00:00",
          "2007-02-01T00:00:00",
          "2007-03-01T00:00:00",
          "2007-04-01T00:00:00",
          "2007-05-01T00:00:00",
          "2007-06-01T00:00:00",
          "2007-07-01T00:00:00",
          "2007-08-01T00:00:00",
          "2007-09-01T00:00:00",
          "2007-10-01T00:00:00",
          "2007-11-01T00:00:00",
          "2007-12-01T00:00:00",
          "2008-01-01T00:00:00",
          "2008-02-01T00:00:00",
          "2008-03-01T00:00:00",
          "2008-04-01T00:00:00",
          "2008-05-01T00:00:00",
          "2008-06-01T00:00:00",
          "2008-07-01T00:00:00",
          "2008-08-01T00:00:00",
          "2008-09-01T00:00:00",
          "2008-10-01T00:00:00",
          "2008-11-01T00:00:00",
          "2008-12-01T00:00:00",
          "2009-01-01T00:00:00",
          "2009-02-01T00:00:00",
          "2009-03-01T00:00:00",
          "2009-04-01T00:00:00",
          "2009-05-01T00:00:00",
          "2009-06-01T00:00:00",
          "2009-07-01T00:00:00",
          "2009-08-01T00:00:00",
          "2009-09-01T00:00:00",
          "2009-10-01T00:00:00",
          "2009-11-01T00:00:00",
          "2009-12-01T00:00:00",
          "2010-01-01T00:00:00",
          "2010-02-01T00:00:00",
          "2010-03-01T00:00:00",
          "2010-04-01T00:00:00",
          "2010-05-01T00:00:00",
          "2010-06-01T00:00:00",
          "2010-07-01T00:00:00",
          "2010-08-01T00:00:00",
          "2010-09-01T00:00:00",
          "2010-10-01T00:00:00",
          "2010-11-01T00:00:00",
          "2010-12-01T00:00:00",
          "2011-01-01T00:00:00",
          "2011-02-01T00:00:00",
          "2011-03-01T00:00:00",
          "2011-04-01T00:00:00",
          "2011-05-01T00:00:00",
          "2011-06-01T00:00:00",
          "2011-07-01T00:00:00",
          "2011-08-01T00:00:00",
          "2011-09-01T00:00:00",
          "2011-10-01T00:00:00",
          "2011-11-01T00:00:00",
          "2011-12-01T00:00:00",
          "2012-01-01T00:00:00",
          "2012-02-01T00:00:00",
          "2012-03-01T00:00:00",
          "2012-04-01T00:00:00",
          "2012-05-01T00:00:00",
          "2012-06-01T00:00:00",
          "2012-07-01T00:00:00",
          "2012-08-01T00:00:00",
          "2012-09-01T00:00:00",
          "2012-10-01T00:00:00",
          "2012-11-01T00:00:00",
          "2012-12-01T00:00:00",
          "2013-01-01T00:00:00",
          "2013-02-01T00:00:00",
          "2013-03-01T00:00:00",
          "2013-04-01T00:00:00",
          "2013-05-01T00:00:00",
          "2013-06-01T00:00:00",
          "2013-07-01T00:00:00",
          "2013-08-01T00:00:00",
          "2013-09-01T00:00:00",
          "2013-10-01T00:00:00",
          "2013-11-01T00:00:00",
          "2013-12-01T00:00:00",
          "2014-01-01T00:00:00",
          "2014-02-01T00:00:00",
          "2014-03-01T00:00:00",
          "2014-04-01T00:00:00",
          "2014-05-01T00:00:00",
          "2014-06-01T00:00:00",
          "2014-07-01T00:00:00",
          "2014-08-01T00:00:00",
          "2014-09-01T00:00:00",
          "2014-10-01T00:00:00",
          "2014-11-01T00:00:00",
          "2014-12-01T00:00:00",
          "2015-01-01T00:00:00",
          "2015-02-01T00:00:00",
          "2015-03-01T00:00:00",
          "2015-04-01T00:00:00",
          "2015-05-01T00:00:00",
          "2015-06-01T00:00:00",
          "2015-07-01T00:00:00",
          "2015-08-01T00:00:00",
          "2015-09-01T00:00:00",
          "2015-10-01T00:00:00",
          "2015-11-01T00:00:00",
          "2015-12-01T00:00:00",
          "2016-01-01T00:00:00",
          "2016-02-01T00:00:00",
          "2016-03-01T00:00:00",
          "2016-04-01T00:00:00",
          "2016-05-01T00:00:00",
          "2016-06-01T00:00:00",
          "2016-07-01T00:00:00",
          "2016-08-01T00:00:00",
          "2016-09-01T00:00:00",
          "2016-10-01T00:00:00",
          "2016-11-01T00:00:00",
          "2016-12-01T00:00:00",
          "2017-01-01T00:00:00",
          "2017-02-01T00:00:00",
          "2017-03-01T00:00:00",
          "2017-04-01T00:00:00",
          "2017-05-01T00:00:00",
          "2017-06-01T00:00:00",
          "2017-07-01T00:00:00",
          "2017-08-01T00:00:00",
          "2017-09-01T00:00:00",
          "2017-10-01T00:00:00",
          "2017-11-01T00:00:00",
          "2017-12-01T00:00:00",
          "2018-01-01T00:00:00",
          "2018-02-01T00:00:00",
          "2018-03-01T00:00:00",
          "2018-04-01T00:00:00",
          "2018-05-01T00:00:00",
          "2018-06-01T00:00:00",
          "2018-07-01T00:00:00",
          "2018-08-01T00:00:00",
          "2018-09-01T00:00:00",
          "2018-10-01T00:00:00",
          "2018-11-01T00:00:00",
          "2018-12-01T00:00:00",
          "2019-01-01T00:00:00",
          "2019-02-01T00:00:00",
          "2019-03-01T00:00:00",
          "2019-04-01T00:00:00",
          "2019-05-01T00:00:00",
          "2019-06-01T00:00:00",
          "2019-07-01T00:00:00",
          "2019-08-01T00:00:00",
          "2019-09-01T00:00:00",
          "2019-10-01T00:00:00",
          "2019-11-01T00:00:00",
          "2019-12-01T00:00:00",
          "2020-01-01T00:00:00",
          "2020-02-01T00:00:00",
          "2020-03-01T00:00:00",
          "2020-04-01T00:00:00",
          "2020-05-01T00:00:00",
          "2020-06-01T00:00:00",
          "2020-07-01T00:00:00",
          "2020-08-01T00:00:00",
          "2020-09-01T00:00:00",
          "2020-10-01T00:00:00",
          "2020-11-01T00:00:00",
          "2020-12-01T00:00:00",
          "2021-01-01T00:00:00",
          "2021-02-01T00:00:00",
          "2021-03-01T00:00:00",
          "2021-04-01T00:00:00",
          "2021-05-01T00:00:00",
          "2021-06-01T00:00:00",
          "2021-07-01T00:00:00",
          "2021-08-01T00:00:00",
          "2021-09-01T00:00:00",
          "2021-10-01T00:00:00",
          "2021-11-01T00:00:00",
          "2021-12-01T00:00:00",
          "2022-01-01T00:00:00",
          "2022-02-01T00:00:00",
          "2022-03-01T00:00:00",
          "2022-04-01T00:00:00",
          "2022-05-01T00:00:00",
          "2022-06-01T00:00:00",
          "2022-07-01T00:00:00",
          "2022-08-01T00:00:00",
          "2022-09-01T00:00:00",
          "2022-10-01T00:00:00",
          "2022-11-01T00:00:00",
          "2022-12-01T00:00:00",
          "2023-01-01T00:00:00",
          "2023-02-01T00:00:00",
          "2023-03-01T00:00:00",
          "2023-04-01T00:00:00",
          "2023-05-01T00:00:00",
          "2023-06-01T00:00:00",
          "2023-07-01T00:00:00",
          "2023-08-01T00:00:00",
          "2023-09-01T00:00:00",
          "2023-10-01T00:00:00",
          "2023-11-01T00:00:00",
          "2023-12-01T00:00:00",
          "2024-01-01T00:00:00",
          "2024-02-01T00:00:00",
          "2024-03-01T00:00:00",
          "2024-04-01T00:00:00",
          "2024-05-01T00:00:00",
          "2024-06-01T00:00:00",
          "2024-07-01T00:00:00",
          "2024-08-01T00:00:00"
         ],
         "xaxis": "x",
         "y": [
          27.67,
          27.8,
          27.86,
          27.93,
          28.0,
          28.11,
          28.19,
          28.28,
          28.32,
          28.32,
          28.41,
          28.47,
          28.64,
          28.7,
          28.87,
          28.94,
          28.94,
          28.91,
          28.89,
          28.94,
          28.91,
          28.91,
          28.95,
          28.97,
          29.01,
          29.0,
          28.97,
          28.98,
          29.04,
          29.11,
          29.15,
          29.18,
          29.25,
          29.35,
          29.35,
          29.41,
          29.37,
          29.41,
          29.41,
          29.54,
          29.57,
          29.61,
          29.55,
          29.61,
          29.61,
          29.75,
          29.78,
          29.81,
          29.84,
          29.84,
          29.84,
          29.81,
          29.84,
          29.84,
          29.92,
          29.94,
          29.98,
          29.98,
          29.98,
          30.01,
          30.04,
          30.11,
          30.17,
          30.21,
          30.24,
          30.21,
          30.22,
          30.28,
          30.42,
          30.38,
          30.38,
          30.38,
          30.44,
          30.48,
          30.51,
          30.48,
          30.51,
          30.61,
          30.69,
          30.75,
          30.72,
          30.75,
          30.78,
          30.88,
          30.94,
          30.91,
          30.94,
          30.95,
          30.98,
          31.01,
          31.02,
          31.05,
          31.08,
          31.12,
          31.21,
          31.25,
          31.28,
          31.28,
          31.31,
          31.38,
          31.48,
          31.61,
          31.58,
          31.55,
          31.62,
          31.65,
          31.75,
          31.85,
          31.88,
          32.08,
          32.18,
          32.28,
          32.35,
          32.38,
          32.45,
          32.65,
          32.75,
          32.85,
          32.88,
          32.92,
          32.9,
          33.0,
          33.0,
          33.1,
          33.1,
          33.3,
          33.4,
          33.5,
          33.6,
          33.7,
          33.9,
          34.0,
          34.1,
          34.2,
          34.3,
          34.4,
          34.5,
          34.7,
          34.9,
          35.0,
          35.1,
          35.3,
          35.4,
          35.6,
          35.7,
          35.8,
          36.1,
          36.3,
          36.4,
          36.6,
          36.8,
          36.9,
          37.1,
          37.3,
          37.5,
          37.7,
          37.9,
          38.1,
          38.3,
          38.5,
          38.6,
          38.8,
          38.9,
          39.0,
          39.2,
          39.4,
          39.6,
          39.8,
          39.9,
          39.9,
          40.0,
          40.1,
          40.3,
          40.5,
          40.6,
          40.7,
          40.8,
          40.9,
          41.0,
          41.1,
          41.2,
          41.4,
          41.4,
          41.5,
          41.6,
          41.7,
          41.8,
          41.9,
          42.1,
          42.2,
          42.4,
          42.5,
          42.7,
          43.0,
          43.4,
          43.7,
          43.9,
          44.2,
          44.2,
          45.0,
          45.2,
          45.6,
          45.9,
          46.3,
          46.8,
          47.3,
          47.8,
          48.1,
          48.6,
          49.0,
          49.3,
          49.9,
          50.6,
          51.0,
          51.5,
          51.9,
          52.3,
          52.6,
          52.8,
          53.0,
          53.1,
          53.5,
          54.0,
          54.2,
          54.6,
          54.9,
          55.3,
          55.6,
          55.8,
          55.9,
          56.0,
          56.1,
          56.4,
          56.7,
          57.0,
          57.3,
          57.6,
          57.9,
          58.1,
          58.4,
          58.7,
          59.3,
          59.6,
          60.0,
          60.2,
          60.5,
          60.8,
          61.1,
          61.3,
          61.6,
          62.0,
          62.3,
          62.7,
          63.0,
          63.4,
          63.9,
          64.5,
          65.0,
          65.5,
          65.9,
          66.5,
          67.1,
          67.5,
          67.9,
          68.5,
          69.2,
          69.9,
          70.6,
          71.4,
          72.2,
          73.0,
          73.7,
          74.4,
          75.2,
          76.0,
          76.9,
          78.0,
          79.0,
          80.1,
          80.9,
          81.7,
          82.5,
          82.6,
          83.2,
          83.9,
          84.7,
          85.6,
          86.4,
          87.2,
          88.0,
          88.6,
          89.1,
          89.7,
          90.5,
          91.5,
          92.2,
          93.1,
          93.4,
          93.8,
          94.1,
          94.4,
          94.7,
          94.7,
          95.0,
          95.9,
          97.0,
          97.5,
          97.7,
          97.7,
          98.1,
          98.0,
          97.7,
          97.9,
          98.0,
          98.1,
          98.8,
          99.2,
          99.4,
          99.8,
          100.1,
          100.4,
          100.8,
          101.1,
          101.4,
          102.1,
          102.6,
          102.9,
          103.3,
          103.5,
          103.7,
          104.1,
          104.4,
          104.7,
          105.1,
          105.3,
          105.5,
          105.7,
          106.3,
          106.8,
          107.0,
          107.2,
          107.5,
          107.7,
          107.9,
          108.1,
          108.5,
          109.0,
          109.5,
          109.9,
          109.7,
          109.1,
          108.7,
          109.0,
          109.4,
          109.5,
          109.6,
          110.0,
          110.2,
          110.4,
          110.8,
          111.4,
          111.8,
          112.2,
          112.7,
          113.0,
          113.5,
          113.8,
          114.3,
          114.7,
          115.0,
          115.4,
          115.6,
          116.0,
          116.2,
          116.5,
          117.2,
          117.5,
          118.0,
          118.5,
          119.0,
          119.5,
          119.9,
          120.3,
          120.7,
          121.2,
          121.6,
          122.2,
          123.1,
          123.7,
          124.1,
          124.5,
          124.5,
          124.8,
          125.4,
          125.9,
          126.3,
          127.5,
          128.0,
          128.6,
          128.9,
          129.1,
          129.9,
          130.5,
          131.6,
          132.5,
          133.4,
          133.7,
          134.2,
          134.7,
          134.8,
          134.8,
          135.1,
          135.6,
          136.0,
          136.2,
          136.6,
          137.0,
          137.2,
          137.8,
          138.2,
          138.3,
          138.6,
          139.1,
          139.4,
          139.7,
          140.1,
          140.5,
          140.8,
          141.1,
          141.7,
          142.1,
          142.3,
          142.8,
          143.1,
          143.3,
          143.8,
          144.2,
          144.3,
          144.5,
          144.8,
          145.0,
          145.6,
          146.0,
          146.3,
          146.3,
          146.7,
          147.1,
          147.2,
          147.5,
          147.9,
          148.4,
          149.0,
          149.3,
          149.4,
          149.8,
          150.1,
          150.5,
          150.9,
          151.2,
          151.8,
          152.1,
          152.4,
          152.6,
          152.9,
          153.1,
          153.5,
          153.7,
          153.9,
          154.7,
          155.0,
          155.5,
          156.1,
          156.4,
          156.7,
          157.0,
          157.2,
          157.7,
          158.2,
          158.7,
          159.1,
          159.4,
          159.7,
          159.8,
          159.9,
          159.9,
          160.2,
          160.4,
          160.8,
          161.2,
          161.5,
          161.7,
          161.8,
          162.0,
          162.0,
          162.0,
          162.2,
          162.6,
          162.8,
          163.2,
          163.4,
          163.5,
          163.9,
          164.1,
          164.4,
          164.7,
          164.7,
          164.8,
          165.9,
          166.0,
          166.0,
          166.7,
          167.1,
          167.8,
          168.1,
          168.4,
          168.8,
          169.3,
          170.0,
          171.0,
          170.9,
          171.2,
          172.2,
          172.7,
          172.7,
          173.6,
          173.9,
          174.2,
          174.6,
          175.6,
          176.0,
          176.1,
          176.4,
          177.3,
          177.7,
          177.4,
          177.4,
          178.1,
          177.6,
          177.5,
          177.4,
          177.7,
          178.0,
          178.5,
          179.3,
          179.5,
          179.6,
          180.0,
          180.5,
          180.8,
          181.2,
          181.5,
          181.8,
          182.6,
          183.6,
          183.9,
          183.2,
          182.9,
          183.1,
          183.7,
          184.5,
          185.1,
          184.9,
          185.0,
          185.5,
          186.3,
          186.7,
          187.1,
          187.4,
          188.2,
          188.9,
          189.1,
          189.2,
          189.8,
          190.8,
          191.7,
          191.7,
          191.6,
          192.4,
          193.1,
          193.7,
          193.6,
          193.7,
          194.9,
          196.1,
          198.8,
          199.1,
          198.1,
          198.1,
          199.3,
          199.4,
          199.7,
          200.7,
          201.3,
          201.8,
          202.9,
          203.8,
          202.8,
          201.9,
          202.0,
          203.1,
          203.437,
          204.226,
          205.288,
          205.904,
          206.755,
          207.234,
          207.603,
          207.667,
          208.547,
          209.19,
          210.834,
          211.445,
          212.174,
          212.687,
          213.448,
          213.942,
          215.208,
          217.463,
          219.016,
          218.69,
          218.877,
          216.995,
          213.153,
          211.398,
          211.933,
          212.705,
          212.495,
          212.709,
          213.022,
          214.79,
          214.726,
          215.445,
          215.861,
          216.509,
          217.234,
          217.347,
          217.488,
          217.281,
          217.353,
          217.403,
          217.29,
          217.199,
          217.605,
          217.923,
          218.275,
          219.035,
          219.59,
          220.472,
          221.187,
          221.898,
          223.046,
          224.093,
          224.806,
          224.806,
          225.395,
          226.106,
          226.597,
          226.75,
          227.169,
          227.223,
          227.842,
          228.329,
          228.807,
          229.187,
          228.713,
          228.524,
          228.59,
          229.918,
          231.015,
          231.638,
          231.249,
          231.221,
          231.679,
          232.937,
          232.282,
          231.797,
          231.893,
          232.445,
          232.9,
          233.456,
          233.544,
          233.669,
          234.1,
          234.719,
          235.288,
          235.547,
          236.028,
          236.468,
          236.918,
          237.231,
          237.498,
          237.46,
          237.477,
          237.43,
          236.983,
          236.252,
          234.747,
          235.342,
          235.976,
          236.222,
          237.001,
          237.657,
          238.034,
          238.033,
          237.498,
          237.733,
          238.017,
          237.761,
          237.652,
          237.336,
          238.08,
          238.992,
          239.557,
          240.222,
          240.101,
          240.545,
          241.176,
          241.741,
          242.026,
          242.637,
          243.618,
          244.006,
          243.892,
          244.193,
          244.004,
          244.163,
          244.243,
          245.183,
          246.435,
          246.626,
          247.284,
          247.805,
          248.859,
          249.529,
          249.577,
          250.227,
          250.792,
          251.018,
          251.214,
          251.663,
          252.182,
          252.772,
          252.594,
          252.767,
          252.561,
          253.319,
          254.277,
          255.233,
          255.296,
          255.213,
          255.802,
          256.036,
          256.43,
          257.155,
          257.879,
          258.63,
          258.906,
          259.246,
          258.15,
          256.126,
          255.848,
          257.004,
          258.408,
          259.366,
          259.951,
          260.249,
          260.895,
          262.005,
          262.518,
          263.583,
          264.91,
          266.752,
          268.452,
          270.664,
          271.994,
          272.789,
          273.887,
          276.434,
          278.799,
          280.808,
          282.39,
          284.535,
          287.553,
          288.764,
          291.359,
          294.996,
          294.977,
          295.209,
          296.341,
          297.863,
          298.648,
          298.812,
          300.356,
          301.509,
          301.744,
          303.032,
          303.365,
          304.003,
          304.628,
          306.187,
          307.288,
          307.531,
          308.024,
          308.742,
          309.685,
          311.054,
          312.23,
          313.207,
          313.225,
          313.049,
          313.534,
          314.121
         ],
         "yaxis": "y",
         "type": "scattergl"
        },
        {
         "hovertemplate": "variable=CPI_Less_Food_Energy<br>Date=%{x}<br>value=%{y}<extra></extra>",
         "legendgroup": "CPI_Less_Food_Energy",
         "line": {
          "color": "#EF553B",
          "dash": "solid"
         },
         "marker": {
          "symbol": "circle"
         },
         "mode": "lines",
         "name": "CPI_Less_Food_Energy",
         "showlegend": true,
         "x": [
          "1957-01-01T00:00:00",
          "1957-02-01T00:00:00",
          "1957-03-01T00:00:00",
          "1957-04-01T00:00:00",
          "1957-05-01T00:00:00",
          "1957-06-01T00:00:00",
          "1957-07-01T00:00:00",
          "1957-08-01T00:00:00",
          "1957-09-01T00:00:00",
          "1957-10-01T00:00:00",
          "1957-11-01T00:00:00",
          "1957-12-01T00:00:00",
          "1958-01-01T00:00:00",
          "1958-02-01T00:00:00",
          "1958-03-01T00:00:00",
          "1958-04-01T00:00:00",
          "1958-05-01T00:00:00",
          "1958-06-01T00:00:00",
          "1958-07-01T00:00:00",
          "1958-08-01T00:00:00",
          "1958-09-01T00:00:00",
          "1958-10-01T00:00:00",
          "1958-11-01T00:00:00",
          "1958-12-01T00:00:00",
          "1959-01-01T00:00:00",
          "1959-02-01T00:00:00",
          "1959-03-01T00:00:00",
          "1959-04-01T00:00:00",
          "1959-05-01T00:00:00",
          "1959-06-01T00:00:00",
          "1959-07-01T00:00:00",
          "1959-08-01T00:00:00",
          "1959-09-01T00:00:00",
          "1959-10-01T00:00:00",
          "1959-11-01T00:00:00",
          "1959-12-01T00:00:00",
          "1960-01-01T00:00:00",
          "1960-02-01T00:00:00",
          "1960-03-01T00:00:00",
          "1960-04-01T00:00:00",
          "1960-05-01T00:00:00",
          "1960-06-01T00:00:00",
          "1960-07-01T00:00:00",
          "1960-08-01T00:00:00",
          "1960-09-01T00:00:00",
          "1960-10-01T00:00:00",
          "1960-11-01T00:00:00",
          "1960-12-01T00:00:00",
          "1961-01-01T00:00:00",
          "1961-02-01T00:00:00",
          "1961-03-01T00:00:00",
          "1961-04-01T00:00:00",
          "1961-05-01T00:00:00",
          "1961-06-01T00:00:00",
          "1961-07-01T00:00:00",
          "1961-08-01T00:00:00",
          "1961-09-01T00:00:00",
          "1961-10-01T00:00:00",
          "1961-11-01T00:00:00",
          "1961-12-01T00:00:00",
          "1962-01-01T00:00:00",
          "1962-02-01T00:00:00",
          "1962-03-01T00:00:00",
          "1962-04-01T00:00:00",
          "1962-05-01T00:00:00",
          "1962-06-01T00:00:00",
          "1962-07-01T00:00:00",
          "1962-08-01T00:00:00",
          "1962-09-01T00:00:00",
          "1962-10-01T00:00:00",
          "1962-11-01T00:00:00",
          "1962-12-01T00:00:00",
          "1963-01-01T00:00:00",
          "1963-02-01T00:00:00",
          "1963-03-01T00:00:00",
          "1963-04-01T00:00:00",
          "1963-05-01T00:00:00",
          "1963-06-01T00:00:00",
          "1963-07-01T00:00:00",
          "1963-08-01T00:00:00",
          "1963-09-01T00:00:00",
          "1963-10-01T00:00:00",
          "1963-11-01T00:00:00",
          "1963-12-01T00:00:00",
          "1964-01-01T00:00:00",
          "1964-02-01T00:00:00",
          "1964-03-01T00:00:00",
          "1964-04-01T00:00:00",
          "1964-05-01T00:00:00",
          "1964-06-01T00:00:00",
          "1964-07-01T00:00:00",
          "1964-08-01T00:00:00",
          "1964-09-01T00:00:00",
          "1964-10-01T00:00:00",
          "1964-11-01T00:00:00",
          "1964-12-01T00:00:00",
          "1965-01-01T00:00:00",
          "1965-02-01T00:00:00",
          "1965-03-01T00:00:00",
          "1965-04-01T00:00:00",
          "1965-05-01T00:00:00",
          "1965-06-01T00:00:00",
          "1965-07-01T00:00:00",
          "1965-08-01T00:00:00",
          "1965-09-01T00:00:00",
          "1965-10-01T00:00:00",
          "1965-11-01T00:00:00",
          "1965-12-01T00:00:00",
          "1966-01-01T00:00:00",
          "1966-02-01T00:00:00",
          "1966-03-01T00:00:00",
          "1966-04-01T00:00:00",
          "1966-05-01T00:00:00",
          "1966-06-01T00:00:00",
          "1966-07-01T00:00:00",
          "1966-08-01T00:00:00",
          "1966-09-01T00:00:00",
          "1966-10-01T00:00:00",
          "1966-11-01T00:00:00",
          "1966-12-01T00:00:00",
          "1967-01-01T00:00:00",
          "1967-02-01T00:00:00",
          "1967-03-01T00:00:00",
          "1967-04-01T00:00:00",
          "1967-05-01T00:00:00",
          "1967-06-01T00:00:00",
          "1967-07-01T00:00:00",
          "1967-08-01T00:00:00",
          "1967-09-01T00:00:00",
          "1967-10-01T00:00:00",
          "1967-11-01T00:00:00",
          "1967-12-01T00:00:00",
          "1968-01-01T00:00:00",
          "1968-02-01T00:00:00",
          "1968-03-01T00:00:00",
          "1968-04-01T00:00:00",
          "1968-05-01T00:00:00",
          "1968-06-01T00:00:00",
          "1968-07-01T00:00:00",
          "1968-08-01T00:00:00",
          "1968-09-01T00:00:00",
          "1968-10-01T00:00:00",
          "1968-11-01T00:00:00",
          "1968-12-01T00:00:00",
          "1969-01-01T00:00:00",
          "1969-02-01T00:00:00",
          "1969-03-01T00:00:00",
          "1969-04-01T00:00:00",
          "1969-05-01T00:00:00",
          "1969-06-01T00:00:00",
          "1969-07-01T00:00:00",
          "1969-08-01T00:00:00",
          "1969-09-01T00:00:00",
          "1969-10-01T00:00:00",
          "1969-11-01T00:00:00",
          "1969-12-01T00:00:00",
          "1970-01-01T00:00:00",
          "1970-02-01T00:00:00",
          "1970-03-01T00:00:00",
          "1970-04-01T00:00:00",
          "1970-05-01T00:00:00",
          "1970-06-01T00:00:00",
          "1970-07-01T00:00:00",
          "1970-08-01T00:00:00",
          "1970-09-01T00:00:00",
          "1970-10-01T00:00:00",
          "1970-11-01T00:00:00",
          "1970-12-01T00:00:00",
          "1971-01-01T00:00:00",
          "1971-02-01T00:00:00",
          "1971-03-01T00:00:00",
          "1971-04-01T00:00:00",
          "1971-05-01T00:00:00",
          "1971-06-01T00:00:00",
          "1971-07-01T00:00:00",
          "1971-08-01T00:00:00",
          "1971-09-01T00:00:00",
          "1971-10-01T00:00:00",
          "1971-11-01T00:00:00",
          "1971-12-01T00:00:00",
          "1972-01-01T00:00:00",
          "1972-02-01T00:00:00",
          "1972-03-01T00:00:00",
          "1972-04-01T00:00:00",
          "1972-05-01T00:00:00",
          "1972-06-01T00:00:00",
          "1972-07-01T00:00:00",
          "1972-08-01T00:00:00",
          "1972-09-01T00:00:00",
          "1972-10-01T00:00:00",
          "1972-11-01T00:00:00",
          "1972-12-01T00:00:00",
          "1973-01-01T00:00:00",
          "1973-02-01T00:00:00",
          "1973-03-01T00:00:00",
          "1973-04-01T00:00:00",
          "1973-05-01T00:00:00",
          "1973-06-01T00:00:00",
          "1973-07-01T00:00:00",
          "1973-08-01T00:00:00",
          "1973-09-01T00:00:00",
          "1973-10-01T00:00:00",
          "1973-11-01T00:00:00",
          "1973-12-01T00:00:00",
          "1974-01-01T00:00:00",
          "1974-02-01T00:00:00",
          "1974-03-01T00:00:00",
          "1974-04-01T00:00:00",
          "1974-05-01T00:00:00",
          "1974-06-01T00:00:00",
          "1974-07-01T00:00:00",
          "1974-08-01T00:00:00",
          "1974-09-01T00:00:00",
          "1974-10-01T00:00:00",
          "1974-11-01T00:00:00",
          "1974-12-01T00:00:00",
          "1975-01-01T00:00:00",
          "1975-02-01T00:00:00",
          "1975-03-01T00:00:00",
          "1975-04-01T00:00:00",
          "1975-05-01T00:00:00",
          "1975-06-01T00:00:00",
          "1975-07-01T00:00:00",
          "1975-08-01T00:00:00",
          "1975-09-01T00:00:00",
          "1975-10-01T00:00:00",
          "1975-11-01T00:00:00",
          "1975-12-01T00:00:00",
          "1976-01-01T00:00:00",
          "1976-02-01T00:00:00",
          "1976-03-01T00:00:00",
          "1976-04-01T00:00:00",
          "1976-05-01T00:00:00",
          "1976-06-01T00:00:00",
          "1976-07-01T00:00:00",
          "1976-08-01T00:00:00",
          "1976-09-01T00:00:00",
          "1976-10-01T00:00:00",
          "1976-11-01T00:00:00",
          "1976-12-01T00:00:00",
          "1977-01-01T00:00:00",
          "1977-02-01T00:00:00",
          "1977-03-01T00:00:00",
          "1977-04-01T00:00:00",
          "1977-05-01T00:00:00",
          "1977-06-01T00:00:00",
          "1977-07-01T00:00:00",
          "1977-08-01T00:00:00",
          "1977-09-01T00:00:00",
          "1977-10-01T00:00:00",
          "1977-11-01T00:00:00",
          "1977-12-01T00:00:00",
          "1978-01-01T00:00:00",
          "1978-02-01T00:00:00",
          "1978-03-01T00:00:00",
          "1978-04-01T00:00:00",
          "1978-05-01T00:00:00",
          "1978-06-01T00:00:00",
          "1978-07-01T00:00:00",
          "1978-08-01T00:00:00",
          "1978-09-01T00:00:00",
          "1978-10-01T00:00:00",
          "1978-11-01T00:00:00",
          "1978-12-01T00:00:00",
          "1979-01-01T00:00:00",
          "1979-02-01T00:00:00",
          "1979-03-01T00:00:00",
          "1979-04-01T00:00:00",
          "1979-05-01T00:00:00",
          "1979-06-01T00:00:00",
          "1979-07-01T00:00:00",
          "1979-08-01T00:00:00",
          "1979-09-01T00:00:00",
          "1979-10-01T00:00:00",
          "1979-11-01T00:00:00",
          "1979-12-01T00:00:00",
          "1980-01-01T00:00:00",
          "1980-02-01T00:00:00",
          "1980-03-01T00:00:00",
          "1980-04-01T00:00:00",
          "1980-05-01T00:00:00",
          "1980-06-01T00:00:00",
          "1980-07-01T00:00:00",
          "1980-08-01T00:00:00",
          "1980-09-01T00:00:00",
          "1980-10-01T00:00:00",
          "1980-11-01T00:00:00",
          "1980-12-01T00:00:00",
          "1981-01-01T00:00:00",
          "1981-02-01T00:00:00",
          "1981-03-01T00:00:00",
          "1981-04-01T00:00:00",
          "1981-05-01T00:00:00",
          "1981-06-01T00:00:00",
          "1981-07-01T00:00:00",
          "1981-08-01T00:00:00",
          "1981-09-01T00:00:00",
          "1981-10-01T00:00:00",
          "1981-11-01T00:00:00",
          "1981-12-01T00:00:00",
          "1982-01-01T00:00:00",
          "1982-02-01T00:00:00",
          "1982-03-01T00:00:00",
          "1982-04-01T00:00:00",
          "1982-05-01T00:00:00",
          "1982-06-01T00:00:00",
          "1982-07-01T00:00:00",
          "1982-08-01T00:00:00",
          "1982-09-01T00:00:00",
          "1982-10-01T00:00:00",
          "1982-11-01T00:00:00",
          "1982-12-01T00:00:00",
          "1983-01-01T00:00:00",
          "1983-02-01T00:00:00",
          "1983-03-01T00:00:00",
          "1983-04-01T00:00:00",
          "1983-05-01T00:00:00",
          "1983-06-01T00:00:00",
          "1983-07-01T00:00:00",
          "1983-08-01T00:00:00",
          "1983-09-01T00:00:00",
          "1983-10-01T00:00:00",
          "1983-11-01T00:00:00",
          "1983-12-01T00:00:00",
          "1984-01-01T00:00:00",
          "1984-02-01T00:00:00",
          "1984-03-01T00:00:00",
          "1984-04-01T00:00:00",
          "1984-05-01T00:00:00",
          "1984-06-01T00:00:00",
          "1984-07-01T00:00:00",
          "1984-08-01T00:00:00",
          "1984-09-01T00:00:00",
          "1984-10-01T00:00:00",
          "1984-11-01T00:00:00",
          "1984-12-01T00:00:00",
          "1985-01-01T00:00:00",
          "1985-02-01T00:00:00",
          "1985-03-01T00:00:00",
          "1985-04-01T00:00:00",
          "1985-05-01T00:00:00",
          "1985-06-01T00:00:00",
          "1985-07-01T00:00:00",
          "1985-08-01T00:00:00",
          "1985-09-01T00:00:00",
          "1985-10-01T00:00:00",
          "1985-11-01T00:00:00",
          "1985-12-01T00:00:00",
          "1986-01-01T00:00:00",
          "1986-02-01T00:00:00",
          "1986-03-01T00:00:00",
          "1986-04-01T00:00:00",
          "1986-05-01T00:00:00",
          "1986-06-01T00:00:00",
          "1986-07-01T00:00:00",
          "1986-08-01T00:00:00",
          "1986-09-01T00:00:00",
          "1986-10-01T00:00:00",
          "1986-11-01T00:00:00",
          "1986-12-01T00:00:00",
          "1987-01-01T00:00:00",
          "1987-02-01T00:00:00",
          "1987-03-01T00:00:00",
          "1987-04-01T00:00:00",
          "1987-05-01T00:00:00",
          "1987-06-01T00:00:00",
          "1987-07-01T00:00:00",
          "1987-08-01T00:00:00",
          "1987-09-01T00:00:00",
          "1987-10-01T00:00:00",
          "1987-11-01T00:00:00",
          "1987-12-01T00:00:00",
          "1988-01-01T00:00:00",
          "1988-02-01T00:00:00",
          "1988-03-01T00:00:00",
          "1988-04-01T00:00:00",
          "1988-05-01T00:00:00",
          "1988-06-01T00:00:00",
          "1988-07-01T00:00:00",
          "1988-08-01T00:00:00",
          "1988-09-01T00:00:00",
          "1988-10-01T00:00:00",
          "1988-11-01T00:00:00",
          "1988-12-01T00:00:00",
          "1989-01-01T00:00:00",
          "1989-02-01T00:00:00",
          "1989-03-01T00:00:00",
          "1989-04-01T00:00:00",
          "1989-05-01T00:00:00",
          "1989-06-01T00:00:00",
          "1989-07-01T00:00:00",
          "1989-08-01T00:00:00",
          "1989-09-01T00:00:00",
          "1989-10-01T00:00:00",
          "1989-11-01T00:00:00",
          "1989-12-01T00:00:00",
          "1990-01-01T00:00:00",
          "1990-02-01T00:00:00",
          "1990-03-01T00:00:00",
          "1990-04-01T00:00:00",
          "1990-05-01T00:00:00",
          "1990-06-01T00:00:00",
          "1990-07-01T00:00:00",
          "1990-08-01T00:00:00",
          "1990-09-01T00:00:00",
          "1990-10-01T00:00:00",
          "1990-11-01T00:00:00",
          "1990-12-01T00:00:00",
          "1991-01-01T00:00:00",
          "1991-02-01T00:00:00",
          "1991-03-01T00:00:00",
          "1991-04-01T00:00:00",
          "1991-05-01T00:00:00",
          "1991-06-01T00:00:00",
          "1991-07-01T00:00:00",
          "1991-08-01T00:00:00",
          "1991-09-01T00:00:00",
          "1991-10-01T00:00:00",
          "1991-11-01T00:00:00",
          "1991-12-01T00:00:00",
          "1992-01-01T00:00:00",
          "1992-02-01T00:00:00",
          "1992-03-01T00:00:00",
          "1992-04-01T00:00:00",
          "1992-05-01T00:00:00",
          "1992-06-01T00:00:00",
          "1992-07-01T00:00:00",
          "1992-08-01T00:00:00",
          "1992-09-01T00:00:00",
          "1992-10-01T00:00:00",
          "1992-11-01T00:00:00",
          "1992-12-01T00:00:00",
          "1993-01-01T00:00:00",
          "1993-02-01T00:00:00",
          "1993-03-01T00:00:00",
          "1993-04-01T00:00:00",
          "1993-05-01T00:00:00",
          "1993-06-01T00:00:00",
          "1993-07-01T00:00:00",
          "1993-08-01T00:00:00",
          "1993-09-01T00:00:00",
          "1993-10-01T00:00:00",
          "1993-11-01T00:00:00",
          "1993-12-01T00:00:00",
          "1994-01-01T00:00:00",
          "1994-02-01T00:00:00",
          "1994-03-01T00:00:00",
          "1994-04-01T00:00:00",
          "1994-05-01T00:00:00",
          "1994-06-01T00:00:00",
          "1994-07-01T00:00:00",
          "1994-08-01T00:00:00",
          "1994-09-01T00:00:00",
          "1994-10-01T00:00:00",
          "1994-11-01T00:00:00",
          "1994-12-01T00:00:00",
          "1995-01-01T00:00:00",
          "1995-02-01T00:00:00",
          "1995-03-01T00:00:00",
          "1995-04-01T00:00:00",
          "1995-05-01T00:00:00",
          "1995-06-01T00:00:00",
          "1995-07-01T00:00:00",
          "1995-08-01T00:00:00",
          "1995-09-01T00:00:00",
          "1995-10-01T00:00:00",
          "1995-11-01T00:00:00",
          "1995-12-01T00:00:00",
          "1996-01-01T00:00:00",
          "1996-02-01T00:00:00",
          "1996-03-01T00:00:00",
          "1996-04-01T00:00:00",
          "1996-05-01T00:00:00",
          "1996-06-01T00:00:00",
          "1996-07-01T00:00:00",
          "1996-08-01T00:00:00",
          "1996-09-01T00:00:00",
          "1996-10-01T00:00:00",
          "1996-11-01T00:00:00",
          "1996-12-01T00:00:00",
          "1997-01-01T00:00:00",
          "1997-02-01T00:00:00",
          "1997-03-01T00:00:00",
          "1997-04-01T00:00:00",
          "1997-05-01T00:00:00",
          "1997-06-01T00:00:00",
          "1997-07-01T00:00:00",
          "1997-08-01T00:00:00",
          "1997-09-01T00:00:00",
          "1997-10-01T00:00:00",
          "1997-11-01T00:00:00",
          "1997-12-01T00:00:00",
          "1998-01-01T00:00:00",
          "1998-02-01T00:00:00",
          "1998-03-01T00:00:00",
          "1998-04-01T00:00:00",
          "1998-05-01T00:00:00",
          "1998-06-01T00:00:00",
          "1998-07-01T00:00:00",
          "1998-08-01T00:00:00",
          "1998-09-01T00:00:00",
          "1998-10-01T00:00:00",
          "1998-11-01T00:00:00",
          "1998-12-01T00:00:00",
          "1999-01-01T00:00:00",
          "1999-02-01T00:00:00",
          "1999-03-01T00:00:00",
          "1999-04-01T00:00:00",
          "1999-05-01T00:00:00",
          "1999-06-01T00:00:00",
          "1999-07-01T00:00:00",
          "1999-08-01T00:00:00",
          "1999-09-01T00:00:00",
          "1999-10-01T00:00:00",
          "1999-11-01T00:00:00",
          "1999-12-01T00:00:00",
          "2000-01-01T00:00:00",
          "2000-02-01T00:00:00",
          "2000-03-01T00:00:00",
          "2000-04-01T00:00:00",
          "2000-05-01T00:00:00",
          "2000-06-01T00:00:00",
          "2000-07-01T00:00:00",
          "2000-08-01T00:00:00",
          "2000-09-01T00:00:00",
          "2000-10-01T00:00:00",
          "2000-11-01T00:00:00",
          "2000-12-01T00:00:00",
          "2001-01-01T00:00:00",
          "2001-02-01T00:00:00",
          "2001-03-01T00:00:00",
          "2001-04-01T00:00:00",
          "2001-05-01T00:00:00",
          "2001-06-01T00:00:00",
          "2001-07-01T00:00:00",
          "2001-08-01T00:00:00",
          "2001-09-01T00:00:00",
          "2001-10-01T00:00:00",
          "2001-11-01T00:00:00",
          "2001-12-01T00:00:00",
          "2002-01-01T00:00:00",
          "2002-02-01T00:00:00",
          "2002-03-01T00:00:00",
          "2002-04-01T00:00:00",
          "2002-05-01T00:00:00",
          "2002-06-01T00:00:00",
          "2002-07-01T00:00:00",
          "2002-08-01T00:00:00",
          "2002-09-01T00:00:00",
          "2002-10-01T00:00:00",
          "2002-11-01T00:00:00",
          "2002-12-01T00:00:00",
          "2003-01-01T00:00:00",
          "2003-02-01T00:00:00",
          "2003-03-01T00:00:00",
          "2003-04-01T00:00:00",
          "2003-05-01T00:00:00",
          "2003-06-01T00:00:00",
          "2003-07-01T00:00:00",
          "2003-08-01T00:00:00",
          "2003-09-01T00:00:00",
          "2003-10-01T00:00:00",
          "2003-11-01T00:00:00",
          "2003-12-01T00:00:00",
          "2004-01-01T00:00:00",
          "2004-02-01T00:00:00",
          "2004-03-01T00:00:00",
          "2004-04-01T00:00:00",
          "2004-05-01T00:00:00",
          "2004-06-01T00:00:00",
          "2004-07-01T00:00:00",
          "2004-08-01T00:00:00",
          "2004-09-01T00:00:00",
          "2004-10-01T00:00:00",
          "2004-11-01T00:00:00",
          "2004-12-01T00:00:00",
          "2005-01-01T00:00:00",
          "2005-02-01T00:00:00",
          "2005-03-01T00:00:00",
          "2005-04-01T00:00:00",
          "2005-05-01T00:00:00",
          "2005-06-01T00:00:00",
          "2005-07-01T00:00:00",
          "2005-08-01T00:00:00",
          "2005-09-01T00:00:00",
          "2005-10-01T00:00:00",
          "2005-11-01T00:00:00",
          "2005-12-01T00:00:00",
          "2006-01-01T00:00:00",
          "2006-02-01T00:00:00",
          "2006-03-01T00:00:00",
          "2006-04-01T00:00:00",
          "2006-05-01T00:00:00",
          "2006-06-01T00:00:00",
          "2006-07-01T00:00:00",
          "2006-08-01T00:00:00",
          "2006-09-01T00:00:00",
          "2006-10-01T00:00:00",
          "2006-11-01T00:00:00",
          "2006-12-01T00:00:00",
          "2007-01-01T00:00:00",
          "2007-02-01T00:00:00",
          "2007-03-01T00:00:00",
          "2007-04-01T00:00:00",
          "2007-05-01T00:00:00",
          "2007-06-01T00:00:00",
          "2007-07-01T00:00:00",
          "2007-08-01T00:00:00",
          "2007-09-01T00:00:00",
          "2007-10-01T00:00:00",
          "2007-11-01T00:00:00",
          "2007-12-01T00:00:00",
          "2008-01-01T00:00:00",
          "2008-02-01T00:00:00",
          "2008-03-01T00:00:00",
          "2008-04-01T00:00:00",
          "2008-05-01T00:00:00",
          "2008-06-01T00:00:00",
          "2008-07-01T00:00:00",
          "2008-08-01T00:00:00",
          "2008-09-01T00:00:00",
          "2008-10-01T00:00:00",
          "2008-11-01T00:00:00",
          "2008-12-01T00:00:00",
          "2009-01-01T00:00:00",
          "2009-02-01T00:00:00",
          "2009-03-01T00:00:00",
          "2009-04-01T00:00:00",
          "2009-05-01T00:00:00",
          "2009-06-01T00:00:00",
          "2009-07-01T00:00:00",
          "2009-08-01T00:00:00",
          "2009-09-01T00:00:00",
          "2009-10-01T00:00:00",
          "2009-11-01T00:00:00",
          "2009-12-01T00:00:00",
          "2010-01-01T00:00:00",
          "2010-02-01T00:00:00",
          "2010-03-01T00:00:00",
          "2010-04-01T00:00:00",
          "2010-05-01T00:00:00",
          "2010-06-01T00:00:00",
          "2010-07-01T00:00:00",
          "2010-08-01T00:00:00",
          "2010-09-01T00:00:00",
          "2010-10-01T00:00:00",
          "2010-11-01T00:00:00",
          "2010-12-01T00:00:00",
          "2011-01-01T00:00:00",
          "2011-02-01T00:00:00",
          "2011-03-01T00:00:00",
          "2011-04-01T00:00:00",
          "2011-05-01T00:00:00",
          "2011-06-01T00:00:00",
          "2011-07-01T00:00:00",
          "2011-08-01T00:00:00",
          "2011-09-01T00:00:00",
          "2011-10-01T00:00:00",
          "2011-11-01T00:00:00",
          "2011-12-01T00:00:00",
          "2012-01-01T00:00:00",
          "2012-02-01T00:00:00",
          "2012-03-01T00:00:00",
          "2012-04-01T00:00:00",
          "2012-05-01T00:00:00",
          "2012-06-01T00:00:00",
          "2012-07-01T00:00:00",
          "2012-08-01T00:00:00",
          "2012-09-01T00:00:00",
          "2012-10-01T00:00:00",
          "2012-11-01T00:00:00",
          "2012-12-01T00:00:00",
          "2013-01-01T00:00:00",
          "2013-02-01T00:00:00",
          "2013-03-01T00:00:00",
          "2013-04-01T00:00:00",
          "2013-05-01T00:00:00",
          "2013-06-01T00:00:00",
          "2013-07-01T00:00:00",
          "2013-08-01T00:00:00",
          "2013-09-01T00:00:00",
          "2013-10-01T00:00:00",
          "2013-11-01T00:00:00",
          "2013-12-01T00:00:00",
          "2014-01-01T00:00:00",
          "2014-02-01T00:00:00",
          "2014-03-01T00:00:00",
          "2014-04-01T00:00:00",
          "2014-05-01T00:00:00",
          "2014-06-01T00:00:00",
          "2014-07-01T00:00:00",
          "2014-08-01T00:00:00",
          "2014-09-01T00:00:00",
          "2014-10-01T00:00:00",
          "2014-11-01T00:00:00",
          "2014-12-01T00:00:00",
          "2015-01-01T00:00:00",
          "2015-02-01T00:00:00",
          "2015-03-01T00:00:00",
          "2015-04-01T00:00:00",
          "2015-05-01T00:00:00",
          "2015-06-01T00:00:00",
          "2015-07-01T00:00:00",
          "2015-08-01T00:00:00",
          "2015-09-01T00:00:00",
          "2015-10-01T00:00:00",
          "2015-11-01T00:00:00",
          "2015-12-01T00:00:00",
          "2016-01-01T00:00:00",
          "2016-02-01T00:00:00",
          "2016-03-01T00:00:00",
          "2016-04-01T00:00:00",
          "2016-05-01T00:00:00",
          "2016-06-01T00:00:00",
          "2016-07-01T00:00:00",
          "2016-08-01T00:00:00",
          "2016-09-01T00:00:00",
          "2016-10-01T00:00:00",
          "2016-11-01T00:00:00",
          "2016-12-01T00:00:00",
          "2017-01-01T00:00:00",
          "2017-02-01T00:00:00",
          "2017-03-01T00:00:00",
          "2017-04-01T00:00:00",
          "2017-05-01T00:00:00",
          "2017-06-01T00:00:00",
          "2017-07-01T00:00:00",
          "2017-08-01T00:00:00",
          "2017-09-01T00:00:00",
          "2017-10-01T00:00:00",
          "2017-11-01T00:00:00",
          "2017-12-01T00:00:00",
          "2018-01-01T00:00:00",
          "2018-02-01T00:00:00",
          "2018-03-01T00:00:00",
          "2018-04-01T00:00:00",
          "2018-05-01T00:00:00",
          "2018-06-01T00:00:00",
          "2018-07-01T00:00:00",
          "2018-08-01T00:00:00",
          "2018-09-01T00:00:00",
          "2018-10-01T00:00:00",
          "2018-11-01T00:00:00",
          "2018-12-01T00:00:00",
          "2019-01-01T00:00:00",
          "2019-02-01T00:00:00",
          "2019-03-01T00:00:00",
          "2019-04-01T00:00:00",
          "2019-05-01T00:00:00",
          "2019-06-01T00:00:00",
          "2019-07-01T00:00:00",
          "2019-08-01T00:00:00",
          "2019-09-01T00:00:00",
          "2019-10-01T00:00:00",
          "2019-11-01T00:00:00",
          "2019-12-01T00:00:00",
          "2020-01-01T00:00:00",
          "2020-02-01T00:00:00",
          "2020-03-01T00:00:00",
          "2020-04-01T00:00:00",
          "2020-05-01T00:00:00",
          "2020-06-01T00:00:00",
          "2020-07-01T00:00:00",
          "2020-08-01T00:00:00",
          "2020-09-01T00:00:00",
          "2020-10-01T00:00:00",
          "2020-11-01T00:00:00",
          "2020-12-01T00:00:00",
          "2021-01-01T00:00:00",
          "2021-02-01T00:00:00",
          "2021-03-01T00:00:00",
          "2021-04-01T00:00:00",
          "2021-05-01T00:00:00",
          "2021-06-01T00:00:00",
          "2021-07-01T00:00:00",
          "2021-08-01T00:00:00",
          "2021-09-01T00:00:00",
          "2021-10-01T00:00:00",
          "2021-11-01T00:00:00",
          "2021-12-01T00:00:00",
          "2022-01-01T00:00:00",
          "2022-02-01T00:00:00",
          "2022-03-01T00:00:00",
          "2022-04-01T00:00:00",
          "2022-05-01T00:00:00",
          "2022-06-01T00:00:00",
          "2022-07-01T00:00:00",
          "2022-08-01T00:00:00",
          "2022-09-01T00:00:00",
          "2022-10-01T00:00:00",
          "2022-11-01T00:00:00",
          "2022-12-01T00:00:00",
          "2023-01-01T00:00:00",
          "2023-02-01T00:00:00",
          "2023-03-01T00:00:00",
          "2023-04-01T00:00:00",
          "2023-05-01T00:00:00",
          "2023-06-01T00:00:00",
          "2023-07-01T00:00:00",
          "2023-08-01T00:00:00",
          "2023-09-01T00:00:00",
          "2023-10-01T00:00:00",
          "2023-11-01T00:00:00",
          "2023-12-01T00:00:00",
          "2024-01-01T00:00:00",
          "2024-02-01T00:00:00",
          "2024-03-01T00:00:00",
          "2024-04-01T00:00:00",
          "2024-05-01T00:00:00",
          "2024-06-01T00:00:00",
          "2024-07-01T00:00:00",
          "2024-08-01T00:00:00"
         ],
         "xaxis": "x",
         "y": [
          28.5,
          28.6,
          28.7,
          28.8,
          28.8,
          28.9,
          29.0,
          29.0,
          29.1,
          29.2,
          29.3,
          29.3,
          29.3,
          29.4,
          29.5,
          29.5,
          29.5,
          29.6,
          29.6,
          29.6,
          29.7,
          29.7,
          29.8,
          29.9,
          29.9,
          29.9,
          30.0,
          30.0,
          30.1,
          30.2,
          30.2,
          30.2,
          30.3,
          30.4,
          30.4,
          30.5,
          30.5,
          30.6,
          30.6,
          30.6,
          30.6,
          30.7,
          30.6,
          30.6,
          30.6,
          30.8,
          30.8,
          30.7,
          30.8,
          30.8,
          30.9,
          30.9,
          30.9,
          31.0,
          31.0,
          31.1,
          31.1,
          31.1,
          31.2,
          31.2,
          31.2,
          31.2,
          31.3,
          31.3,
          31.4,
          31.4,
          31.4,
          31.5,
          31.5,
          31.5,
          31.5,
          31.6,
          31.5,
          31.6,
          31.7,
          31.7,
          31.7,
          31.8,
          31.8,
          31.9,
          31.9,
          32.0,
          32.0,
          32.1,
          32.2,
          32.2,
          32.2,
          32.2,
          32.2,
          32.3,
          32.3,
          32.3,
          32.3,
          32.4,
          32.5,
          32.5,
          32.6,
          32.6,
          32.6,
          32.7,
          32.7,
          32.7,
          32.7,
          32.7,
          32.8,
          32.8,
          32.9,
          33.0,
          33.0,
          33.1,
          33.1,
          33.3,
          33.4,
          33.5,
          33.6,
          33.7,
          33.8,
          34.0,
          34.0,
          34.1,
          34.2,
          34.2,
          34.3,
          34.4,
          34.5,
          34.6,
          34.7,
          34.9,
          35.0,
          35.1,
          35.2,
          35.4,
          35.5,
          35.7,
          35.8,
          35.9,
          36.0,
          36.2,
          36.4,
          36.5,
          36.7,
          36.9,
          37.1,
          37.2,
          37.3,
          37.6,
          37.8,
          38.1,
          38.1,
          38.3,
          38.5,
          38.7,
          38.9,
          39.1,
          39.2,
          39.4,
          39.6,
          39.8,
          40.1,
          40.4,
          40.5,
          40.8,
          40.9,
          41.1,
          41.3,
          41.5,
          41.8,
          42.0,
          42.1,
          42.2,
          42.2,
          42.4,
          42.6,
          42.8,
          42.9,
          43.0,
          43.0,
          43.1,
          43.2,
          43.3,
          43.5,
          43.6,
          43.6,
          43.8,
          43.9,
          44.0,
          44.1,
          44.3,
          44.3,
          44.4,
          44.4,
          44.6,
          44.6,
          44.8,
          45.0,
          45.1,
          45.3,
          45.4,
          45.5,
          45.7,
          46.0,
          46.3,
          46.5,
          46.7,
          46.9,
          47.2,
          47.6,
          47.9,
          48.5,
          49.0,
          49.5,
          50.2,
          50.7,
          51.2,
          51.6,
          52.0,
          52.3,
          52.8,
          53.0,
          53.3,
          53.5,
          53.8,
          54.0,
          54.2,
          54.5,
          54.8,
          55.2,
          55.5,
          55.9,
          56.2,
          56.5,
          56.7,
          57.0,
          57.2,
          57.6,
          57.9,
          58.2,
          58.5,
          58.7,
          58.9,
          59.3,
          59.7,
          60.0,
          60.3,
          60.6,
          61.0,
          61.2,
          61.5,
          61.8,
          62.0,
          62.3,
          62.7,
          63.1,
          63.4,
          63.8,
          64.3,
          64.7,
          65.2,
          65.6,
          66.1,
          66.7,
          67.2,
          67.6,
          68.0,
          68.5,
          69.2,
          69.8,
          70.3,
          70.8,
          71.3,
          71.9,
          72.7,
          73.3,
          74.0,
          74.8,
          75.7,
          76.7,
          77.5,
          78.6,
          79.5,
          80.1,
          81.0,
          80.8,
          81.3,
          82.1,
          83.0,
          83.9,
          84.9,
          85.4,
          85.9,
          86.4,
          87.0,
          87.8,
          88.6,
          89.8,
          90.7,
          91.8,
          92.1,
          92.5,
          93.0,
          93.3,
          93.8,
          93.9,
          94.7,
          95.4,
          96.1,
          96.7,
          97.1,
          97.2,
          97.5,
          97.3,
          97.2,
          97.6,
          98.0,
          98.2,
          98.6,
          98.9,
          99.2,
          99.8,
          100.1,
          100.5,
          101.0,
          101.5,
          101.8,
          102.5,
          102.8,
          103.2,
          103.7,
          104.1,
          104.5,
          105.0,
          105.4,
          105.8,
          106.2,
          106.4,
          106.8,
          107.1,
          107.7,
          108.1,
          108.4,
          108.8,
          109.1,
          109.4,
          109.8,
          110.0,
          110.5,
          111.1,
          111.4,
          111.9,
          112.2,
          112.5,
          112.9,
          113.1,
          113.4,
          113.8,
          114.2,
          114.6,
          115.0,
          115.3,
          115.6,
          115.9,
          116.2,
          116.6,
          117.3,
          117.7,
          117.9,
          118.3,
          118.7,
          119.2,
          119.8,
          120.1,
          120.4,
          120.9,
          121.2,
          121.7,
          122.3,
          122.7,
          123.2,
          123.6,
          124.0,
          124.7,
          125.2,
          125.6,
          126.0,
          126.5,
          126.9,
          127.4,
          127.8,
          128.3,
          128.8,
          129.2,
          129.5,
          129.9,
          130.6,
          131.1,
          131.6,
          132.1,
          132.7,
          133.5,
          134.0,
          134.4,
          135.1,
          135.8,
          136.6,
          137.1,
          137.6,
          138.0,
          138.6,
          139.5,
          140.2,
          140.5,
          140.9,
          141.3,
          141.8,
          142.3,
          142.9,
          143.4,
          143.7,
          144.2,
          144.7,
          145.1,
          145.4,
          145.9,
          146.3,
          146.8,
          147.1,
          147.6,
          147.9,
          148.1,
          148.8,
          149.2,
          149.6,
          150.1,
          150.6,
          150.8,
          151.4,
          151.8,
          152.1,
          152.3,
          152.8,
          152.9,
          153.4,
          153.9,
          154.3,
          154.5,
          154.8,
          155.3,
          155.5,
          155.9,
          156.4,
          156.7,
          157.1,
          157.5,
          157.8,
          158.2,
          158.3,
          159.0,
          159.4,
          159.9,
          160.4,
          160.7,
          161.1,
          161.4,
          161.8,
          162.2,
          162.7,
          163.0,
          163.1,
          163.7,
          164.0,
          164.4,
          164.6,
          165.0,
          165.4,
          165.7,
          166.0,
          166.5,
          166.8,
          167.2,
          167.4,
          167.8,
          168.1,
          168.4,
          168.9,
          169.2,
          169.4,
          169.7,
          169.8,
          170.2,
          170.6,
          170.8,
          171.2,
          171.6,
          171.9,
          172.2,
          172.5,
          172.9,
          173.2,
          173.5,
          174.0,
          174.2,
          174.4,
          174.8,
          175.4,
          175.6,
          175.6,
          175.7,
          176.3,
          176.5,
          176.6,
          177.1,
          177.3,
          177.8,
          178.1,
          178.4,
          178.7,
          179.3,
          179.4,
          180.0,
          180.3,
          180.7,
          181.1,
          181.5,
          181.9,
          182.3,
          182.6,
          183.1,
          183.3,
          183.9,
          184.4,
          184.7,
          185.1,
          185.3,
          186.0,
          186.4,
          186.7,
          187.1,
          187.4,
          188.1,
          188.4,
          188.7,
          189.1,
          189.2,
          189.7,
          190.0,
          190.2,
          190.5,
          191.1,
          191.3,
          191.5,
          191.9,
          192.1,
          192.4,
          192.5,
          192.5,
          192.5,
          192.9,
          193.0,
          193.4,
          193.6,
          193.7,
          194.0,
          194.0,
          194.2,
          194.6,
          194.9,
          195.5,
          195.9,
          196.2,
          196.6,
          196.8,
          196.9,
          197.5,
          197.9,
          198.3,
          198.6,
          199.0,
          199.4,
          200.1,
          200.2,
          200.5,
          200.6,
          200.9,
          201.1,
          201.3,
          202.0,
          202.5,
          202.8,
          203.2,
          203.6,
          204.3,
          204.8,
          205.4,
          205.9,
          206.3,
          206.8,
          207.2,
          207.6,
          207.8,
          208.1,
          208.6,
          209.135,
          209.418,
          209.747,
          210.058,
          210.392,
          210.773,
          211.119,
          211.554,
          212.077,
          212.66,
          213.168,
          213.771,
          213.939,
          214.42,
          214.56,
          214.936,
          215.424,
          215.965,
          216.393,
          216.713,
          216.788,
          216.947,
          216.925,
          217.346,
          217.792,
          218.253,
          218.706,
          218.904,
          219.112,
          219.263,
          219.496,
          219.92,
          220.501,
          220.666,
          220.881,
          220.633,
          220.731,
          220.783,
          220.822,
          220.962,
          221.194,
          221.363,
          221.509,
          221.711,
          221.83,
          222.149,
          222.343,
          222.803,
          223.213,
          223.454,
          223.727,
          224.175,
          224.697,
          225.218,
          225.862,
          226.118,
          226.506,
          226.899,
          227.405,
          227.877,
          228.034,
          228.478,
          228.905,
          229.224,
          229.623,
          229.97,
          230.233,
          230.659,
          231.024,
          231.33,
          231.725,
          232.229,
          232.569,
          232.794,
          232.832,
          232.996,
          233.35,
          233.88,
          234.336,
          234.7,
          234.921,
          235.359,
          235.759,
          235.961,
          236.185,
          236.625,
          237.072,
          237.529,
          237.837,
          238.195,
          238.405,
          238.786,
          239.191,
          239.458,
          239.584,
          239.811,
          240.172,
          240.755,
          241.346,
          241.688,
          242.064,
          242.565,
          242.817,
          243.316,
          243.768,
          244.241,
          244.547,
          244.955,
          245.51,
          245.913,
          246.551,
          247.137,
          247.54,
          247.829,
          248.423,
          248.842,
          249.142,
          249.481,
          249.92,
          250.467,
          250.998,
          250.944,
          251.227,
          251.43,
          251.746,
          251.985,
          252.535,
          252.812,
          253.526,
          253.816,
          254.344,
          255.204,
          255.711,
          256.271,
          256.63,
          257.145,
          257.399,
          257.699,
          257.891,
          258.368,
          258.917,
          259.439,
          260.063,
          260.766,
          261.186,
          261.567,
          261.997,
          262.217,
          262.739,
          263.28,
          263.877,
          264.388,
          264.97,
          265.548,
          266.02,
          266.698,
          267.402,
          267.068,
          265.796,
          265.461,
          265.839,
          267.373,
          268.39,
          268.9,
          269.28,
          269.967,
          270.34,
          270.422,
          270.813,
          271.461,
          273.665,
          275.494,
          277.585,
          278.612,
          278.993,
          279.71,
          281.623,
          283.393,
          285.221,
          286.811,
          288.287,
          289.041,
          290.515,
          292.072,
          293.972,
          295.055,
          296.569,
          298.284,
          299.351,
          300.292,
          301.423,
          302.709,
          304.124,
          305.112,
          306.539,
          307.646,
          308.245,
          308.945,
          309.656,
          310.644,
          311.39,
          312.349,
          313.209,
          314.438,
          315.565,
          316.698,
          317.622,
          318.14,
          318.346,
          318.872,
          319.768
         ],
         "yaxis": "y",
         "type": "scattergl"
        }
       ],
       "layout": {
        "template": {
         "data": {
          "histogram2dcontour": [
           {
            "type": "histogram2dcontour",
            "colorbar": {
             "outlinewidth": 0,
             "ticks": ""
            },
            "colorscale": [
             [
              0.0,
              "#0d0887"
             ],
             [
              0.1111111111111111,
              "#46039f"
             ],
             [
              0.2222222222222222,
              "#7201a8"
             ],
             [
              0.3333333333333333,
              "#9c179e"
             ],
             [
              0.4444444444444444,
              "#bd3786"
             ],
             [
              0.5555555555555556,
              "#d8576b"
             ],
             [
              0.6666666666666666,
              "#ed7953"
             ],
             [
              0.7777777777777778,
              "#fb9f3a"
             ],
             [
              0.8888888888888888,
              "#fdca26"
             ],
             [
              1.0,
              "#f0f921"
             ]
            ]
           }
          ],
          "choropleth": [
           {
            "type": "choropleth",
            "colorbar": {
             "outlinewidth": 0,
             "ticks": ""
            }
           }
          ],
          "histogram2d": [
           {
            "type": "histogram2d",
            "colorbar": {
             "outlinewidth": 0,
             "ticks": ""
            },
            "colorscale": [
             [
              0.0,
              "#0d0887"
             ],
             [
              0.1111111111111111,
              "#46039f"
             ],
             [
              0.2222222222222222,
              "#7201a8"
             ],
             [
              0.3333333333333333,
              "#9c179e"
             ],
             [
              0.4444444444444444,
              "#bd3786"
             ],
             [
              0.5555555555555556,
              "#d8576b"
             ],
             [
              0.6666666666666666,
              "#ed7953"
             ],
             [
              0.7777777777777778,
              "#fb9f3a"
             ],
             [
              0.8888888888888888,
              "#fdca26"
             ],
             [
              1.0,
              "#f0f921"
             ]
            ]
           }
          ],
          "heatmap": [
           {
            "type": "heatmap",
            "colorbar": {
             "outlinewidth": 0,
             "ticks": ""
            },
            "colorscale": [
             [
              0.0,
              "#0d0887"
             ],
             [
              0.1111111111111111,
              "#46039f"
             ],
             [
              0.2222222222222222,
              "#7201a8"
             ],
             [
              0.3333333333333333,
              "#9c179e"
             ],
             [
              0.4444444444444444,
              "#bd3786"
             ],
             [
              0.5555555555555556,
              "#d8576b"
             ],
             [
              0.6666666666666666,
              "#ed7953"
             ],
             [
              0.7777777777777778,
              "#fb9f3a"
             ],
             [
              0.8888888888888888,
              "#fdca26"
             ],
             [
              1.0,
              "#f0f921"
             ]
            ]
           }
          ],
          "heatmapgl": [
           {
            "type": "heatmapgl",
            "colorbar": {
             "outlinewidth": 0,
             "ticks": ""
            },
            "colorscale": [
             [
              0.0,
              "#0d0887"
             ],
             [
              0.1111111111111111,
              "#46039f"
             ],
             [
              0.2222222222222222,
              "#7201a8"
             ],
             [
              0.3333333333333333,
              "#9c179e"
             ],
             [
              0.4444444444444444,
              "#bd3786"
             ],
             [
              0.5555555555555556,
              "#d8576b"
             ],
             [
              0.6666666666666666,
              "#ed7953"
             ],
             [
              0.7777777777777778,
              "#fb9f3a"
             ],
             [
              0.8888888888888888,
              "#fdca26"
             ],
             [
              1.0,
              "#f0f921"
             ]
            ]
           }
          ],
          "contourcarpet": [
           {
            "type": "contourcarpet",
            "colorbar": {
             "outlinewidth": 0,
             "ticks": ""
            }
           }
          ],
          "contour": [
           {
            "type": "contour",
            "colorbar": {
             "outlinewidth": 0,
             "ticks": ""
            },
            "colorscale": [
             [
              0.0,
              "#0d0887"
             ],
             [
              0.1111111111111111,
              "#46039f"
             ],
             [
              0.2222222222222222,
              "#7201a8"
             ],
             [
              0.3333333333333333,
              "#9c179e"
             ],
             [
              0.4444444444444444,
              "#bd3786"
             ],
             [
              0.5555555555555556,
              "#d8576b"
             ],
             [
              0.6666666666666666,
              "#ed7953"
             ],
             [
              0.7777777777777778,
              "#fb9f3a"
             ],
             [
              0.8888888888888888,
              "#fdca26"
             ],
             [
              1.0,
              "#f0f921"
             ]
            ]
           }
          ],
          "surface": [
           {
            "type": "surface",
            "colorbar": {
             "outlinewidth": 0,
             "ticks": ""
            },
            "colorscale": [
             [
              0.0,
              "#0d0887"
             ],
             [
              0.1111111111111111,
              "#46039f"
             ],
             [
              0.2222222222222222,
              "#7201a8"
             ],
             [
              0.3333333333333333,
              "#9c179e"
             ],
             [
              0.4444444444444444,
              "#bd3786"
             ],
             [
              0.5555555555555556,
              "#d8576b"
             ],
             [
              0.6666666666666666,
              "#ed7953"
             ],
             [
              0.7777777777777778,
              "#fb9f3a"
             ],
             [
              0.8888888888888888,
              "#fdca26"
             ],
             [
              1.0,
              "#f0f921"
             ]
            ]
           }
          ],
          "mesh3d": [
           {
            "type": "mesh3d",
            "colorbar": {
             "outlinewidth": 0,
             "ticks": ""
            }
           }
          ],
          "scatter": [
           {
            "marker": {
             "line": {
              "color": "#283442"
             }
            },
            "type": "scatter"
           }
          ],
          "parcoords": [
           {
            "type": "parcoords",
            "line": {
             "colorbar": {
              "outlinewidth": 0,
              "ticks": ""
             }
            }
           }
          ],
          "scatterpolargl": [
           {
            "type": "scatterpolargl",
            "marker": {
             "colorbar": {
              "outlinewidth": 0,
              "ticks": ""
             }
            }
           }
          ],
          "bar": [
           {
            "error_x": {
             "color": "#f2f5fa"
            },
            "error_y": {
             "color": "#f2f5fa"
            },
            "marker": {
             "line": {
              "color": "rgb(17,17,17)",
              "width": 0.5
             },
             "pattern": {
              "fillmode": "overlay",
              "size": 10,
              "solidity": 0.2
             }
            },
            "type": "bar"
           }
          ],
          "scattergeo": [
           {
            "type": "scattergeo",
            "marker": {
             "colorbar": {
              "outlinewidth": 0,
              "ticks": ""
             }
            }
           }
          ],
          "scatterpolar": [
           {
            "type": "scatterpolar",
            "marker": {
             "colorbar": {
              "outlinewidth": 0,
              "ticks": ""
             }
            }
           }
          ],
          "histogram": [
           {
            "marker": {
             "pattern": {
              "fillmode": "overlay",
              "size": 10,
              "solidity": 0.2
             }
            },
            "type": "histogram"
           }
          ],
          "scattergl": [
           {
            "marker": {
             "line": {
              "color": "#283442"
             }
            },
            "type": "scattergl"
           }
          ],
          "scatter3d": [
           {
            "type": "scatter3d",
            "line": {
             "colorbar": {
              "outlinewidth": 0,
              "ticks": ""
             }
            },
            "marker": {
             "colorbar": {
              "outlinewidth": 0,
              "ticks": ""
             }
            }
           }
          ],
          "scattermapbox": [
           {
            "type": "scattermapbox",
            "marker": {
             "colorbar": {
              "outlinewidth": 0,
              "ticks": ""
             }
            }
           }
          ],
          "scatterternary": [
           {
            "type": "scatterternary",
            "marker": {
             "colorbar": {
              "outlinewidth": 0,
              "ticks": ""
             }
            }
           }
          ],
          "scattercarpet": [
           {
            "type": "scattercarpet",
            "marker": {
             "colorbar": {
              "outlinewidth": 0,
              "ticks": ""
             }
            }
           }
          ],
          "carpet": [
           {
            "aaxis": {
             "endlinecolor": "#A2B1C6",
             "gridcolor": "#506784",
             "linecolor": "#506784",
             "minorgridcolor": "#506784",
             "startlinecolor": "#A2B1C6"
            },
            "baxis": {
             "endlinecolor": "#A2B1C6",
             "gridcolor": "#506784",
             "linecolor": "#506784",
             "minorgridcolor": "#506784",
             "startlinecolor": "#A2B1C6"
            },
            "type": "carpet"
           }
          ],
          "table": [
           {
            "cells": {
             "fill": {
              "color": "#506784"
             },
             "line": {
              "color": "rgb(17,17,17)"
             }
            },
            "header": {
             "fill": {
              "color": "#2a3f5f"
             },
             "line": {
              "color": "rgb(17,17,17)"
             }
            },
            "type": "table"
           }
          ],
          "barpolar": [
           {
            "marker": {
             "line": {
              "color": "rgb(17,17,17)",
              "width": 0.5
             },
             "pattern": {
              "fillmode": "overlay",
              "size": 10,
              "solidity": 0.2
             }
            },
            "type": "barpolar"
           }
          ],
          "pie": [
           {
            "automargin": true,
            "type": "pie"
           }
          ]
         },
         "layout": {
          "autotypenumbers": "strict",
          "colorway": [
           "#636efa",
           "#EF553B",
           "#00cc96",
           "#ab63fa",
           "#FFA15A",
           "#19d3f3",
           "#FF6692",
           "#B6E880",
           "#FF97FF",
           "#FECB52"
          ],
          "font": {
           "color": "#f2f5fa"
          },
          "hovermode": "closest",
          "hoverlabel": {
           "align": "left"
          },
          "paper_bgcolor": "rgb(17,17,17)",
          "plot_bgcolor": "rgb(17,17,17)",
          "polar": {
           "bgcolor": "rgb(17,17,17)",
           "angularaxis": {
            "gridcolor": "#506784",
            "linecolor": "#506784",
            "ticks": ""
           },
           "radialaxis": {
            "gridcolor": "#506784",
            "linecolor": "#506784",
            "ticks": ""
           }
          },
          "ternary": {
           "bgcolor": "rgb(17,17,17)",
           "aaxis": {
            "gridcolor": "#506784",
            "linecolor": "#506784",
            "ticks": ""
           },
           "baxis": {
            "gridcolor": "#506784",
            "linecolor": "#506784",
            "ticks": ""
           },
           "caxis": {
            "gridcolor": "#506784",
            "linecolor": "#506784",
            "ticks": ""
           }
          },
          "coloraxis": {
           "colorbar": {
            "outlinewidth": 0,
            "ticks": ""
           }
          },
          "colorscale": {
           "sequential": [
            [
             0.0,
             "#0d0887"
            ],
            [
             0.1111111111111111,
             "#46039f"
            ],
            [
             0.2222222222222222,
             "#7201a8"
            ],
            [
             0.3333333333333333,
             "#9c179e"
            ],
            [
             0.4444444444444444,
             "#bd3786"
            ],
            [
             0.5555555555555556,
             "#d8576b"
            ],
            [
             0.6666666666666666,
             "#ed7953"
            ],
            [
             0.7777777777777778,
             "#fb9f3a"
            ],
            [
             0.8888888888888888,
             "#fdca26"
            ],
            [
             1.0,
             "#f0f921"
            ]
           ],
           "sequentialminus": [
            [
             0.0,
             "#0d0887"
            ],
            [
             0.1111111111111111,
             "#46039f"
            ],
            [
             0.2222222222222222,
             "#7201a8"
            ],
            [
             0.3333333333333333,
             "#9c179e"
            ],
            [
             0.4444444444444444,
             "#bd3786"
            ],
            [
             0.5555555555555556,
             "#d8576b"
            ],
            [
             0.6666666666666666,
             "#ed7953"
            ],
            [
             0.7777777777777778,
             "#fb9f3a"
            ],
            [
             0.8888888888888888,
             "#fdca26"
            ],
            [
             1.0,
             "#f0f921"
            ]
           ],
           "diverging": [
            [
             0,
             "#8e0152"
            ],
            [
             0.1,
             "#c51b7d"
            ],
            [
             0.2,
             "#de77ae"
            ],
            [
             0.3,
             "#f1b6da"
            ],
            [
             0.4,
             "#fde0ef"
            ],
            [
             0.5,
             "#f7f7f7"
            ],
            [
             0.6,
             "#e6f5d0"
            ],
            [
             0.7,
             "#b8e186"
            ],
            [
             0.8,
             "#7fbc41"
            ],
            [
             0.9,
             "#4d9221"
            ],
            [
             1,
             "#276419"
            ]
           ]
          },
          "xaxis": {
           "gridcolor": "#283442",
           "linecolor": "#506784",
           "ticks": "",
           "title": {
            "standoff": 15
           },
           "zerolinecolor": "#283442",
           "automargin": true,
           "zerolinewidth": 2
          },
          "yaxis": {
           "gridcolor": "#283442",
           "linecolor": "#506784",
           "ticks": "",
           "title": {
            "standoff": 15
           },
           "zerolinecolor": "#283442",
           "automargin": true,
           "zerolinewidth": 2
          },
          "scene": {
           "xaxis": {
            "backgroundcolor": "rgb(17,17,17)",
            "gridcolor": "#506784",
            "linecolor": "#506784",
            "showbackground": true,
            "ticks": "",
            "zerolinecolor": "#C8D4E3",
            "gridwidth": 2
           },
           "yaxis": {
            "backgroundcolor": "rgb(17,17,17)",
            "gridcolor": "#506784",
            "linecolor": "#506784",
            "showbackground": true,
            "ticks": "",
            "zerolinecolor": "#C8D4E3",
            "gridwidth": 2
           },
           "zaxis": {
            "backgroundcolor": "rgb(17,17,17)",
            "gridcolor": "#506784",
            "linecolor": "#506784",
            "showbackground": true,
            "ticks": "",
            "zerolinecolor": "#C8D4E3",
            "gridwidth": 2
           }
          },
          "shapedefaults": {
           "line": {
            "color": "#f2f5fa"
           }
          },
          "annotationdefaults": {
           "arrowcolor": "#f2f5fa",
           "arrowhead": 0,
           "arrowwidth": 1
          },
          "geo": {
           "bgcolor": "rgb(17,17,17)",
           "landcolor": "rgb(17,17,17)",
           "subunitcolor": "#506784",
           "showland": true,
           "showlakes": true,
           "lakecolor": "rgb(17,17,17)"
          },
          "title": {
           "x": 0.05
          },
          "updatemenudefaults": {
           "bgcolor": "#506784",
           "borderwidth": 0
          },
          "sliderdefaults": {
           "bgcolor": "#C8D4E3",
           "borderwidth": 1,
           "bordercolor": "rgb(17,17,17)",
           "tickwidth": 0
          },
          "mapbox": {
           "style": "dark"
          }
         }
        },
        "xaxis": {
         "anchor": "y",
         "domain": [
          0.0,
          1.0
         ],
         "title": {
          "text": "Date"
         }
        },
        "yaxis": {
         "anchor": "x",
         "domain": [
          0.0,
          1.0
         ],
         "title": {
          "text": "value"
         }
        },
        "legend": {
         "title": {
          "text": "variable"
         },
         "tracegroupgap": 0
        },
        "margin": {
         "t": 60
        }
       },
       "config": {
        "plotlyServerURL": "https://plot.ly"
       }
      },
      "text/html": "<div>                            <div id=\"dd6da6b6-ed9a-4ee1-9508-fa06e2a84509\" class=\"plotly-graph-div\" style=\"height:525px; width:100%;\"></div>            <script type=\"text/javascript\">                require([\"plotly\"], function(Plotly) {                    window.PLOTLYENV=window.PLOTLYENV || {};                                    if (document.getElementById(\"dd6da6b6-ed9a-4ee1-9508-fa06e2a84509\")) {                    Plotly.newPlot(                        \"dd6da6b6-ed9a-4ee1-9508-fa06e2a84509\",                        [{\"hovertemplate\":\"variable=CPI_All_Items\\u003cbr\\u003eDate=%{x}\\u003cbr\\u003evalue=%{y}\\u003cextra\\u003e\\u003c\\u002fextra\\u003e\",\"legendgroup\":\"CPI_All_Items\",\"line\":{\"color\":\"#636efa\",\"dash\":\"solid\"},\"marker\":{\"symbol\":\"circle\"},\"mode\":\"lines\",\"name\":\"CPI_All_Items\",\"showlegend\":true,\"x\":[\"1957-01-01T00:00:00\",\"1957-02-01T00:00:00\",\"1957-03-01T00:00:00\",\"1957-04-01T00:00:00\",\"1957-05-01T00:00:00\",\"1957-06-01T00:00:00\",\"1957-07-01T00:00:00\",\"1957-08-01T00:00:00\",\"1957-09-01T00:00:00\",\"1957-10-01T00:00:00\",\"1957-11-01T00:00:00\",\"1957-12-01T00:00:00\",\"1958-01-01T00:00:00\",\"1958-02-01T00:00:00\",\"1958-03-01T00:00:00\",\"1958-04-01T00:00:00\",\"1958-05-01T00:00:00\",\"1958-06-01T00:00:00\",\"1958-07-01T00:00:00\",\"1958-08-01T00:00:00\",\"1958-09-01T00:00:00\",\"1958-10-01T00:00:00\",\"1958-11-01T00:00:00\",\"1958-12-01T00:00:00\",\"1959-01-01T00:00:00\",\"1959-02-01T00:00:00\",\"1959-03-01T00:00:00\",\"1959-04-01T00:00:00\",\"1959-05-01T00:00:00\",\"1959-06-01T00:00:00\",\"1959-07-01T00:00:00\",\"1959-08-01T00:00:00\",\"1959-09-01T00:00:00\",\"1959-10-01T00:00:00\",\"1959-11-01T00:00:00\",\"1959-12-01T00:00:00\",\"1960-01-01T00:00:00\",\"1960-02-01T00:00:00\",\"1960-03-01T00:00:00\",\"1960-04-01T00:00:00\",\"1960-05-01T00:00:00\",\"1960-06-01T00:00:00\",\"1960-07-01T00:00:00\",\"1960-08-01T00:00:00\",\"1960-09-01T00:00:00\",\"1960-10-01T00:00:00\",\"1960-11-01T00:00:00\",\"1960-12-01T00:00:00\",\"1961-01-01T00:00:00\",\"1961-02-01T00:00:00\",\"1961-03-01T00:00:00\",\"1961-04-01T00:00:00\",\"1961-05-01T00:00:00\",\"1961-06-01T00:00:00\",\"1961-07-01T00:00:00\",\"1961-08-01T00:00:00\",\"1961-09-01T00:00:00\",\"1961-10-01T00:00:00\",\"1961-11-01T00:00:00\",\"1961-12-01T00:00:00\",\"1962-01-01T00:00:00\",\"1962-02-01T00:00:00\",\"1962-03-01T00:00:00\",\"1962-04-01T00:00:00\",\"1962-05-01T00:00:00\",\"1962-06-01T00:00:00\",\"1962-07-01T00:00:00\",\"1962-08-01T00:00:00\",\"1962-09-01T00:00:00\",\"1962-10-01T00:00:00\",\"1962-11-01T00:00:00\",\"1962-12-01T00:00:00\",\"1963-01-01T00:00:00\",\"1963-02-01T00:00:00\",\"1963-03-01T00:00:00\",\"1963-04-01T00:00:00\",\"1963-05-01T00:00:00\",\"1963-06-01T00:00:00\",\"1963-07-01T00:00:00\",\"1963-08-01T00:00:00\",\"1963-09-01T00:00:00\",\"1963-10-01T00:00:00\",\"1963-11-01T00:00:00\",\"1963-12-01T00:00:00\",\"1964-01-01T00:00:00\",\"1964-02-01T00:00:00\",\"1964-03-01T00:00:00\",\"1964-04-01T00:00:00\",\"1964-05-01T00:00:00\",\"1964-06-01T00:00:00\",\"1964-07-01T00:00:00\",\"1964-08-01T00:00:00\",\"1964-09-01T00:00:00\",\"1964-10-01T00:00:00\",\"1964-11-01T00:00:00\",\"1964-12-01T00:00:00\",\"1965-01-01T00:00:00\",\"1965-02-01T00:00:00\",\"1965-03-01T00:00:00\",\"1965-04-01T00:00:00\",\"1965-05-01T00:00:00\",\"1965-06-01T00:00:00\",\"1965-07-01T00:00:00\",\"1965-08-01T00:00:00\",\"1965-09-01T00:00:00\",\"1965-10-01T00:00:00\",\"1965-11-01T00:00:00\",\"1965-12-01T00:00:00\",\"1966-01-01T00:00:00\",\"1966-02-01T00:00:00\",\"1966-03-01T00:00:00\",\"1966-04-01T00:00:00\",\"1966-05-01T00:00:00\",\"1966-06-01T00:00:00\",\"1966-07-01T00:00:00\",\"1966-08-01T00:00:00\",\"1966-09-01T00:00:00\",\"1966-10-01T00:00:00\",\"1966-11-01T00:00:00\",\"1966-12-01T00:00:00\",\"1967-01-01T00:00:00\",\"1967-02-01T00:00:00\",\"1967-03-01T00:00:00\",\"1967-04-01T00:00:00\",\"1967-05-01T00:00:00\",\"1967-06-01T00:00:00\",\"1967-07-01T00:00:00\",\"1967-08-01T00:00:00\",\"1967-09-01T00:00:00\",\"1967-10-01T00:00:00\",\"1967-11-01T00:00:00\",\"1967-12-01T00:00:00\",\"1968-01-01T00:00:00\",\"1968-02-01T00:00:00\",\"1968-03-01T00:00:00\",\"1968-04-01T00:00:00\",\"1968-05-01T00:00:00\",\"1968-06-01T00:00:00\",\"1968-07-01T00:00:00\",\"1968-08-01T00:00:00\",\"1968-09-01T00:00:00\",\"1968-10-01T00:00:00\",\"1968-11-01T00:00:00\",\"1968-12-01T00:00:00\",\"1969-01-01T00:00:00\",\"1969-02-01T00:00:00\",\"1969-03-01T00:00:00\",\"1969-04-01T00:00:00\",\"1969-05-01T00:00:00\",\"1969-06-01T00:00:00\",\"1969-07-01T00:00:00\",\"1969-08-01T00:00:00\",\"1969-09-01T00:00:00\",\"1969-10-01T00:00:00\",\"1969-11-01T00:00:00\",\"1969-12-01T00:00:00\",\"1970-01-01T00:00:00\",\"1970-02-01T00:00:00\",\"1970-03-01T00:00:00\",\"1970-04-01T00:00:00\",\"1970-05-01T00:00:00\",\"1970-06-01T00:00:00\",\"1970-07-01T00:00:00\",\"1970-08-01T00:00:00\",\"1970-09-01T00:00:00\",\"1970-10-01T00:00:00\",\"1970-11-01T00:00:00\",\"1970-12-01T00:00:00\",\"1971-01-01T00:00:00\",\"1971-02-01T00:00:00\",\"1971-03-01T00:00:00\",\"1971-04-01T00:00:00\",\"1971-05-01T00:00:00\",\"1971-06-01T00:00:00\",\"1971-07-01T00:00:00\",\"1971-08-01T00:00:00\",\"1971-09-01T00:00:00\",\"1971-10-01T00:00:00\",\"1971-11-01T00:00:00\",\"1971-12-01T00:00:00\",\"1972-01-01T00:00:00\",\"1972-02-01T00:00:00\",\"1972-03-01T00:00:00\",\"1972-04-01T00:00:00\",\"1972-05-01T00:00:00\",\"1972-06-01T00:00:00\",\"1972-07-01T00:00:00\",\"1972-08-01T00:00:00\",\"1972-09-01T00:00:00\",\"1972-10-01T00:00:00\",\"1972-11-01T00:00:00\",\"1972-12-01T00:00:00\",\"1973-01-01T00:00:00\",\"1973-02-01T00:00:00\",\"1973-03-01T00:00:00\",\"1973-04-01T00:00:00\",\"1973-05-01T00:00:00\",\"1973-06-01T00:00:00\",\"1973-07-01T00:00:00\",\"1973-08-01T00:00:00\",\"1973-09-01T00:00:00\",\"1973-10-01T00:00:00\",\"1973-11-01T00:00:00\",\"1973-12-01T00:00:00\",\"1974-01-01T00:00:00\",\"1974-02-01T00:00:00\",\"1974-03-01T00:00:00\",\"1974-04-01T00:00:00\",\"1974-05-01T00:00:00\",\"1974-06-01T00:00:00\",\"1974-07-01T00:00:00\",\"1974-08-01T00:00:00\",\"1974-09-01T00:00:00\",\"1974-10-01T00:00:00\",\"1974-11-01T00:00:00\",\"1974-12-01T00:00:00\",\"1975-01-01T00:00:00\",\"1975-02-01T00:00:00\",\"1975-03-01T00:00:00\",\"1975-04-01T00:00:00\",\"1975-05-01T00:00:00\",\"1975-06-01T00:00:00\",\"1975-07-01T00:00:00\",\"1975-08-01T00:00:00\",\"1975-09-01T00:00:00\",\"1975-10-01T00:00:00\",\"1975-11-01T00:00:00\",\"1975-12-01T00:00:00\",\"1976-01-01T00:00:00\",\"1976-02-01T00:00:00\",\"1976-03-01T00:00:00\",\"1976-04-01T00:00:00\",\"1976-05-01T00:00:00\",\"1976-06-01T00:00:00\",\"1976-07-01T00:00:00\",\"1976-08-01T00:00:00\",\"1976-09-01T00:00:00\",\"1976-10-01T00:00:00\",\"1976-11-01T00:00:00\",\"1976-12-01T00:00:00\",\"1977-01-01T00:00:00\",\"1977-02-01T00:00:00\",\"1977-03-01T00:00:00\",\"1977-04-01T00:00:00\",\"1977-05-01T00:00:00\",\"1977-06-01T00:00:00\",\"1977-07-01T00:00:00\",\"1977-08-01T00:00:00\",\"1977-09-01T00:00:00\",\"1977-10-01T00:00:00\",\"1977-11-01T00:00:00\",\"1977-12-01T00:00:00\",\"1978-01-01T00:00:00\",\"1978-02-01T00:00:00\",\"1978-03-01T00:00:00\",\"1978-04-01T00:00:00\",\"1978-05-01T00:00:00\",\"1978-06-01T00:00:00\",\"1978-07-01T00:00:00\",\"1978-08-01T00:00:00\",\"1978-09-01T00:00:00\",\"1978-10-01T00:00:00\",\"1978-11-01T00:00:00\",\"1978-12-01T00:00:00\",\"1979-01-01T00:00:00\",\"1979-02-01T00:00:00\",\"1979-03-01T00:00:00\",\"1979-04-01T00:00:00\",\"1979-05-01T00:00:00\",\"1979-06-01T00:00:00\",\"1979-07-01T00:00:00\",\"1979-08-01T00:00:00\",\"1979-09-01T00:00:00\",\"1979-10-01T00:00:00\",\"1979-11-01T00:00:00\",\"1979-12-01T00:00:00\",\"1980-01-01T00:00:00\",\"1980-02-01T00:00:00\",\"1980-03-01T00:00:00\",\"1980-04-01T00:00:00\",\"1980-05-01T00:00:00\",\"1980-06-01T00:00:00\",\"1980-07-01T00:00:00\",\"1980-08-01T00:00:00\",\"1980-09-01T00:00:00\",\"1980-10-01T00:00:00\",\"1980-11-01T00:00:00\",\"1980-12-01T00:00:00\",\"1981-01-01T00:00:00\",\"1981-02-01T00:00:00\",\"1981-03-01T00:00:00\",\"1981-04-01T00:00:00\",\"1981-05-01T00:00:00\",\"1981-06-01T00:00:00\",\"1981-07-01T00:00:00\",\"1981-08-01T00:00:00\",\"1981-09-01T00:00:00\",\"1981-10-01T00:00:00\",\"1981-11-01T00:00:00\",\"1981-12-01T00:00:00\",\"1982-01-01T00:00:00\",\"1982-02-01T00:00:00\",\"1982-03-01T00:00:00\",\"1982-04-01T00:00:00\",\"1982-05-01T00:00:00\",\"1982-06-01T00:00:00\",\"1982-07-01T00:00:00\",\"1982-08-01T00:00:00\",\"1982-09-01T00:00:00\",\"1982-10-01T00:00:00\",\"1982-11-01T00:00:00\",\"1982-12-01T00:00:00\",\"1983-01-01T00:00:00\",\"1983-02-01T00:00:00\",\"1983-03-01T00:00:00\",\"1983-04-01T00:00:00\",\"1983-05-01T00:00:00\",\"1983-06-01T00:00:00\",\"1983-07-01T00:00:00\",\"1983-08-01T00:00:00\",\"1983-09-01T00:00:00\",\"1983-10-01T00:00:00\",\"1983-11-01T00:00:00\",\"1983-12-01T00:00:00\",\"1984-01-01T00:00:00\",\"1984-02-01T00:00:00\",\"1984-03-01T00:00:00\",\"1984-04-01T00:00:00\",\"1984-05-01T00:00:00\",\"1984-06-01T00:00:00\",\"1984-07-01T00:00:00\",\"1984-08-01T00:00:00\",\"1984-09-01T00:00:00\",\"1984-10-01T00:00:00\",\"1984-11-01T00:00:00\",\"1984-12-01T00:00:00\",\"1985-01-01T00:00:00\",\"1985-02-01T00:00:00\",\"1985-03-01T00:00:00\",\"1985-04-01T00:00:00\",\"1985-05-01T00:00:00\",\"1985-06-01T00:00:00\",\"1985-07-01T00:00:00\",\"1985-08-01T00:00:00\",\"1985-09-01T00:00:00\",\"1985-10-01T00:00:00\",\"1985-11-01T00:00:00\",\"1985-12-01T00:00:00\",\"1986-01-01T00:00:00\",\"1986-02-01T00:00:00\",\"1986-03-01T00:00:00\",\"1986-04-01T00:00:00\",\"1986-05-01T00:00:00\",\"1986-06-01T00:00:00\",\"1986-07-01T00:00:00\",\"1986-08-01T00:00:00\",\"1986-09-01T00:00:00\",\"1986-10-01T00:00:00\",\"1986-11-01T00:00:00\",\"1986-12-01T00:00:00\",\"1987-01-01T00:00:00\",\"1987-02-01T00:00:00\",\"1987-03-01T00:00:00\",\"1987-04-01T00:00:00\",\"1987-05-01T00:00:00\",\"1987-06-01T00:00:00\",\"1987-07-01T00:00:00\",\"1987-08-01T00:00:00\",\"1987-09-01T00:00:00\",\"1987-10-01T00:00:00\",\"1987-11-01T00:00:00\",\"1987-12-01T00:00:00\",\"1988-01-01T00:00:00\",\"1988-02-01T00:00:00\",\"1988-03-01T00:00:00\",\"1988-04-01T00:00:00\",\"1988-05-01T00:00:00\",\"1988-06-01T00:00:00\",\"1988-07-01T00:00:00\",\"1988-08-01T00:00:00\",\"1988-09-01T00:00:00\",\"1988-10-01T00:00:00\",\"1988-11-01T00:00:00\",\"1988-12-01T00:00:00\",\"1989-01-01T00:00:00\",\"1989-02-01T00:00:00\",\"1989-03-01T00:00:00\",\"1989-04-01T00:00:00\",\"1989-05-01T00:00:00\",\"1989-06-01T00:00:00\",\"1989-07-01T00:00:00\",\"1989-08-01T00:00:00\",\"1989-09-01T00:00:00\",\"1989-10-01T00:00:00\",\"1989-11-01T00:00:00\",\"1989-12-01T00:00:00\",\"1990-01-01T00:00:00\",\"1990-02-01T00:00:00\",\"1990-03-01T00:00:00\",\"1990-04-01T00:00:00\",\"1990-05-01T00:00:00\",\"1990-06-01T00:00:00\",\"1990-07-01T00:00:00\",\"1990-08-01T00:00:00\",\"1990-09-01T00:00:00\",\"1990-10-01T00:00:00\",\"1990-11-01T00:00:00\",\"1990-12-01T00:00:00\",\"1991-01-01T00:00:00\",\"1991-02-01T00:00:00\",\"1991-03-01T00:00:00\",\"1991-04-01T00:00:00\",\"1991-05-01T00:00:00\",\"1991-06-01T00:00:00\",\"1991-07-01T00:00:00\",\"1991-08-01T00:00:00\",\"1991-09-01T00:00:00\",\"1991-10-01T00:00:00\",\"1991-11-01T00:00:00\",\"1991-12-01T00:00:00\",\"1992-01-01T00:00:00\",\"1992-02-01T00:00:00\",\"1992-03-01T00:00:00\",\"1992-04-01T00:00:00\",\"1992-05-01T00:00:00\",\"1992-06-01T00:00:00\",\"1992-07-01T00:00:00\",\"1992-08-01T00:00:00\",\"1992-09-01T00:00:00\",\"1992-10-01T00:00:00\",\"1992-11-01T00:00:00\",\"1992-12-01T00:00:00\",\"1993-01-01T00:00:00\",\"1993-02-01T00:00:00\",\"1993-03-01T00:00:00\",\"1993-04-01T00:00:00\",\"1993-05-01T00:00:00\",\"1993-06-01T00:00:00\",\"1993-07-01T00:00:00\",\"1993-08-01T00:00:00\",\"1993-09-01T00:00:00\",\"1993-10-01T00:00:00\",\"1993-11-01T00:00:00\",\"1993-12-01T00:00:00\",\"1994-01-01T00:00:00\",\"1994-02-01T00:00:00\",\"1994-03-01T00:00:00\",\"1994-04-01T00:00:00\",\"1994-05-01T00:00:00\",\"1994-06-01T00:00:00\",\"1994-07-01T00:00:00\",\"1994-08-01T00:00:00\",\"1994-09-01T00:00:00\",\"1994-10-01T00:00:00\",\"1994-11-01T00:00:00\",\"1994-12-01T00:00:00\",\"1995-01-01T00:00:00\",\"1995-02-01T00:00:00\",\"1995-03-01T00:00:00\",\"1995-04-01T00:00:00\",\"1995-05-01T00:00:00\",\"1995-06-01T00:00:00\",\"1995-07-01T00:00:00\",\"1995-08-01T00:00:00\",\"1995-09-01T00:00:00\",\"1995-10-01T00:00:00\",\"1995-11-01T00:00:00\",\"1995-12-01T00:00:00\",\"1996-01-01T00:00:00\",\"1996-02-01T00:00:00\",\"1996-03-01T00:00:00\",\"1996-04-01T00:00:00\",\"1996-05-01T00:00:00\",\"1996-06-01T00:00:00\",\"1996-07-01T00:00:00\",\"1996-08-01T00:00:00\",\"1996-09-01T00:00:00\",\"1996-10-01T00:00:00\",\"1996-11-01T00:00:00\",\"1996-12-01T00:00:00\",\"1997-01-01T00:00:00\",\"1997-02-01T00:00:00\",\"1997-03-01T00:00:00\",\"1997-04-01T00:00:00\",\"1997-05-01T00:00:00\",\"1997-06-01T00:00:00\",\"1997-07-01T00:00:00\",\"1997-08-01T00:00:00\",\"1997-09-01T00:00:00\",\"1997-10-01T00:00:00\",\"1997-11-01T00:00:00\",\"1997-12-01T00:00:00\",\"1998-01-01T00:00:00\",\"1998-02-01T00:00:00\",\"1998-03-01T00:00:00\",\"1998-04-01T00:00:00\",\"1998-05-01T00:00:00\",\"1998-06-01T00:00:00\",\"1998-07-01T00:00:00\",\"1998-08-01T00:00:00\",\"1998-09-01T00:00:00\",\"1998-10-01T00:00:00\",\"1998-11-01T00:00:00\",\"1998-12-01T00:00:00\",\"1999-01-01T00:00:00\",\"1999-02-01T00:00:00\",\"1999-03-01T00:00:00\",\"1999-04-01T00:00:00\",\"1999-05-01T00:00:00\",\"1999-06-01T00:00:00\",\"1999-07-01T00:00:00\",\"1999-08-01T00:00:00\",\"1999-09-01T00:00:00\",\"1999-10-01T00:00:00\",\"1999-11-01T00:00:00\",\"1999-12-01T00:00:00\",\"2000-01-01T00:00:00\",\"2000-02-01T00:00:00\",\"2000-03-01T00:00:00\",\"2000-04-01T00:00:00\",\"2000-05-01T00:00:00\",\"2000-06-01T00:00:00\",\"2000-07-01T00:00:00\",\"2000-08-01T00:00:00\",\"2000-09-01T00:00:00\",\"2000-10-01T00:00:00\",\"2000-11-01T00:00:00\",\"2000-12-01T00:00:00\",\"2001-01-01T00:00:00\",\"2001-02-01T00:00:00\",\"2001-03-01T00:00:00\",\"2001-04-01T00:00:00\",\"2001-05-01T00:00:00\",\"2001-06-01T00:00:00\",\"2001-07-01T00:00:00\",\"2001-08-01T00:00:00\",\"2001-09-01T00:00:00\",\"2001-10-01T00:00:00\",\"2001-11-01T00:00:00\",\"2001-12-01T00:00:00\",\"2002-01-01T00:00:00\",\"2002-02-01T00:00:00\",\"2002-03-01T00:00:00\",\"2002-04-01T00:00:00\",\"2002-05-01T00:00:00\",\"2002-06-01T00:00:00\",\"2002-07-01T00:00:00\",\"2002-08-01T00:00:00\",\"2002-09-01T00:00:00\",\"2002-10-01T00:00:00\",\"2002-11-01T00:00:00\",\"2002-12-01T00:00:00\",\"2003-01-01T00:00:00\",\"2003-02-01T00:00:00\",\"2003-03-01T00:00:00\",\"2003-04-01T00:00:00\",\"2003-05-01T00:00:00\",\"2003-06-01T00:00:00\",\"2003-07-01T00:00:00\",\"2003-08-01T00:00:00\",\"2003-09-01T00:00:00\",\"2003-10-01T00:00:00\",\"2003-11-01T00:00:00\",\"2003-12-01T00:00:00\",\"2004-01-01T00:00:00\",\"2004-02-01T00:00:00\",\"2004-03-01T00:00:00\",\"2004-04-01T00:00:00\",\"2004-05-01T00:00:00\",\"2004-06-01T00:00:00\",\"2004-07-01T00:00:00\",\"2004-08-01T00:00:00\",\"2004-09-01T00:00:00\",\"2004-10-01T00:00:00\",\"2004-11-01T00:00:00\",\"2004-12-01T00:00:00\",\"2005-01-01T00:00:00\",\"2005-02-01T00:00:00\",\"2005-03-01T00:00:00\",\"2005-04-01T00:00:00\",\"2005-05-01T00:00:00\",\"2005-06-01T00:00:00\",\"2005-07-01T00:00:00\",\"2005-08-01T00:00:00\",\"2005-09-01T00:00:00\",\"2005-10-01T00:00:00\",\"2005-11-01T00:00:00\",\"2005-12-01T00:00:00\",\"2006-01-01T00:00:00\",\"2006-02-01T00:00:00\",\"2006-03-01T00:00:00\",\"2006-04-01T00:00:00\",\"2006-05-01T00:00:00\",\"2006-06-01T00:00:00\",\"2006-07-01T00:00:00\",\"2006-08-01T00:00:00\",\"2006-09-01T00:00:00\",\"2006-10-01T00:00:00\",\"2006-11-01T00:00:00\",\"2006-12-01T00:00:00\",\"2007-01-01T00:00:00\",\"2007-02-01T00:00:00\",\"2007-03-01T00:00:00\",\"2007-04-01T00:00:00\",\"2007-05-01T00:00:00\",\"2007-06-01T00:00:00\",\"2007-07-01T00:00:00\",\"2007-08-01T00:00:00\",\"2007-09-01T00:00:00\",\"2007-10-01T00:00:00\",\"2007-11-01T00:00:00\",\"2007-12-01T00:00:00\",\"2008-01-01T00:00:00\",\"2008-02-01T00:00:00\",\"2008-03-01T00:00:00\",\"2008-04-01T00:00:00\",\"2008-05-01T00:00:00\",\"2008-06-01T00:00:00\",\"2008-07-01T00:00:00\",\"2008-08-01T00:00:00\",\"2008-09-01T00:00:00\",\"2008-10-01T00:00:00\",\"2008-11-01T00:00:00\",\"2008-12-01T00:00:00\",\"2009-01-01T00:00:00\",\"2009-02-01T00:00:00\",\"2009-03-01T00:00:00\",\"2009-04-01T00:00:00\",\"2009-05-01T00:00:00\",\"2009-06-01T00:00:00\",\"2009-07-01T00:00:00\",\"2009-08-01T00:00:00\",\"2009-09-01T00:00:00\",\"2009-10-01T00:00:00\",\"2009-11-01T00:00:00\",\"2009-12-01T00:00:00\",\"2010-01-01T00:00:00\",\"2010-02-01T00:00:00\",\"2010-03-01T00:00:00\",\"2010-04-01T00:00:00\",\"2010-05-01T00:00:00\",\"2010-06-01T00:00:00\",\"2010-07-01T00:00:00\",\"2010-08-01T00:00:00\",\"2010-09-01T00:00:00\",\"2010-10-01T00:00:00\",\"2010-11-01T00:00:00\",\"2010-12-01T00:00:00\",\"2011-01-01T00:00:00\",\"2011-02-01T00:00:00\",\"2011-03-01T00:00:00\",\"2011-04-01T00:00:00\",\"2011-05-01T00:00:00\",\"2011-06-01T00:00:00\",\"2011-07-01T00:00:00\",\"2011-08-01T00:00:00\",\"2011-09-01T00:00:00\",\"2011-10-01T00:00:00\",\"2011-11-01T00:00:00\",\"2011-12-01T00:00:00\",\"2012-01-01T00:00:00\",\"2012-02-01T00:00:00\",\"2012-03-01T00:00:00\",\"2012-04-01T00:00:00\",\"2012-05-01T00:00:00\",\"2012-06-01T00:00:00\",\"2012-07-01T00:00:00\",\"2012-08-01T00:00:00\",\"2012-09-01T00:00:00\",\"2012-10-01T00:00:00\",\"2012-11-01T00:00:00\",\"2012-12-01T00:00:00\",\"2013-01-01T00:00:00\",\"2013-02-01T00:00:00\",\"2013-03-01T00:00:00\",\"2013-04-01T00:00:00\",\"2013-05-01T00:00:00\",\"2013-06-01T00:00:00\",\"2013-07-01T00:00:00\",\"2013-08-01T00:00:00\",\"2013-09-01T00:00:00\",\"2013-10-01T00:00:00\",\"2013-11-01T00:00:00\",\"2013-12-01T00:00:00\",\"2014-01-01T00:00:00\",\"2014-02-01T00:00:00\",\"2014-03-01T00:00:00\",\"2014-04-01T00:00:00\",\"2014-05-01T00:00:00\",\"2014-06-01T00:00:00\",\"2014-07-01T00:00:00\",\"2014-08-01T00:00:00\",\"2014-09-01T00:00:00\",\"2014-10-01T00:00:00\",\"2014-11-01T00:00:00\",\"2014-12-01T00:00:00\",\"2015-01-01T00:00:00\",\"2015-02-01T00:00:00\",\"2015-03-01T00:00:00\",\"2015-04-01T00:00:00\",\"2015-05-01T00:00:00\",\"2015-06-01T00:00:00\",\"2015-07-01T00:00:00\",\"2015-08-01T00:00:00\",\"2015-09-01T00:00:00\",\"2015-10-01T00:00:00\",\"2015-11-01T00:00:00\",\"2015-12-01T00:00:00\",\"2016-01-01T00:00:00\",\"2016-02-01T00:00:00\",\"2016-03-01T00:00:00\",\"2016-04-01T00:00:00\",\"2016-05-01T00:00:00\",\"2016-06-01T00:00:00\",\"2016-07-01T00:00:00\",\"2016-08-01T00:00:00\",\"2016-09-01T00:00:00\",\"2016-10-01T00:00:00\",\"2016-11-01T00:00:00\",\"2016-12-01T00:00:00\",\"2017-01-01T00:00:00\",\"2017-02-01T00:00:00\",\"2017-03-01T00:00:00\",\"2017-04-01T00:00:00\",\"2017-05-01T00:00:00\",\"2017-06-01T00:00:00\",\"2017-07-01T00:00:00\",\"2017-08-01T00:00:00\",\"2017-09-01T00:00:00\",\"2017-10-01T00:00:00\",\"2017-11-01T00:00:00\",\"2017-12-01T00:00:00\",\"2018-01-01T00:00:00\",\"2018-02-01T00:00:00\",\"2018-03-01T00:00:00\",\"2018-04-01T00:00:00\",\"2018-05-01T00:00:00\",\"2018-06-01T00:00:00\",\"2018-07-01T00:00:00\",\"2018-08-01T00:00:00\",\"2018-09-01T00:00:00\",\"2018-10-01T00:00:00\",\"2018-11-01T00:00:00\",\"2018-12-01T00:00:00\",\"2019-01-01T00:00:00\",\"2019-02-01T00:00:00\",\"2019-03-01T00:00:00\",\"2019-04-01T00:00:00\",\"2019-05-01T00:00:00\",\"2019-06-01T00:00:00\",\"2019-07-01T00:00:00\",\"2019-08-01T00:00:00\",\"2019-09-01T00:00:00\",\"2019-10-01T00:00:00\",\"2019-11-01T00:00:00\",\"2019-12-01T00:00:00\",\"2020-01-01T00:00:00\",\"2020-02-01T00:00:00\",\"2020-03-01T00:00:00\",\"2020-04-01T00:00:00\",\"2020-05-01T00:00:00\",\"2020-06-01T00:00:00\",\"2020-07-01T00:00:00\",\"2020-08-01T00:00:00\",\"2020-09-01T00:00:00\",\"2020-10-01T00:00:00\",\"2020-11-01T00:00:00\",\"2020-12-01T00:00:00\",\"2021-01-01T00:00:00\",\"2021-02-01T00:00:00\",\"2021-03-01T00:00:00\",\"2021-04-01T00:00:00\",\"2021-05-01T00:00:00\",\"2021-06-01T00:00:00\",\"2021-07-01T00:00:00\",\"2021-08-01T00:00:00\",\"2021-09-01T00:00:00\",\"2021-10-01T00:00:00\",\"2021-11-01T00:00:00\",\"2021-12-01T00:00:00\",\"2022-01-01T00:00:00\",\"2022-02-01T00:00:00\",\"2022-03-01T00:00:00\",\"2022-04-01T00:00:00\",\"2022-05-01T00:00:00\",\"2022-06-01T00:00:00\",\"2022-07-01T00:00:00\",\"2022-08-01T00:00:00\",\"2022-09-01T00:00:00\",\"2022-10-01T00:00:00\",\"2022-11-01T00:00:00\",\"2022-12-01T00:00:00\",\"2023-01-01T00:00:00\",\"2023-02-01T00:00:00\",\"2023-03-01T00:00:00\",\"2023-04-01T00:00:00\",\"2023-05-01T00:00:00\",\"2023-06-01T00:00:00\",\"2023-07-01T00:00:00\",\"2023-08-01T00:00:00\",\"2023-09-01T00:00:00\",\"2023-10-01T00:00:00\",\"2023-11-01T00:00:00\",\"2023-12-01T00:00:00\",\"2024-01-01T00:00:00\",\"2024-02-01T00:00:00\",\"2024-03-01T00:00:00\",\"2024-04-01T00:00:00\",\"2024-05-01T00:00:00\",\"2024-06-01T00:00:00\",\"2024-07-01T00:00:00\",\"2024-08-01T00:00:00\"],\"xaxis\":\"x\",\"y\":[27.67,27.8,27.86,27.93,28.0,28.11,28.19,28.28,28.32,28.32,28.41,28.47,28.64,28.7,28.87,28.94,28.94,28.91,28.89,28.94,28.91,28.91,28.95,28.97,29.01,29.0,28.97,28.98,29.04,29.11,29.15,29.18,29.25,29.35,29.35,29.41,29.37,29.41,29.41,29.54,29.57,29.61,29.55,29.61,29.61,29.75,29.78,29.81,29.84,29.84,29.84,29.81,29.84,29.84,29.92,29.94,29.98,29.98,29.98,30.01,30.04,30.11,30.17,30.21,30.24,30.21,30.22,30.28,30.42,30.38,30.38,30.38,30.44,30.48,30.51,30.48,30.51,30.61,30.69,30.75,30.72,30.75,30.78,30.88,30.94,30.91,30.94,30.95,30.98,31.01,31.02,31.05,31.08,31.12,31.21,31.25,31.28,31.28,31.31,31.38,31.48,31.61,31.58,31.55,31.62,31.65,31.75,31.85,31.88,32.08,32.18,32.28,32.35,32.38,32.45,32.65,32.75,32.85,32.88,32.92,32.9,33.0,33.0,33.1,33.1,33.3,33.4,33.5,33.6,33.7,33.9,34.0,34.1,34.2,34.3,34.4,34.5,34.7,34.9,35.0,35.1,35.3,35.4,35.6,35.7,35.8,36.1,36.3,36.4,36.6,36.8,36.9,37.1,37.3,37.5,37.7,37.9,38.1,38.3,38.5,38.6,38.8,38.9,39.0,39.2,39.4,39.6,39.8,39.9,39.9,40.0,40.1,40.3,40.5,40.6,40.7,40.8,40.9,41.0,41.1,41.2,41.4,41.4,41.5,41.6,41.7,41.8,41.9,42.1,42.2,42.4,42.5,42.7,43.0,43.4,43.7,43.9,44.2,44.2,45.0,45.2,45.6,45.9,46.3,46.8,47.3,47.8,48.1,48.6,49.0,49.3,49.9,50.6,51.0,51.5,51.9,52.3,52.6,52.8,53.0,53.1,53.5,54.0,54.2,54.6,54.9,55.3,55.6,55.8,55.9,56.0,56.1,56.4,56.7,57.0,57.3,57.6,57.9,58.1,58.4,58.7,59.3,59.6,60.0,60.2,60.5,60.8,61.1,61.3,61.6,62.0,62.3,62.7,63.0,63.4,63.9,64.5,65.0,65.5,65.9,66.5,67.1,67.5,67.9,68.5,69.2,69.9,70.6,71.4,72.2,73.0,73.7,74.4,75.2,76.0,76.9,78.0,79.0,80.1,80.9,81.7,82.5,82.6,83.2,83.9,84.7,85.6,86.4,87.2,88.0,88.6,89.1,89.7,90.5,91.5,92.2,93.1,93.4,93.8,94.1,94.4,94.7,94.7,95.0,95.9,97.0,97.5,97.7,97.7,98.1,98.0,97.7,97.9,98.0,98.1,98.8,99.2,99.4,99.8,100.1,100.4,100.8,101.1,101.4,102.1,102.6,102.9,103.3,103.5,103.7,104.1,104.4,104.7,105.1,105.3,105.5,105.7,106.3,106.8,107.0,107.2,107.5,107.7,107.9,108.1,108.5,109.0,109.5,109.9,109.7,109.1,108.7,109.0,109.4,109.5,109.6,110.0,110.2,110.4,110.8,111.4,111.8,112.2,112.7,113.0,113.5,113.8,114.3,114.7,115.0,115.4,115.6,116.0,116.2,116.5,117.2,117.5,118.0,118.5,119.0,119.5,119.9,120.3,120.7,121.2,121.6,122.2,123.1,123.7,124.1,124.5,124.5,124.8,125.4,125.9,126.3,127.5,128.0,128.6,128.9,129.1,129.9,130.5,131.6,132.5,133.4,133.7,134.2,134.7,134.8,134.8,135.1,135.6,136.0,136.2,136.6,137.0,137.2,137.8,138.2,138.3,138.6,139.1,139.4,139.7,140.1,140.5,140.8,141.1,141.7,142.1,142.3,142.8,143.1,143.3,143.8,144.2,144.3,144.5,144.8,145.0,145.6,146.0,146.3,146.3,146.7,147.1,147.2,147.5,147.9,148.4,149.0,149.3,149.4,149.8,150.1,150.5,150.9,151.2,151.8,152.1,152.4,152.6,152.9,153.1,153.5,153.7,153.9,154.7,155.0,155.5,156.1,156.4,156.7,157.0,157.2,157.7,158.2,158.7,159.1,159.4,159.7,159.8,159.9,159.9,160.2,160.4,160.8,161.2,161.5,161.7,161.8,162.0,162.0,162.0,162.2,162.6,162.8,163.2,163.4,163.5,163.9,164.1,164.4,164.7,164.7,164.8,165.9,166.0,166.0,166.7,167.1,167.8,168.1,168.4,168.8,169.3,170.0,171.0,170.9,171.2,172.2,172.7,172.7,173.6,173.9,174.2,174.6,175.6,176.0,176.1,176.4,177.3,177.7,177.4,177.4,178.1,177.6,177.5,177.4,177.7,178.0,178.5,179.3,179.5,179.6,180.0,180.5,180.8,181.2,181.5,181.8,182.6,183.6,183.9,183.2,182.9,183.1,183.7,184.5,185.1,184.9,185.0,185.5,186.3,186.7,187.1,187.4,188.2,188.9,189.1,189.2,189.8,190.8,191.7,191.7,191.6,192.4,193.1,193.7,193.6,193.7,194.9,196.1,198.8,199.1,198.1,198.1,199.3,199.4,199.7,200.7,201.3,201.8,202.9,203.8,202.8,201.9,202.0,203.1,203.437,204.226,205.288,205.904,206.755,207.234,207.603,207.667,208.547,209.19,210.834,211.445,212.174,212.687,213.448,213.942,215.208,217.463,219.016,218.69,218.877,216.995,213.153,211.398,211.933,212.705,212.495,212.709,213.022,214.79,214.726,215.445,215.861,216.509,217.234,217.347,217.488,217.281,217.353,217.403,217.29,217.199,217.605,217.923,218.275,219.035,219.59,220.472,221.187,221.898,223.046,224.093,224.806,224.806,225.395,226.106,226.597,226.75,227.169,227.223,227.842,228.329,228.807,229.187,228.713,228.524,228.59,229.918,231.015,231.638,231.249,231.221,231.679,232.937,232.282,231.797,231.893,232.445,232.9,233.456,233.544,233.669,234.1,234.719,235.288,235.547,236.028,236.468,236.918,237.231,237.498,237.46,237.477,237.43,236.983,236.252,234.747,235.342,235.976,236.222,237.001,237.657,238.034,238.033,237.498,237.733,238.017,237.761,237.652,237.336,238.08,238.992,239.557,240.222,240.101,240.545,241.176,241.741,242.026,242.637,243.618,244.006,243.892,244.193,244.004,244.163,244.243,245.183,246.435,246.626,247.284,247.805,248.859,249.529,249.577,250.227,250.792,251.018,251.214,251.663,252.182,252.772,252.594,252.767,252.561,253.319,254.277,255.233,255.296,255.213,255.802,256.036,256.43,257.155,257.879,258.63,258.906,259.246,258.15,256.126,255.848,257.004,258.408,259.366,259.951,260.249,260.895,262.005,262.518,263.583,264.91,266.752,268.452,270.664,271.994,272.789,273.887,276.434,278.799,280.808,282.39,284.535,287.553,288.764,291.359,294.996,294.977,295.209,296.341,297.863,298.648,298.812,300.356,301.509,301.744,303.032,303.365,304.003,304.628,306.187,307.288,307.531,308.024,308.742,309.685,311.054,312.23,313.207,313.225,313.049,313.534,314.121],\"yaxis\":\"y\",\"type\":\"scattergl\"},{\"hovertemplate\":\"variable=CPI_Less_Food_Energy\\u003cbr\\u003eDate=%{x}\\u003cbr\\u003evalue=%{y}\\u003cextra\\u003e\\u003c\\u002fextra\\u003e\",\"legendgroup\":\"CPI_Less_Food_Energy\",\"line\":{\"color\":\"#EF553B\",\"dash\":\"solid\"},\"marker\":{\"symbol\":\"circle\"},\"mode\":\"lines\",\"name\":\"CPI_Less_Food_Energy\",\"showlegend\":true,\"x\":[\"1957-01-01T00:00:00\",\"1957-02-01T00:00:00\",\"1957-03-01T00:00:00\",\"1957-04-01T00:00:00\",\"1957-05-01T00:00:00\",\"1957-06-01T00:00:00\",\"1957-07-01T00:00:00\",\"1957-08-01T00:00:00\",\"1957-09-01T00:00:00\",\"1957-10-01T00:00:00\",\"1957-11-01T00:00:00\",\"1957-12-01T00:00:00\",\"1958-01-01T00:00:00\",\"1958-02-01T00:00:00\",\"1958-03-01T00:00:00\",\"1958-04-01T00:00:00\",\"1958-05-01T00:00:00\",\"1958-06-01T00:00:00\",\"1958-07-01T00:00:00\",\"1958-08-01T00:00:00\",\"1958-09-01T00:00:00\",\"1958-10-01T00:00:00\",\"1958-11-01T00:00:00\",\"1958-12-01T00:00:00\",\"1959-01-01T00:00:00\",\"1959-02-01T00:00:00\",\"1959-03-01T00:00:00\",\"1959-04-01T00:00:00\",\"1959-05-01T00:00:00\",\"1959-06-01T00:00:00\",\"1959-07-01T00:00:00\",\"1959-08-01T00:00:00\",\"1959-09-01T00:00:00\",\"1959-10-01T00:00:00\",\"1959-11-01T00:00:00\",\"1959-12-01T00:00:00\",\"1960-01-01T00:00:00\",\"1960-02-01T00:00:00\",\"1960-03-01T00:00:00\",\"1960-04-01T00:00:00\",\"1960-05-01T00:00:00\",\"1960-06-01T00:00:00\",\"1960-07-01T00:00:00\",\"1960-08-01T00:00:00\",\"1960-09-01T00:00:00\",\"1960-10-01T00:00:00\",\"1960-11-01T00:00:00\",\"1960-12-01T00:00:00\",\"1961-01-01T00:00:00\",\"1961-02-01T00:00:00\",\"1961-03-01T00:00:00\",\"1961-04-01T00:00:00\",\"1961-05-01T00:00:00\",\"1961-06-01T00:00:00\",\"1961-07-01T00:00:00\",\"1961-08-01T00:00:00\",\"1961-09-01T00:00:00\",\"1961-10-01T00:00:00\",\"1961-11-01T00:00:00\",\"1961-12-01T00:00:00\",\"1962-01-01T00:00:00\",\"1962-02-01T00:00:00\",\"1962-03-01T00:00:00\",\"1962-04-01T00:00:00\",\"1962-05-01T00:00:00\",\"1962-06-01T00:00:00\",\"1962-07-01T00:00:00\",\"1962-08-01T00:00:00\",\"1962-09-01T00:00:00\",\"1962-10-01T00:00:00\",\"1962-11-01T00:00:00\",\"1962-12-01T00:00:00\",\"1963-01-01T00:00:00\",\"1963-02-01T00:00:00\",\"1963-03-01T00:00:00\",\"1963-04-01T00:00:00\",\"1963-05-01T00:00:00\",\"1963-06-01T00:00:00\",\"1963-07-01T00:00:00\",\"1963-08-01T00:00:00\",\"1963-09-01T00:00:00\",\"1963-10-01T00:00:00\",\"1963-11-01T00:00:00\",\"1963-12-01T00:00:00\",\"1964-01-01T00:00:00\",\"1964-02-01T00:00:00\",\"1964-03-01T00:00:00\",\"1964-04-01T00:00:00\",\"1964-05-01T00:00:00\",\"1964-06-01T00:00:00\",\"1964-07-01T00:00:00\",\"1964-08-01T00:00:00\",\"1964-09-01T00:00:00\",\"1964-10-01T00:00:00\",\"1964-11-01T00:00:00\",\"1964-12-01T00:00:00\",\"1965-01-01T00:00:00\",\"1965-02-01T00:00:00\",\"1965-03-01T00:00:00\",\"1965-04-01T00:00:00\",\"1965-05-01T00:00:00\",\"1965-06-01T00:00:00\",\"1965-07-01T00:00:00\",\"1965-08-01T00:00:00\",\"1965-09-01T00:00:00\",\"1965-10-01T00:00:00\",\"1965-11-01T00:00:00\",\"1965-12-01T00:00:00\",\"1966-01-01T00:00:00\",\"1966-02-01T00:00:00\",\"1966-03-01T00:00:00\",\"1966-04-01T00:00:00\",\"1966-05-01T00:00:00\",\"1966-06-01T00:00:00\",\"1966-07-01T00:00:00\",\"1966-08-01T00:00:00\",\"1966-09-01T00:00:00\",\"1966-10-01T00:00:00\",\"1966-11-01T00:00:00\",\"1966-12-01T00:00:00\",\"1967-01-01T00:00:00\",\"1967-02-01T00:00:00\",\"1967-03-01T00:00:00\",\"1967-04-01T00:00:00\",\"1967-05-01T00:00:00\",\"1967-06-01T00:00:00\",\"1967-07-01T00:00:00\",\"1967-08-01T00:00:00\",\"1967-09-01T00:00:00\",\"1967-10-01T00:00:00\",\"1967-11-01T00:00:00\",\"1967-12-01T00:00:00\",\"1968-01-01T00:00:00\",\"1968-02-01T00:00:00\",\"1968-03-01T00:00:00\",\"1968-04-01T00:00:00\",\"1968-05-01T00:00:00\",\"1968-06-01T00:00:00\",\"1968-07-01T00:00:00\",\"1968-08-01T00:00:00\",\"1968-09-01T00:00:00\",\"1968-10-01T00:00:00\",\"1968-11-01T00:00:00\",\"1968-12-01T00:00:00\",\"1969-01-01T00:00:00\",\"1969-02-01T00:00:00\",\"1969-03-01T00:00:00\",\"1969-04-01T00:00:00\",\"1969-05-01T00:00:00\",\"1969-06-01T00:00:00\",\"1969-07-01T00:00:00\",\"1969-08-01T00:00:00\",\"1969-09-01T00:00:00\",\"1969-10-01T00:00:00\",\"1969-11-01T00:00:00\",\"1969-12-01T00:00:00\",\"1970-01-01T00:00:00\",\"1970-02-01T00:00:00\",\"1970-03-01T00:00:00\",\"1970-04-01T00:00:00\",\"1970-05-01T00:00:00\",\"1970-06-01T00:00:00\",\"1970-07-01T00:00:00\",\"1970-08-01T00:00:00\",\"1970-09-01T00:00:00\",\"1970-10-01T00:00:00\",\"1970-11-01T00:00:00\",\"1970-12-01T00:00:00\",\"1971-01-01T00:00:00\",\"1971-02-01T00:00:00\",\"1971-03-01T00:00:00\",\"1971-04-01T00:00:00\",\"1971-05-01T00:00:00\",\"1971-06-01T00:00:00\",\"1971-07-01T00:00:00\",\"1971-08-01T00:00:00\",\"1971-09-01T00:00:00\",\"1971-10-01T00:00:00\",\"1971-11-01T00:00:00\",\"1971-12-01T00:00:00\",\"1972-01-01T00:00:00\",\"1972-02-01T00:00:00\",\"1972-03-01T00:00:00\",\"1972-04-01T00:00:00\",\"1972-05-01T00:00:00\",\"1972-06-01T00:00:00\",\"1972-07-01T00:00:00\",\"1972-08-01T00:00:00\",\"1972-09-01T00:00:00\",\"1972-10-01T00:00:00\",\"1972-11-01T00:00:00\",\"1972-12-01T00:00:00\",\"1973-01-01T00:00:00\",\"1973-02-01T00:00:00\",\"1973-03-01T00:00:00\",\"1973-04-01T00:00:00\",\"1973-05-01T00:00:00\",\"1973-06-01T00:00:00\",\"1973-07-01T00:00:00\",\"1973-08-01T00:00:00\",\"1973-09-01T00:00:00\",\"1973-10-01T00:00:00\",\"1973-11-01T00:00:00\",\"1973-12-01T00:00:00\",\"1974-01-01T00:00:00\",\"1974-02-01T00:00:00\",\"1974-03-01T00:00:00\",\"1974-04-01T00:00:00\",\"1974-05-01T00:00:00\",\"1974-06-01T00:00:00\",\"1974-07-01T00:00:00\",\"1974-08-01T00:00:00\",\"1974-09-01T00:00:00\",\"1974-10-01T00:00:00\",\"1974-11-01T00:00:00\",\"1974-12-01T00:00:00\",\"1975-01-01T00:00:00\",\"1975-02-01T00:00:00\",\"1975-03-01T00:00:00\",\"1975-04-01T00:00:00\",\"1975-05-01T00:00:00\",\"1975-06-01T00:00:00\",\"1975-07-01T00:00:00\",\"1975-08-01T00:00:00\",\"1975-09-01T00:00:00\",\"1975-10-01T00:00:00\",\"1975-11-01T00:00:00\",\"1975-12-01T00:00:00\",\"1976-01-01T00:00:00\",\"1976-02-01T00:00:00\",\"1976-03-01T00:00:00\",\"1976-04-01T00:00:00\",\"1976-05-01T00:00:00\",\"1976-06-01T00:00:00\",\"1976-07-01T00:00:00\",\"1976-08-01T00:00:00\",\"1976-09-01T00:00:00\",\"1976-10-01T00:00:00\",\"1976-11-01T00:00:00\",\"1976-12-01T00:00:00\",\"1977-01-01T00:00:00\",\"1977-02-01T00:00:00\",\"1977-03-01T00:00:00\",\"1977-04-01T00:00:00\",\"1977-05-01T00:00:00\",\"1977-06-01T00:00:00\",\"1977-07-01T00:00:00\",\"1977-08-01T00:00:00\",\"1977-09-01T00:00:00\",\"1977-10-01T00:00:00\",\"1977-11-01T00:00:00\",\"1977-12-01T00:00:00\",\"1978-01-01T00:00:00\",\"1978-02-01T00:00:00\",\"1978-03-01T00:00:00\",\"1978-04-01T00:00:00\",\"1978-05-01T00:00:00\",\"1978-06-01T00:00:00\",\"1978-07-01T00:00:00\",\"1978-08-01T00:00:00\",\"1978-09-01T00:00:00\",\"1978-10-01T00:00:00\",\"1978-11-01T00:00:00\",\"1978-12-01T00:00:00\",\"1979-01-01T00:00:00\",\"1979-02-01T00:00:00\",\"1979-03-01T00:00:00\",\"1979-04-01T00:00:00\",\"1979-05-01T00:00:00\",\"1979-06-01T00:00:00\",\"1979-07-01T00:00:00\",\"1979-08-01T00:00:00\",\"1979-09-01T00:00:00\",\"1979-10-01T00:00:00\",\"1979-11-01T00:00:00\",\"1979-12-01T00:00:00\",\"1980-01-01T00:00:00\",\"1980-02-01T00:00:00\",\"1980-03-01T00:00:00\",\"1980-04-01T00:00:00\",\"1980-05-01T00:00:00\",\"1980-06-01T00:00:00\",\"1980-07-01T00:00:00\",\"1980-08-01T00:00:00\",\"1980-09-01T00:00:00\",\"1980-10-01T00:00:00\",\"1980-11-01T00:00:00\",\"1980-12-01T00:00:00\",\"1981-01-01T00:00:00\",\"1981-02-01T00:00:00\",\"1981-03-01T00:00:00\",\"1981-04-01T00:00:00\",\"1981-05-01T00:00:00\",\"1981-06-01T00:00:00\",\"1981-07-01T00:00:00\",\"1981-08-01T00:00:00\",\"1981-09-01T00:00:00\",\"1981-10-01T00:00:00\",\"1981-11-01T00:00:00\",\"1981-12-01T00:00:00\",\"1982-01-01T00:00:00\",\"1982-02-01T00:00:00\",\"1982-03-01T00:00:00\",\"1982-04-01T00:00:00\",\"1982-05-01T00:00:00\",\"1982-06-01T00:00:00\",\"1982-07-01T00:00:00\",\"1982-08-01T00:00:00\",\"1982-09-01T00:00:00\",\"1982-10-01T00:00:00\",\"1982-11-01T00:00:00\",\"1982-12-01T00:00:00\",\"1983-01-01T00:00:00\",\"1983-02-01T00:00:00\",\"1983-03-01T00:00:00\",\"1983-04-01T00:00:00\",\"1983-05-01T00:00:00\",\"1983-06-01T00:00:00\",\"1983-07-01T00:00:00\",\"1983-08-01T00:00:00\",\"1983-09-01T00:00:00\",\"1983-10-01T00:00:00\",\"1983-11-01T00:00:00\",\"1983-12-01T00:00:00\",\"1984-01-01T00:00:00\",\"1984-02-01T00:00:00\",\"1984-03-01T00:00:00\",\"1984-04-01T00:00:00\",\"1984-05-01T00:00:00\",\"1984-06-01T00:00:00\",\"1984-07-01T00:00:00\",\"1984-08-01T00:00:00\",\"1984-09-01T00:00:00\",\"1984-10-01T00:00:00\",\"1984-11-01T00:00:00\",\"1984-12-01T00:00:00\",\"1985-01-01T00:00:00\",\"1985-02-01T00:00:00\",\"1985-03-01T00:00:00\",\"1985-04-01T00:00:00\",\"1985-05-01T00:00:00\",\"1985-06-01T00:00:00\",\"1985-07-01T00:00:00\",\"1985-08-01T00:00:00\",\"1985-09-01T00:00:00\",\"1985-10-01T00:00:00\",\"1985-11-01T00:00:00\",\"1985-12-01T00:00:00\",\"1986-01-01T00:00:00\",\"1986-02-01T00:00:00\",\"1986-03-01T00:00:00\",\"1986-04-01T00:00:00\",\"1986-05-01T00:00:00\",\"1986-06-01T00:00:00\",\"1986-07-01T00:00:00\",\"1986-08-01T00:00:00\",\"1986-09-01T00:00:00\",\"1986-10-01T00:00:00\",\"1986-11-01T00:00:00\",\"1986-12-01T00:00:00\",\"1987-01-01T00:00:00\",\"1987-02-01T00:00:00\",\"1987-03-01T00:00:00\",\"1987-04-01T00:00:00\",\"1987-05-01T00:00:00\",\"1987-06-01T00:00:00\",\"1987-07-01T00:00:00\",\"1987-08-01T00:00:00\",\"1987-09-01T00:00:00\",\"1987-10-01T00:00:00\",\"1987-11-01T00:00:00\",\"1987-12-01T00:00:00\",\"1988-01-01T00:00:00\",\"1988-02-01T00:00:00\",\"1988-03-01T00:00:00\",\"1988-04-01T00:00:00\",\"1988-05-01T00:00:00\",\"1988-06-01T00:00:00\",\"1988-07-01T00:00:00\",\"1988-08-01T00:00:00\",\"1988-09-01T00:00:00\",\"1988-10-01T00:00:00\",\"1988-11-01T00:00:00\",\"1988-12-01T00:00:00\",\"1989-01-01T00:00:00\",\"1989-02-01T00:00:00\",\"1989-03-01T00:00:00\",\"1989-04-01T00:00:00\",\"1989-05-01T00:00:00\",\"1989-06-01T00:00:00\",\"1989-07-01T00:00:00\",\"1989-08-01T00:00:00\",\"1989-09-01T00:00:00\",\"1989-10-01T00:00:00\",\"1989-11-01T00:00:00\",\"1989-12-01T00:00:00\",\"1990-01-01T00:00:00\",\"1990-02-01T00:00:00\",\"1990-03-01T00:00:00\",\"1990-04-01T00:00:00\",\"1990-05-01T00:00:00\",\"1990-06-01T00:00:00\",\"1990-07-01T00:00:00\",\"1990-08-01T00:00:00\",\"1990-09-01T00:00:00\",\"1990-10-01T00:00:00\",\"1990-11-01T00:00:00\",\"1990-12-01T00:00:00\",\"1991-01-01T00:00:00\",\"1991-02-01T00:00:00\",\"1991-03-01T00:00:00\",\"1991-04-01T00:00:00\",\"1991-05-01T00:00:00\",\"1991-06-01T00:00:00\",\"1991-07-01T00:00:00\",\"1991-08-01T00:00:00\",\"1991-09-01T00:00:00\",\"1991-10-01T00:00:00\",\"1991-11-01T00:00:00\",\"1991-12-01T00:00:00\",\"1992-01-01T00:00:00\",\"1992-02-01T00:00:00\",\"1992-03-01T00:00:00\",\"1992-04-01T00:00:00\",\"1992-05-01T00:00:00\",\"1992-06-01T00:00:00\",\"1992-07-01T00:00:00\",\"1992-08-01T00:00:00\",\"1992-09-01T00:00:00\",\"1992-10-01T00:00:00\",\"1992-11-01T00:00:00\",\"1992-12-01T00:00:00\",\"1993-01-01T00:00:00\",\"1993-02-01T00:00:00\",\"1993-03-01T00:00:00\",\"1993-04-01T00:00:00\",\"1993-05-01T00:00:00\",\"1993-06-01T00:00:00\",\"1993-07-01T00:00:00\",\"1993-08-01T00:00:00\",\"1993-09-01T00:00:00\",\"1993-10-01T00:00:00\",\"1993-11-01T00:00:00\",\"1993-12-01T00:00:00\",\"1994-01-01T00:00:00\",\"1994-02-01T00:00:00\",\"1994-03-01T00:00:00\",\"1994-04-01T00:00:00\",\"1994-05-01T00:00:00\",\"1994-06-01T00:00:00\",\"1994-07-01T00:00:00\",\"1994-08-01T00:00:00\",\"1994-09-01T00:00:00\",\"1994-10-01T00:00:00\",\"1994-11-01T00:00:00\",\"1994-12-01T00:00:00\",\"1995-01-01T00:00:00\",\"1995-02-01T00:00:00\",\"1995-03-01T00:00:00\",\"1995-04-01T00:00:00\",\"1995-05-01T00:00:00\",\"1995-06-01T00:00:00\",\"1995-07-01T00:00:00\",\"1995-08-01T00:00:00\",\"1995-09-01T00:00:00\",\"1995-10-01T00:00:00\",\"1995-11-01T00:00:00\",\"1995-12-01T00:00:00\",\"1996-01-01T00:00:00\",\"1996-02-01T00:00:00\",\"1996-03-01T00:00:00\",\"1996-04-01T00:00:00\",\"1996-05-01T00:00:00\",\"1996-06-01T00:00:00\",\"1996-07-01T00:00:00\",\"1996-08-01T00:00:00\",\"1996-09-01T00:00:00\",\"1996-10-01T00:00:00\",\"1996-11-01T00:00:00\",\"1996-12-01T00:00:00\",\"1997-01-01T00:00:00\",\"1997-02-01T00:00:00\",\"1997-03-01T00:00:00\",\"1997-04-01T00:00:00\",\"1997-05-01T00:00:00\",\"1997-06-01T00:00:00\",\"1997-07-01T00:00:00\",\"1997-08-01T00:00:00\",\"1997-09-01T00:00:00\",\"1997-10-01T00:00:00\",\"1997-11-01T00:00:00\",\"1997-12-01T00:00:00\",\"1998-01-01T00:00:00\",\"1998-02-01T00:00:00\",\"1998-03-01T00:00:00\",\"1998-04-01T00:00:00\",\"1998-05-01T00:00:00\",\"1998-06-01T00:00:00\",\"1998-07-01T00:00:00\",\"1998-08-01T00:00:00\",\"1998-09-01T00:00:00\",\"1998-10-01T00:00:00\",\"1998-11-01T00:00:00\",\"1998-12-01T00:00:00\",\"1999-01-01T00:00:00\",\"1999-02-01T00:00:00\",\"1999-03-01T00:00:00\",\"1999-04-01T00:00:00\",\"1999-05-01T00:00:00\",\"1999-06-01T00:00:00\",\"1999-07-01T00:00:00\",\"1999-08-01T00:00:00\",\"1999-09-01T00:00:00\",\"1999-10-01T00:00:00\",\"1999-11-01T00:00:00\",\"1999-12-01T00:00:00\",\"2000-01-01T00:00:00\",\"2000-02-01T00:00:00\",\"2000-03-01T00:00:00\",\"2000-04-01T00:00:00\",\"2000-05-01T00:00:00\",\"2000-06-01T00:00:00\",\"2000-07-01T00:00:00\",\"2000-08-01T00:00:00\",\"2000-09-01T00:00:00\",\"2000-10-01T00:00:00\",\"2000-11-01T00:00:00\",\"2000-12-01T00:00:00\",\"2001-01-01T00:00:00\",\"2001-02-01T00:00:00\",\"2001-03-01T00:00:00\",\"2001-04-01T00:00:00\",\"2001-05-01T00:00:00\",\"2001-06-01T00:00:00\",\"2001-07-01T00:00:00\",\"2001-08-01T00:00:00\",\"2001-09-01T00:00:00\",\"2001-10-01T00:00:00\",\"2001-11-01T00:00:00\",\"2001-12-01T00:00:00\",\"2002-01-01T00:00:00\",\"2002-02-01T00:00:00\",\"2002-03-01T00:00:00\",\"2002-04-01T00:00:00\",\"2002-05-01T00:00:00\",\"2002-06-01T00:00:00\",\"2002-07-01T00:00:00\",\"2002-08-01T00:00:00\",\"2002-09-01T00:00:00\",\"2002-10-01T00:00:00\",\"2002-11-01T00:00:00\",\"2002-12-01T00:00:00\",\"2003-01-01T00:00:00\",\"2003-02-01T00:00:00\",\"2003-03-01T00:00:00\",\"2003-04-01T00:00:00\",\"2003-05-01T00:00:00\",\"2003-06-01T00:00:00\",\"2003-07-01T00:00:00\",\"2003-08-01T00:00:00\",\"2003-09-01T00:00:00\",\"2003-10-01T00:00:00\",\"2003-11-01T00:00:00\",\"2003-12-01T00:00:00\",\"2004-01-01T00:00:00\",\"2004-02-01T00:00:00\",\"2004-03-01T00:00:00\",\"2004-04-01T00:00:00\",\"2004-05-01T00:00:00\",\"2004-06-01T00:00:00\",\"2004-07-01T00:00:00\",\"2004-08-01T00:00:00\",\"2004-09-01T00:00:00\",\"2004-10-01T00:00:00\",\"2004-11-01T00:00:00\",\"2004-12-01T00:00:00\",\"2005-01-01T00:00:00\",\"2005-02-01T00:00:00\",\"2005-03-01T00:00:00\",\"2005-04-01T00:00:00\",\"2005-05-01T00:00:00\",\"2005-06-01T00:00:00\",\"2005-07-01T00:00:00\",\"2005-08-01T00:00:00\",\"2005-09-01T00:00:00\",\"2005-10-01T00:00:00\",\"2005-11-01T00:00:00\",\"2005-12-01T00:00:00\",\"2006-01-01T00:00:00\",\"2006-02-01T00:00:00\",\"2006-03-01T00:00:00\",\"2006-04-01T00:00:00\",\"2006-05-01T00:00:00\",\"2006-06-01T00:00:00\",\"2006-07-01T00:00:00\",\"2006-08-01T00:00:00\",\"2006-09-01T00:00:00\",\"2006-10-01T00:00:00\",\"2006-11-01T00:00:00\",\"2006-12-01T00:00:00\",\"2007-01-01T00:00:00\",\"2007-02-01T00:00:00\",\"2007-03-01T00:00:00\",\"2007-04-01T00:00:00\",\"2007-05-01T00:00:00\",\"2007-06-01T00:00:00\",\"2007-07-01T00:00:00\",\"2007-08-01T00:00:00\",\"2007-09-01T00:00:00\",\"2007-10-01T00:00:00\",\"2007-11-01T00:00:00\",\"2007-12-01T00:00:00\",\"2008-01-01T00:00:00\",\"2008-02-01T00:00:00\",\"2008-03-01T00:00:00\",\"2008-04-01T00:00:00\",\"2008-05-01T00:00:00\",\"2008-06-01T00:00:00\",\"2008-07-01T00:00:00\",\"2008-08-01T00:00:00\",\"2008-09-01T00:00:00\",\"2008-10-01T00:00:00\",\"2008-11-01T00:00:00\",\"2008-12-01T00:00:00\",\"2009-01-01T00:00:00\",\"2009-02-01T00:00:00\",\"2009-03-01T00:00:00\",\"2009-04-01T00:00:00\",\"2009-05-01T00:00:00\",\"2009-06-01T00:00:00\",\"2009-07-01T00:00:00\",\"2009-08-01T00:00:00\",\"2009-09-01T00:00:00\",\"2009-10-01T00:00:00\",\"2009-11-01T00:00:00\",\"2009-12-01T00:00:00\",\"2010-01-01T00:00:00\",\"2010-02-01T00:00:00\",\"2010-03-01T00:00:00\",\"2010-04-01T00:00:00\",\"2010-05-01T00:00:00\",\"2010-06-01T00:00:00\",\"2010-07-01T00:00:00\",\"2010-08-01T00:00:00\",\"2010-09-01T00:00:00\",\"2010-10-01T00:00:00\",\"2010-11-01T00:00:00\",\"2010-12-01T00:00:00\",\"2011-01-01T00:00:00\",\"2011-02-01T00:00:00\",\"2011-03-01T00:00:00\",\"2011-04-01T00:00:00\",\"2011-05-01T00:00:00\",\"2011-06-01T00:00:00\",\"2011-07-01T00:00:00\",\"2011-08-01T00:00:00\",\"2011-09-01T00:00:00\",\"2011-10-01T00:00:00\",\"2011-11-01T00:00:00\",\"2011-12-01T00:00:00\",\"2012-01-01T00:00:00\",\"2012-02-01T00:00:00\",\"2012-03-01T00:00:00\",\"2012-04-01T00:00:00\",\"2012-05-01T00:00:00\",\"2012-06-01T00:00:00\",\"2012-07-01T00:00:00\",\"2012-08-01T00:00:00\",\"2012-09-01T00:00:00\",\"2012-10-01T00:00:00\",\"2012-11-01T00:00:00\",\"2012-12-01T00:00:00\",\"2013-01-01T00:00:00\",\"2013-02-01T00:00:00\",\"2013-03-01T00:00:00\",\"2013-04-01T00:00:00\",\"2013-05-01T00:00:00\",\"2013-06-01T00:00:00\",\"2013-07-01T00:00:00\",\"2013-08-01T00:00:00\",\"2013-09-01T00:00:00\",\"2013-10-01T00:00:00\",\"2013-11-01T00:00:00\",\"2013-12-01T00:00:00\",\"2014-01-01T00:00:00\",\"2014-02-01T00:00:00\",\"2014-03-01T00:00:00\",\"2014-04-01T00:00:00\",\"2014-05-01T00:00:00\",\"2014-06-01T00:00:00\",\"2014-07-01T00:00:00\",\"2014-08-01T00:00:00\",\"2014-09-01T00:00:00\",\"2014-10-01T00:00:00\",\"2014-11-01T00:00:00\",\"2014-12-01T00:00:00\",\"2015-01-01T00:00:00\",\"2015-02-01T00:00:00\",\"2015-03-01T00:00:00\",\"2015-04-01T00:00:00\",\"2015-05-01T00:00:00\",\"2015-06-01T00:00:00\",\"2015-07-01T00:00:00\",\"2015-08-01T00:00:00\",\"2015-09-01T00:00:00\",\"2015-10-01T00:00:00\",\"2015-11-01T00:00:00\",\"2015-12-01T00:00:00\",\"2016-01-01T00:00:00\",\"2016-02-01T00:00:00\",\"2016-03-01T00:00:00\",\"2016-04-01T00:00:00\",\"2016-05-01T00:00:00\",\"2016-06-01T00:00:00\",\"2016-07-01T00:00:00\",\"2016-08-01T00:00:00\",\"2016-09-01T00:00:00\",\"2016-10-01T00:00:00\",\"2016-11-01T00:00:00\",\"2016-12-01T00:00:00\",\"2017-01-01T00:00:00\",\"2017-02-01T00:00:00\",\"2017-03-01T00:00:00\",\"2017-04-01T00:00:00\",\"2017-05-01T00:00:00\",\"2017-06-01T00:00:00\",\"2017-07-01T00:00:00\",\"2017-08-01T00:00:00\",\"2017-09-01T00:00:00\",\"2017-10-01T00:00:00\",\"2017-11-01T00:00:00\",\"2017-12-01T00:00:00\",\"2018-01-01T00:00:00\",\"2018-02-01T00:00:00\",\"2018-03-01T00:00:00\",\"2018-04-01T00:00:00\",\"2018-05-01T00:00:00\",\"2018-06-01T00:00:00\",\"2018-07-01T00:00:00\",\"2018-08-01T00:00:00\",\"2018-09-01T00:00:00\",\"2018-10-01T00:00:00\",\"2018-11-01T00:00:00\",\"2018-12-01T00:00:00\",\"2019-01-01T00:00:00\",\"2019-02-01T00:00:00\",\"2019-03-01T00:00:00\",\"2019-04-01T00:00:00\",\"2019-05-01T00:00:00\",\"2019-06-01T00:00:00\",\"2019-07-01T00:00:00\",\"2019-08-01T00:00:00\",\"2019-09-01T00:00:00\",\"2019-10-01T00:00:00\",\"2019-11-01T00:00:00\",\"2019-12-01T00:00:00\",\"2020-01-01T00:00:00\",\"2020-02-01T00:00:00\",\"2020-03-01T00:00:00\",\"2020-04-01T00:00:00\",\"2020-05-01T00:00:00\",\"2020-06-01T00:00:00\",\"2020-07-01T00:00:00\",\"2020-08-01T00:00:00\",\"2020-09-01T00:00:00\",\"2020-10-01T00:00:00\",\"2020-11-01T00:00:00\",\"2020-12-01T00:00:00\",\"2021-01-01T00:00:00\",\"2021-02-01T00:00:00\",\"2021-03-01T00:00:00\",\"2021-04-01T00:00:00\",\"2021-05-01T00:00:00\",\"2021-06-01T00:00:00\",\"2021-07-01T00:00:00\",\"2021-08-01T00:00:00\",\"2021-09-01T00:00:00\",\"2021-10-01T00:00:00\",\"2021-11-01T00:00:00\",\"2021-12-01T00:00:00\",\"2022-01-01T00:00:00\",\"2022-02-01T00:00:00\",\"2022-03-01T00:00:00\",\"2022-04-01T00:00:00\",\"2022-05-01T00:00:00\",\"2022-06-01T00:00:00\",\"2022-07-01T00:00:00\",\"2022-08-01T00:00:00\",\"2022-09-01T00:00:00\",\"2022-10-01T00:00:00\",\"2022-11-01T00:00:00\",\"2022-12-01T00:00:00\",\"2023-01-01T00:00:00\",\"2023-02-01T00:00:00\",\"2023-03-01T00:00:00\",\"2023-04-01T00:00:00\",\"2023-05-01T00:00:00\",\"2023-06-01T00:00:00\",\"2023-07-01T00:00:00\",\"2023-08-01T00:00:00\",\"2023-09-01T00:00:00\",\"2023-10-01T00:00:00\",\"2023-11-01T00:00:00\",\"2023-12-01T00:00:00\",\"2024-01-01T00:00:00\",\"2024-02-01T00:00:00\",\"2024-03-01T00:00:00\",\"2024-04-01T00:00:00\",\"2024-05-01T00:00:00\",\"2024-06-01T00:00:00\",\"2024-07-01T00:00:00\",\"2024-08-01T00:00:00\"],\"xaxis\":\"x\",\"y\":[28.5,28.6,28.7,28.8,28.8,28.9,29.0,29.0,29.1,29.2,29.3,29.3,29.3,29.4,29.5,29.5,29.5,29.6,29.6,29.6,29.7,29.7,29.8,29.9,29.9,29.9,30.0,30.0,30.1,30.2,30.2,30.2,30.3,30.4,30.4,30.5,30.5,30.6,30.6,30.6,30.6,30.7,30.6,30.6,30.6,30.8,30.8,30.7,30.8,30.8,30.9,30.9,30.9,31.0,31.0,31.1,31.1,31.1,31.2,31.2,31.2,31.2,31.3,31.3,31.4,31.4,31.4,31.5,31.5,31.5,31.5,31.6,31.5,31.6,31.7,31.7,31.7,31.8,31.8,31.9,31.9,32.0,32.0,32.1,32.2,32.2,32.2,32.2,32.2,32.3,32.3,32.3,32.3,32.4,32.5,32.5,32.6,32.6,32.6,32.7,32.7,32.7,32.7,32.7,32.8,32.8,32.9,33.0,33.0,33.1,33.1,33.3,33.4,33.5,33.6,33.7,33.8,34.0,34.0,34.1,34.2,34.2,34.3,34.4,34.5,34.6,34.7,34.9,35.0,35.1,35.2,35.4,35.5,35.7,35.8,35.9,36.0,36.2,36.4,36.5,36.7,36.9,37.1,37.2,37.3,37.6,37.8,38.1,38.1,38.3,38.5,38.7,38.9,39.1,39.2,39.4,39.6,39.8,40.1,40.4,40.5,40.8,40.9,41.1,41.3,41.5,41.8,42.0,42.1,42.2,42.2,42.4,42.6,42.8,42.9,43.0,43.0,43.1,43.2,43.3,43.5,43.6,43.6,43.8,43.9,44.0,44.1,44.3,44.3,44.4,44.4,44.6,44.6,44.8,45.0,45.1,45.3,45.4,45.5,45.7,46.0,46.3,46.5,46.7,46.9,47.2,47.6,47.9,48.5,49.0,49.5,50.2,50.7,51.2,51.6,52.0,52.3,52.8,53.0,53.3,53.5,53.8,54.0,54.2,54.5,54.8,55.2,55.5,55.9,56.2,56.5,56.7,57.0,57.2,57.6,57.9,58.2,58.5,58.7,58.9,59.3,59.7,60.0,60.3,60.6,61.0,61.2,61.5,61.8,62.0,62.3,62.7,63.1,63.4,63.8,64.3,64.7,65.2,65.6,66.1,66.7,67.2,67.6,68.0,68.5,69.2,69.8,70.3,70.8,71.3,71.9,72.7,73.3,74.0,74.8,75.7,76.7,77.5,78.6,79.5,80.1,81.0,80.8,81.3,82.1,83.0,83.9,84.9,85.4,85.9,86.4,87.0,87.8,88.6,89.8,90.7,91.8,92.1,92.5,93.0,93.3,93.8,93.9,94.7,95.4,96.1,96.7,97.1,97.2,97.5,97.3,97.2,97.6,98.0,98.2,98.6,98.9,99.2,99.8,100.1,100.5,101.0,101.5,101.8,102.5,102.8,103.2,103.7,104.1,104.5,105.0,105.4,105.8,106.2,106.4,106.8,107.1,107.7,108.1,108.4,108.8,109.1,109.4,109.8,110.0,110.5,111.1,111.4,111.9,112.2,112.5,112.9,113.1,113.4,113.8,114.2,114.6,115.0,115.3,115.6,115.9,116.2,116.6,117.3,117.7,117.9,118.3,118.7,119.2,119.8,120.1,120.4,120.9,121.2,121.7,122.3,122.7,123.2,123.6,124.0,124.7,125.2,125.6,126.0,126.5,126.9,127.4,127.8,128.3,128.8,129.2,129.5,129.9,130.6,131.1,131.6,132.1,132.7,133.5,134.0,134.4,135.1,135.8,136.6,137.1,137.6,138.0,138.6,139.5,140.2,140.5,140.9,141.3,141.8,142.3,142.9,143.4,143.7,144.2,144.7,145.1,145.4,145.9,146.3,146.8,147.1,147.6,147.9,148.1,148.8,149.2,149.6,150.1,150.6,150.8,151.4,151.8,152.1,152.3,152.8,152.9,153.4,153.9,154.3,154.5,154.8,155.3,155.5,155.9,156.4,156.7,157.1,157.5,157.8,158.2,158.3,159.0,159.4,159.9,160.4,160.7,161.1,161.4,161.8,162.2,162.7,163.0,163.1,163.7,164.0,164.4,164.6,165.0,165.4,165.7,166.0,166.5,166.8,167.2,167.4,167.8,168.1,168.4,168.9,169.2,169.4,169.7,169.8,170.2,170.6,170.8,171.2,171.6,171.9,172.2,172.5,172.9,173.2,173.5,174.0,174.2,174.4,174.8,175.4,175.6,175.6,175.7,176.3,176.5,176.6,177.1,177.3,177.8,178.1,178.4,178.7,179.3,179.4,180.0,180.3,180.7,181.1,181.5,181.9,182.3,182.6,183.1,183.3,183.9,184.4,184.7,185.1,185.3,186.0,186.4,186.7,187.1,187.4,188.1,188.4,188.7,189.1,189.2,189.7,190.0,190.2,190.5,191.1,191.3,191.5,191.9,192.1,192.4,192.5,192.5,192.5,192.9,193.0,193.4,193.6,193.7,194.0,194.0,194.2,194.6,194.9,195.5,195.9,196.2,196.6,196.8,196.9,197.5,197.9,198.3,198.6,199.0,199.4,200.1,200.2,200.5,200.6,200.9,201.1,201.3,202.0,202.5,202.8,203.2,203.6,204.3,204.8,205.4,205.9,206.3,206.8,207.2,207.6,207.8,208.1,208.6,209.135,209.418,209.747,210.058,210.392,210.773,211.119,211.554,212.077,212.66,213.168,213.771,213.939,214.42,214.56,214.936,215.424,215.965,216.393,216.713,216.788,216.947,216.925,217.346,217.792,218.253,218.706,218.904,219.112,219.263,219.496,219.92,220.501,220.666,220.881,220.633,220.731,220.783,220.822,220.962,221.194,221.363,221.509,221.711,221.83,222.149,222.343,222.803,223.213,223.454,223.727,224.175,224.697,225.218,225.862,226.118,226.506,226.899,227.405,227.877,228.034,228.478,228.905,229.224,229.623,229.97,230.233,230.659,231.024,231.33,231.725,232.229,232.569,232.794,232.832,232.996,233.35,233.88,234.336,234.7,234.921,235.359,235.759,235.961,236.185,236.625,237.072,237.529,237.837,238.195,238.405,238.786,239.191,239.458,239.584,239.811,240.172,240.755,241.346,241.688,242.064,242.565,242.817,243.316,243.768,244.241,244.547,244.955,245.51,245.913,246.551,247.137,247.54,247.829,248.423,248.842,249.142,249.481,249.92,250.467,250.998,250.944,251.227,251.43,251.746,251.985,252.535,252.812,253.526,253.816,254.344,255.204,255.711,256.271,256.63,257.145,257.399,257.699,257.891,258.368,258.917,259.439,260.063,260.766,261.186,261.567,261.997,262.217,262.739,263.28,263.877,264.388,264.97,265.548,266.02,266.698,267.402,267.068,265.796,265.461,265.839,267.373,268.39,268.9,269.28,269.967,270.34,270.422,270.813,271.461,273.665,275.494,277.585,278.612,278.993,279.71,281.623,283.393,285.221,286.811,288.287,289.041,290.515,292.072,293.972,295.055,296.569,298.284,299.351,300.292,301.423,302.709,304.124,305.112,306.539,307.646,308.245,308.945,309.656,310.644,311.39,312.349,313.209,314.438,315.565,316.698,317.622,318.14,318.346,318.872,319.768],\"yaxis\":\"y\",\"type\":\"scattergl\"}],                        {\"template\":{\"data\":{\"histogram2dcontour\":[{\"type\":\"histogram2dcontour\",\"colorbar\":{\"outlinewidth\":0,\"ticks\":\"\"},\"colorscale\":[[0.0,\"#0d0887\"],[0.1111111111111111,\"#46039f\"],[0.2222222222222222,\"#7201a8\"],[0.3333333333333333,\"#9c179e\"],[0.4444444444444444,\"#bd3786\"],[0.5555555555555556,\"#d8576b\"],[0.6666666666666666,\"#ed7953\"],[0.7777777777777778,\"#fb9f3a\"],[0.8888888888888888,\"#fdca26\"],[1.0,\"#f0f921\"]]}],\"choropleth\":[{\"type\":\"choropleth\",\"colorbar\":{\"outlinewidth\":0,\"ticks\":\"\"}}],\"histogram2d\":[{\"type\":\"histogram2d\",\"colorbar\":{\"outlinewidth\":0,\"ticks\":\"\"},\"colorscale\":[[0.0,\"#0d0887\"],[0.1111111111111111,\"#46039f\"],[0.2222222222222222,\"#7201a8\"],[0.3333333333333333,\"#9c179e\"],[0.4444444444444444,\"#bd3786\"],[0.5555555555555556,\"#d8576b\"],[0.6666666666666666,\"#ed7953\"],[0.7777777777777778,\"#fb9f3a\"],[0.8888888888888888,\"#fdca26\"],[1.0,\"#f0f921\"]]}],\"heatmap\":[{\"type\":\"heatmap\",\"colorbar\":{\"outlinewidth\":0,\"ticks\":\"\"},\"colorscale\":[[0.0,\"#0d0887\"],[0.1111111111111111,\"#46039f\"],[0.2222222222222222,\"#7201a8\"],[0.3333333333333333,\"#9c179e\"],[0.4444444444444444,\"#bd3786\"],[0.5555555555555556,\"#d8576b\"],[0.6666666666666666,\"#ed7953\"],[0.7777777777777778,\"#fb9f3a\"],[0.8888888888888888,\"#fdca26\"],[1.0,\"#f0f921\"]]}],\"heatmapgl\":[{\"type\":\"heatmapgl\",\"colorbar\":{\"outlinewidth\":0,\"ticks\":\"\"},\"colorscale\":[[0.0,\"#0d0887\"],[0.1111111111111111,\"#46039f\"],[0.2222222222222222,\"#7201a8\"],[0.3333333333333333,\"#9c179e\"],[0.4444444444444444,\"#bd3786\"],[0.5555555555555556,\"#d8576b\"],[0.6666666666666666,\"#ed7953\"],[0.7777777777777778,\"#fb9f3a\"],[0.8888888888888888,\"#fdca26\"],[1.0,\"#f0f921\"]]}],\"contourcarpet\":[{\"type\":\"contourcarpet\",\"colorbar\":{\"outlinewidth\":0,\"ticks\":\"\"}}],\"contour\":[{\"type\":\"contour\",\"colorbar\":{\"outlinewidth\":0,\"ticks\":\"\"},\"colorscale\":[[0.0,\"#0d0887\"],[0.1111111111111111,\"#46039f\"],[0.2222222222222222,\"#7201a8\"],[0.3333333333333333,\"#9c179e\"],[0.4444444444444444,\"#bd3786\"],[0.5555555555555556,\"#d8576b\"],[0.6666666666666666,\"#ed7953\"],[0.7777777777777778,\"#fb9f3a\"],[0.8888888888888888,\"#fdca26\"],[1.0,\"#f0f921\"]]}],\"surface\":[{\"type\":\"surface\",\"colorbar\":{\"outlinewidth\":0,\"ticks\":\"\"},\"colorscale\":[[0.0,\"#0d0887\"],[0.1111111111111111,\"#46039f\"],[0.2222222222222222,\"#7201a8\"],[0.3333333333333333,\"#9c179e\"],[0.4444444444444444,\"#bd3786\"],[0.5555555555555556,\"#d8576b\"],[0.6666666666666666,\"#ed7953\"],[0.7777777777777778,\"#fb9f3a\"],[0.8888888888888888,\"#fdca26\"],[1.0,\"#f0f921\"]]}],\"mesh3d\":[{\"type\":\"mesh3d\",\"colorbar\":{\"outlinewidth\":0,\"ticks\":\"\"}}],\"scatter\":[{\"marker\":{\"line\":{\"color\":\"#283442\"}},\"type\":\"scatter\"}],\"parcoords\":[{\"type\":\"parcoords\",\"line\":{\"colorbar\":{\"outlinewidth\":0,\"ticks\":\"\"}}}],\"scatterpolargl\":[{\"type\":\"scatterpolargl\",\"marker\":{\"colorbar\":{\"outlinewidth\":0,\"ticks\":\"\"}}}],\"bar\":[{\"error_x\":{\"color\":\"#f2f5fa\"},\"error_y\":{\"color\":\"#f2f5fa\"},\"marker\":{\"line\":{\"color\":\"rgb(17,17,17)\",\"width\":0.5},\"pattern\":{\"fillmode\":\"overlay\",\"size\":10,\"solidity\":0.2}},\"type\":\"bar\"}],\"scattergeo\":[{\"type\":\"scattergeo\",\"marker\":{\"colorbar\":{\"outlinewidth\":0,\"ticks\":\"\"}}}],\"scatterpolar\":[{\"type\":\"scatterpolar\",\"marker\":{\"colorbar\":{\"outlinewidth\":0,\"ticks\":\"\"}}}],\"histogram\":[{\"marker\":{\"pattern\":{\"fillmode\":\"overlay\",\"size\":10,\"solidity\":0.2}},\"type\":\"histogram\"}],\"scattergl\":[{\"marker\":{\"line\":{\"color\":\"#283442\"}},\"type\":\"scattergl\"}],\"scatter3d\":[{\"type\":\"scatter3d\",\"line\":{\"colorbar\":{\"outlinewidth\":0,\"ticks\":\"\"}},\"marker\":{\"colorbar\":{\"outlinewidth\":0,\"ticks\":\"\"}}}],\"scattermapbox\":[{\"type\":\"scattermapbox\",\"marker\":{\"colorbar\":{\"outlinewidth\":0,\"ticks\":\"\"}}}],\"scatterternary\":[{\"type\":\"scatterternary\",\"marker\":{\"colorbar\":{\"outlinewidth\":0,\"ticks\":\"\"}}}],\"scattercarpet\":[{\"type\":\"scattercarpet\",\"marker\":{\"colorbar\":{\"outlinewidth\":0,\"ticks\":\"\"}}}],\"carpet\":[{\"aaxis\":{\"endlinecolor\":\"#A2B1C6\",\"gridcolor\":\"#506784\",\"linecolor\":\"#506784\",\"minorgridcolor\":\"#506784\",\"startlinecolor\":\"#A2B1C6\"},\"baxis\":{\"endlinecolor\":\"#A2B1C6\",\"gridcolor\":\"#506784\",\"linecolor\":\"#506784\",\"minorgridcolor\":\"#506784\",\"startlinecolor\":\"#A2B1C6\"},\"type\":\"carpet\"}],\"table\":[{\"cells\":{\"fill\":{\"color\":\"#506784\"},\"line\":{\"color\":\"rgb(17,17,17)\"}},\"header\":{\"fill\":{\"color\":\"#2a3f5f\"},\"line\":{\"color\":\"rgb(17,17,17)\"}},\"type\":\"table\"}],\"barpolar\":[{\"marker\":{\"line\":{\"color\":\"rgb(17,17,17)\",\"width\":0.5},\"pattern\":{\"fillmode\":\"overlay\",\"size\":10,\"solidity\":0.2}},\"type\":\"barpolar\"}],\"pie\":[{\"automargin\":true,\"type\":\"pie\"}]},\"layout\":{\"autotypenumbers\":\"strict\",\"colorway\":[\"#636efa\",\"#EF553B\",\"#00cc96\",\"#ab63fa\",\"#FFA15A\",\"#19d3f3\",\"#FF6692\",\"#B6E880\",\"#FF97FF\",\"#FECB52\"],\"font\":{\"color\":\"#f2f5fa\"},\"hovermode\":\"closest\",\"hoverlabel\":{\"align\":\"left\"},\"paper_bgcolor\":\"rgb(17,17,17)\",\"plot_bgcolor\":\"rgb(17,17,17)\",\"polar\":{\"bgcolor\":\"rgb(17,17,17)\",\"angularaxis\":{\"gridcolor\":\"#506784\",\"linecolor\":\"#506784\",\"ticks\":\"\"},\"radialaxis\":{\"gridcolor\":\"#506784\",\"linecolor\":\"#506784\",\"ticks\":\"\"}},\"ternary\":{\"bgcolor\":\"rgb(17,17,17)\",\"aaxis\":{\"gridcolor\":\"#506784\",\"linecolor\":\"#506784\",\"ticks\":\"\"},\"baxis\":{\"gridcolor\":\"#506784\",\"linecolor\":\"#506784\",\"ticks\":\"\"},\"caxis\":{\"gridcolor\":\"#506784\",\"linecolor\":\"#506784\",\"ticks\":\"\"}},\"coloraxis\":{\"colorbar\":{\"outlinewidth\":0,\"ticks\":\"\"}},\"colorscale\":{\"sequential\":[[0.0,\"#0d0887\"],[0.1111111111111111,\"#46039f\"],[0.2222222222222222,\"#7201a8\"],[0.3333333333333333,\"#9c179e\"],[0.4444444444444444,\"#bd3786\"],[0.5555555555555556,\"#d8576b\"],[0.6666666666666666,\"#ed7953\"],[0.7777777777777778,\"#fb9f3a\"],[0.8888888888888888,\"#fdca26\"],[1.0,\"#f0f921\"]],\"sequentialminus\":[[0.0,\"#0d0887\"],[0.1111111111111111,\"#46039f\"],[0.2222222222222222,\"#7201a8\"],[0.3333333333333333,\"#9c179e\"],[0.4444444444444444,\"#bd3786\"],[0.5555555555555556,\"#d8576b\"],[0.6666666666666666,\"#ed7953\"],[0.7777777777777778,\"#fb9f3a\"],[0.8888888888888888,\"#fdca26\"],[1.0,\"#f0f921\"]],\"diverging\":[[0,\"#8e0152\"],[0.1,\"#c51b7d\"],[0.2,\"#de77ae\"],[0.3,\"#f1b6da\"],[0.4,\"#fde0ef\"],[0.5,\"#f7f7f7\"],[0.6,\"#e6f5d0\"],[0.7,\"#b8e186\"],[0.8,\"#7fbc41\"],[0.9,\"#4d9221\"],[1,\"#276419\"]]},\"xaxis\":{\"gridcolor\":\"#283442\",\"linecolor\":\"#506784\",\"ticks\":\"\",\"title\":{\"standoff\":15},\"zerolinecolor\":\"#283442\",\"automargin\":true,\"zerolinewidth\":2},\"yaxis\":{\"gridcolor\":\"#283442\",\"linecolor\":\"#506784\",\"ticks\":\"\",\"title\":{\"standoff\":15},\"zerolinecolor\":\"#283442\",\"automargin\":true,\"zerolinewidth\":2},\"scene\":{\"xaxis\":{\"backgroundcolor\":\"rgb(17,17,17)\",\"gridcolor\":\"#506784\",\"linecolor\":\"#506784\",\"showbackground\":true,\"ticks\":\"\",\"zerolinecolor\":\"#C8D4E3\",\"gridwidth\":2},\"yaxis\":{\"backgroundcolor\":\"rgb(17,17,17)\",\"gridcolor\":\"#506784\",\"linecolor\":\"#506784\",\"showbackground\":true,\"ticks\":\"\",\"zerolinecolor\":\"#C8D4E3\",\"gridwidth\":2},\"zaxis\":{\"backgroundcolor\":\"rgb(17,17,17)\",\"gridcolor\":\"#506784\",\"linecolor\":\"#506784\",\"showbackground\":true,\"ticks\":\"\",\"zerolinecolor\":\"#C8D4E3\",\"gridwidth\":2}},\"shapedefaults\":{\"line\":{\"color\":\"#f2f5fa\"}},\"annotationdefaults\":{\"arrowcolor\":\"#f2f5fa\",\"arrowhead\":0,\"arrowwidth\":1},\"geo\":{\"bgcolor\":\"rgb(17,17,17)\",\"landcolor\":\"rgb(17,17,17)\",\"subunitcolor\":\"#506784\",\"showland\":true,\"showlakes\":true,\"lakecolor\":\"rgb(17,17,17)\"},\"title\":{\"x\":0.05},\"updatemenudefaults\":{\"bgcolor\":\"#506784\",\"borderwidth\":0},\"sliderdefaults\":{\"bgcolor\":\"#C8D4E3\",\"borderwidth\":1,\"bordercolor\":\"rgb(17,17,17)\",\"tickwidth\":0},\"mapbox\":{\"style\":\"dark\"}}},\"xaxis\":{\"anchor\":\"y\",\"domain\":[0.0,1.0],\"title\":{\"text\":\"Date\"}},\"yaxis\":{\"anchor\":\"x\",\"domain\":[0.0,1.0],\"title\":{\"text\":\"value\"}},\"legend\":{\"title\":{\"text\":\"variable\"},\"tracegroupgap\":0},\"margin\":{\"t\":60}},                        {\"responsive\": true}                    ).then(function(){\n                            \nvar gd = document.getElementById('dd6da6b6-ed9a-4ee1-9508-fa06e2a84509');\nvar x = new MutationObserver(function (mutations, observer) {{\n        var display = window.getComputedStyle(gd).display;\n        if (!display || display === 'none') {{\n            console.log([gd, 'removed!']);\n            Plotly.purge(gd);\n            observer.disconnect();\n        }}\n}});\n\n// Listen for the removal of the full notebook cells\nvar notebookContainer = gd.closest('#notebook-container');\nif (notebookContainer) {{\n    x.observe(notebookContainer, {childList: true});\n}}\n\n// Listen for the clearing of the current output cell\nvar outputEl = gd.closest('.output');\nif (outputEl) {{\n    x.observe(outputEl, {childList: true});\n}}\n\n                        })                };                });            </script>        </div>"
     },
     "metadata": {},
     "output_type": "display_data"
    }
   ],
   "source": [
    "px.line(df)"
   ],
   "metadata": {
    "collapsed": false,
    "ExecuteTime": {
     "end_time": "2024-09-15T18:42:58.830853900Z",
     "start_time": "2024-09-15T18:42:58.779077300Z"
    }
   },
   "id": "a793b8943b08078e",
   "execution_count": 27
  },
  {
   "cell_type": "code",
   "outputs": [
    {
     "data": {
      "text/plain": "                        variable      cpi\nDate                                     \n1957-01-01         CPI_All_Items   27.670\n1957-02-01         CPI_All_Items   27.800\n1957-03-01         CPI_All_Items   27.860\n1957-04-01         CPI_All_Items   27.930\n1957-05-01         CPI_All_Items   28.000\n...                          ...      ...\n2024-04-01  CPI_Less_Food_Energy  317.622\n2024-05-01  CPI_Less_Food_Energy  318.140\n2024-06-01  CPI_Less_Food_Energy  318.346\n2024-07-01  CPI_Less_Food_Energy  318.872\n2024-08-01  CPI_Less_Food_Energy  319.768\n\n[1624 rows x 2 columns]",
      "text/html": "<div>\n<style scoped>\n    .dataframe tbody tr th:only-of-type {\n        vertical-align: middle;\n    }\n\n    .dataframe tbody tr th {\n        vertical-align: top;\n    }\n\n    .dataframe thead th {\n        text-align: right;\n    }\n</style>\n<table border=\"1\" class=\"dataframe\">\n  <thead>\n    <tr style=\"text-align: right;\">\n      <th></th>\n      <th>variable</th>\n      <th>cpi</th>\n    </tr>\n    <tr>\n      <th>Date</th>\n      <th></th>\n      <th></th>\n    </tr>\n  </thead>\n  <tbody>\n    <tr>\n      <th>1957-01-01</th>\n      <td>CPI_All_Items</td>\n      <td>27.670</td>\n    </tr>\n    <tr>\n      <th>1957-02-01</th>\n      <td>CPI_All_Items</td>\n      <td>27.800</td>\n    </tr>\n    <tr>\n      <th>1957-03-01</th>\n      <td>CPI_All_Items</td>\n      <td>27.860</td>\n    </tr>\n    <tr>\n      <th>1957-04-01</th>\n      <td>CPI_All_Items</td>\n      <td>27.930</td>\n    </tr>\n    <tr>\n      <th>1957-05-01</th>\n      <td>CPI_All_Items</td>\n      <td>28.000</td>\n    </tr>\n    <tr>\n      <th>...</th>\n      <td>...</td>\n      <td>...</td>\n    </tr>\n    <tr>\n      <th>2024-04-01</th>\n      <td>CPI_Less_Food_Energy</td>\n      <td>317.622</td>\n    </tr>\n    <tr>\n      <th>2024-05-01</th>\n      <td>CPI_Less_Food_Energy</td>\n      <td>318.140</td>\n    </tr>\n    <tr>\n      <th>2024-06-01</th>\n      <td>CPI_Less_Food_Energy</td>\n      <td>318.346</td>\n    </tr>\n    <tr>\n      <th>2024-07-01</th>\n      <td>CPI_Less_Food_Energy</td>\n      <td>318.872</td>\n    </tr>\n    <tr>\n      <th>2024-08-01</th>\n      <td>CPI_Less_Food_Energy</td>\n      <td>319.768</td>\n    </tr>\n  </tbody>\n</table>\n<p>1624 rows × 2 columns</p>\n</div>"
     },
     "execution_count": 28,
     "metadata": {},
     "output_type": "execute_result"
    }
   ],
   "source": [
    "df_melt = pd.melt(df, value_vars = ['CPI_All_Items', 'CPI_Less_Food_Energy'], value_name = 'cpi', ignore_index = False)\n",
    "df_melt"
   ],
   "metadata": {
    "collapsed": false,
    "ExecuteTime": {
     "end_time": "2024-09-15T18:43:02.369410800Z",
     "start_time": "2024-09-15T18:43:02.347723900Z"
    }
   },
   "id": "c27e16ea92fc98cf",
   "execution_count": 28
  },
  {
   "cell_type": "code",
   "outputs": [],
   "source": [
    "df_melt['Date'] = df_melt.index"
   ],
   "metadata": {
    "collapsed": false,
    "ExecuteTime": {
     "end_time": "2024-09-15T18:43:25.765656300Z",
     "start_time": "2024-09-15T18:43:25.722644700Z"
    }
   },
   "id": "2f5d5a869392e871",
   "execution_count": 30
  },
  {
   "cell_type": "code",
   "outputs": [],
   "source": [
    "df_wide = pd.pivot(df_melt, index = 'variable', columns = 'Date', values= 'cpi')"
   ],
   "metadata": {
    "collapsed": false,
    "ExecuteTime": {
     "end_time": "2024-09-15T18:43:30.985297900Z",
     "start_time": "2024-09-15T18:43:30.927841900Z"
    }
   },
   "id": "8ef377796ca50082",
   "execution_count": 31
  },
  {
   "cell_type": "code",
   "outputs": [
    {
     "data": {
      "text/plain": "Date                  1957-01-01  1957-02-01  1957-03-01  1957-04-01  \\\nvariable                                                               \nCPI_All_Items              27.67        27.8       27.86       27.93   \nCPI_Less_Food_Energy       28.50        28.6       28.70       28.80   \n\nDate                  1957-05-01  1957-06-01  1957-07-01  1957-08-01  \\\nvariable                                                               \nCPI_All_Items               28.0       28.11       28.19       28.28   \nCPI_Less_Food_Energy        28.8       28.90       29.00       29.00   \n\nDate                  1957-09-01  1957-10-01  ...  2023-11-01  2023-12-01  \\\nvariable                                      ...                           \nCPI_All_Items              28.32       28.32  ...     308.024     308.742   \nCPI_Less_Food_Energy       29.10       29.20  ...     312.349     313.209   \n\nDate                  2024-01-01  2024-02-01  2024-03-01  2024-04-01  \\\nvariable                                                               \nCPI_All_Items            309.685     311.054     312.230     313.207   \nCPI_Less_Food_Energy     314.438     315.565     316.698     317.622   \n\nDate                  2024-05-01  2024-06-01  2024-07-01  2024-08-01  \nvariable                                                              \nCPI_All_Items            313.225     313.049     313.534     314.121  \nCPI_Less_Food_Energy     318.140     318.346     318.872     319.768  \n\n[2 rows x 812 columns]",
      "text/html": "<div>\n<style scoped>\n    .dataframe tbody tr th:only-of-type {\n        vertical-align: middle;\n    }\n\n    .dataframe tbody tr th {\n        vertical-align: top;\n    }\n\n    .dataframe thead th {\n        text-align: right;\n    }\n</style>\n<table border=\"1\" class=\"dataframe\">\n  <thead>\n    <tr style=\"text-align: right;\">\n      <th>Date</th>\n      <th>1957-01-01</th>\n      <th>1957-02-01</th>\n      <th>1957-03-01</th>\n      <th>1957-04-01</th>\n      <th>1957-05-01</th>\n      <th>1957-06-01</th>\n      <th>1957-07-01</th>\n      <th>1957-08-01</th>\n      <th>1957-09-01</th>\n      <th>1957-10-01</th>\n      <th>...</th>\n      <th>2023-11-01</th>\n      <th>2023-12-01</th>\n      <th>2024-01-01</th>\n      <th>2024-02-01</th>\n      <th>2024-03-01</th>\n      <th>2024-04-01</th>\n      <th>2024-05-01</th>\n      <th>2024-06-01</th>\n      <th>2024-07-01</th>\n      <th>2024-08-01</th>\n    </tr>\n    <tr>\n      <th>variable</th>\n      <th></th>\n      <th></th>\n      <th></th>\n      <th></th>\n      <th></th>\n      <th></th>\n      <th></th>\n      <th></th>\n      <th></th>\n      <th></th>\n      <th></th>\n      <th></th>\n      <th></th>\n      <th></th>\n      <th></th>\n      <th></th>\n      <th></th>\n      <th></th>\n      <th></th>\n      <th></th>\n      <th></th>\n    </tr>\n  </thead>\n  <tbody>\n    <tr>\n      <th>CPI_All_Items</th>\n      <td>27.67</td>\n      <td>27.8</td>\n      <td>27.86</td>\n      <td>27.93</td>\n      <td>28.0</td>\n      <td>28.11</td>\n      <td>28.19</td>\n      <td>28.28</td>\n      <td>28.32</td>\n      <td>28.32</td>\n      <td>...</td>\n      <td>308.024</td>\n      <td>308.742</td>\n      <td>309.685</td>\n      <td>311.054</td>\n      <td>312.230</td>\n      <td>313.207</td>\n      <td>313.225</td>\n      <td>313.049</td>\n      <td>313.534</td>\n      <td>314.121</td>\n    </tr>\n    <tr>\n      <th>CPI_Less_Food_Energy</th>\n      <td>28.50</td>\n      <td>28.6</td>\n      <td>28.70</td>\n      <td>28.80</td>\n      <td>28.8</td>\n      <td>28.90</td>\n      <td>29.00</td>\n      <td>29.00</td>\n      <td>29.10</td>\n      <td>29.20</td>\n      <td>...</td>\n      <td>312.349</td>\n      <td>313.209</td>\n      <td>314.438</td>\n      <td>315.565</td>\n      <td>316.698</td>\n      <td>317.622</td>\n      <td>318.140</td>\n      <td>318.346</td>\n      <td>318.872</td>\n      <td>319.768</td>\n    </tr>\n  </tbody>\n</table>\n<p>2 rows × 812 columns</p>\n</div>"
     },
     "execution_count": 32,
     "metadata": {},
     "output_type": "execute_result"
    }
   ],
   "source": [
    "df_wide"
   ],
   "metadata": {
    "collapsed": false,
    "ExecuteTime": {
     "end_time": "2024-09-15T18:43:32.771895200Z",
     "start_time": "2024-09-15T18:43:32.748429700Z"
    }
   },
   "id": "e73baec32fc300a1",
   "execution_count": 32
  },
  {
   "cell_type": "code",
   "outputs": [],
   "source": [],
   "metadata": {
    "collapsed": false
   },
   "id": "79a48649d2fd8135"
  },
  {
   "cell_type": "markdown",
   "source": [
    "# Calculating Inflation Rate "
   ],
   "metadata": {
    "collapsed": false
   },
   "id": "8f1d2b1a433020a8"
  },
  {
   "cell_type": "code",
   "outputs": [
    {
     "name": "stderr",
     "output_type": "stream",
     "text": [
      "C:\\Users\\SOULS\\AppData\\Local\\Temp\\ipykernel_8320\\1221302398.py:1: FutureWarning:\n",
      "\n",
      "'Y' is deprecated and will be removed in a future version, please use 'YE' instead.\n",
      "\n"
     ]
    }
   ],
   "source": [
    "annual_cpi = df.resample('Y').first()\n",
    "annual_cpi['Inflation_Rate_All_Item']= annual_cpi['CPI_All_Items'].pct_change() * 100\n",
    "annual_cpi['Inflation_Rate_Less_Food_Enrgery'] = annual_cpi['CPI_Less_Food_Energy']\\\n",
    "           .pct_change() * 100\n",
    "annual_cpi.dropna(inplace=True)"
   ],
   "metadata": {
    "collapsed": false,
    "ExecuteTime": {
     "end_time": "2024-09-15T18:43:39.993570500Z",
     "start_time": "2024-09-15T18:43:39.986386100Z"
    }
   },
   "id": "a147c5b326a1cca",
   "execution_count": 33
  },
  {
   "cell_type": "code",
   "outputs": [
    {
     "data": {
      "text/plain": "            CPI_All_Items  CPI_Less_Food_Energy  Inflation_Rate_All_Item  \\\nDate                                                                       \n1958-12-31         28.640                29.300                 3.505602   \n1959-12-31         29.010                29.900                 1.291899   \n1960-12-31         29.370                30.500                 1.240951   \n1961-12-31         29.840                30.800                 1.600272   \n1962-12-31         30.040                31.200                 0.670241   \n...                   ...                   ...                      ...   \n2020-12-31        258.906               266.698                 2.512264   \n2021-12-31        262.518               270.422                 1.395101   \n2022-12-31        282.390               286.811                 7.569767   \n2023-12-31        300.356               302.709                 6.362123   \n2024-12-31        309.685               314.438                 3.105981   \n\n            Inflation_Rate_Less_Food_Enrgery  \nDate                                          \n1958-12-31                          2.807018  \n1959-12-31                          2.047782  \n1960-12-31                          2.006689  \n1961-12-31                          0.983607  \n1962-12-31                          1.298701  \n...                                      ...  \n2020-12-31                          2.274836  \n2021-12-31                          1.396336  \n2022-12-31                          6.060528  \n2023-12-31                          5.543023  \n2024-12-31                          3.874678  \n\n[67 rows x 4 columns]",
      "text/html": "<div>\n<style scoped>\n    .dataframe tbody tr th:only-of-type {\n        vertical-align: middle;\n    }\n\n    .dataframe tbody tr th {\n        vertical-align: top;\n    }\n\n    .dataframe thead th {\n        text-align: right;\n    }\n</style>\n<table border=\"1\" class=\"dataframe\">\n  <thead>\n    <tr style=\"text-align: right;\">\n      <th></th>\n      <th>CPI_All_Items</th>\n      <th>CPI_Less_Food_Energy</th>\n      <th>Inflation_Rate_All_Item</th>\n      <th>Inflation_Rate_Less_Food_Enrgery</th>\n    </tr>\n    <tr>\n      <th>Date</th>\n      <th></th>\n      <th></th>\n      <th></th>\n      <th></th>\n    </tr>\n  </thead>\n  <tbody>\n    <tr>\n      <th>1958-12-31</th>\n      <td>28.640</td>\n      <td>29.300</td>\n      <td>3.505602</td>\n      <td>2.807018</td>\n    </tr>\n    <tr>\n      <th>1959-12-31</th>\n      <td>29.010</td>\n      <td>29.900</td>\n      <td>1.291899</td>\n      <td>2.047782</td>\n    </tr>\n    <tr>\n      <th>1960-12-31</th>\n      <td>29.370</td>\n      <td>30.500</td>\n      <td>1.240951</td>\n      <td>2.006689</td>\n    </tr>\n    <tr>\n      <th>1961-12-31</th>\n      <td>29.840</td>\n      <td>30.800</td>\n      <td>1.600272</td>\n      <td>0.983607</td>\n    </tr>\n    <tr>\n      <th>1962-12-31</th>\n      <td>30.040</td>\n      <td>31.200</td>\n      <td>0.670241</td>\n      <td>1.298701</td>\n    </tr>\n    <tr>\n      <th>...</th>\n      <td>...</td>\n      <td>...</td>\n      <td>...</td>\n      <td>...</td>\n    </tr>\n    <tr>\n      <th>2020-12-31</th>\n      <td>258.906</td>\n      <td>266.698</td>\n      <td>2.512264</td>\n      <td>2.274836</td>\n    </tr>\n    <tr>\n      <th>2021-12-31</th>\n      <td>262.518</td>\n      <td>270.422</td>\n      <td>1.395101</td>\n      <td>1.396336</td>\n    </tr>\n    <tr>\n      <th>2022-12-31</th>\n      <td>282.390</td>\n      <td>286.811</td>\n      <td>7.569767</td>\n      <td>6.060528</td>\n    </tr>\n    <tr>\n      <th>2023-12-31</th>\n      <td>300.356</td>\n      <td>302.709</td>\n      <td>6.362123</td>\n      <td>5.543023</td>\n    </tr>\n    <tr>\n      <th>2024-12-31</th>\n      <td>309.685</td>\n      <td>314.438</td>\n      <td>3.105981</td>\n      <td>3.874678</td>\n    </tr>\n  </tbody>\n</table>\n<p>67 rows × 4 columns</p>\n</div>"
     },
     "execution_count": 57,
     "metadata": {},
     "output_type": "execute_result"
    }
   ],
   "source": [
    "annual_cpi"
   ],
   "metadata": {
    "collapsed": false,
    "ExecuteTime": {
     "end_time": "2024-09-15T12:20:01.106282600Z",
     "start_time": "2024-09-15T12:20:00.851475300Z"
    }
   },
   "id": "4f88a54a9d8babb1",
   "execution_count": 57
  },
  {
   "cell_type": "code",
   "outputs": [],
   "source": [
    "# Filter the dataset from the year 2000 to the latest available date\n",
    "annual_cpi = annual_cpi.loc['2000':]"
   ],
   "metadata": {
    "collapsed": false,
    "ExecuteTime": {
     "end_time": "2024-09-15T18:47:57.899900300Z",
     "start_time": "2024-09-15T18:47:57.895888800Z"
    }
   },
   "id": "71f9ba16e7e60485",
   "execution_count": 37
  },
  {
   "cell_type": "code",
   "outputs": [
    {
     "data": {
      "application/vnd.plotly.v1+json": {
       "data": [
        {
         "hovertemplate": "variable=CPI_All_Items<br>Date=%{x}<br>value=%{y}<extra></extra>",
         "legendgroup": "CPI_All_Items",
         "line": {
          "color": "#636efa",
          "dash": "solid"
         },
         "marker": {
          "symbol": "circle"
         },
         "mode": "lines",
         "name": "CPI_All_Items",
         "orientation": "v",
         "showlegend": true,
         "x": [
          "2000-12-31T00:00:00",
          "2001-12-31T00:00:00",
          "2002-12-31T00:00:00",
          "2003-12-31T00:00:00",
          "2004-12-31T00:00:00",
          "2005-12-31T00:00:00",
          "2006-12-31T00:00:00",
          "2007-12-31T00:00:00",
          "2008-12-31T00:00:00",
          "2009-12-31T00:00:00",
          "2010-12-31T00:00:00",
          "2011-12-31T00:00:00",
          "2012-12-31T00:00:00",
          "2013-12-31T00:00:00",
          "2014-12-31T00:00:00",
          "2015-12-31T00:00:00",
          "2016-12-31T00:00:00",
          "2017-12-31T00:00:00",
          "2018-12-31T00:00:00",
          "2019-12-31T00:00:00",
          "2020-12-31T00:00:00",
          "2021-12-31T00:00:00",
          "2022-12-31T00:00:00",
          "2023-12-31T00:00:00",
          "2024-12-31T00:00:00"
         ],
         "xaxis": "x",
         "y": [
          169.3,
          175.6,
          177.7,
          182.6,
          186.3,
          191.6,
          199.3,
          203.437,
          212.174,
          211.933,
          217.488,
          221.187,
          227.842,
          231.679,
          235.288,
          234.747,
          237.652,
          243.618,
          248.859,
          252.561,
          258.906,
          262.518,
          282.39,
          300.356,
          309.685
         ],
         "yaxis": "y",
         "type": "scatter"
        },
        {
         "hovertemplate": "variable=CPI_Less_Food_Energy<br>Date=%{x}<br>value=%{y}<extra></extra>",
         "legendgroup": "CPI_Less_Food_Energy",
         "line": {
          "color": "#EF553B",
          "dash": "solid"
         },
         "marker": {
          "symbol": "circle"
         },
         "mode": "lines",
         "name": "CPI_Less_Food_Energy",
         "orientation": "v",
         "showlegend": true,
         "x": [
          "2000-12-31T00:00:00",
          "2001-12-31T00:00:00",
          "2002-12-31T00:00:00",
          "2003-12-31T00:00:00",
          "2004-12-31T00:00:00",
          "2005-12-31T00:00:00",
          "2006-12-31T00:00:00",
          "2007-12-31T00:00:00",
          "2008-12-31T00:00:00",
          "2009-12-31T00:00:00",
          "2010-12-31T00:00:00",
          "2011-12-31T00:00:00",
          "2012-12-31T00:00:00",
          "2013-12-31T00:00:00",
          "2014-12-31T00:00:00",
          "2015-12-31T00:00:00",
          "2016-12-31T00:00:00",
          "2017-12-31T00:00:00",
          "2018-12-31T00:00:00",
          "2019-12-31T00:00:00",
          "2020-12-31T00:00:00",
          "2021-12-31T00:00:00",
          "2022-12-31T00:00:00",
          "2023-12-31T00:00:00",
          "2024-12-31T00:00:00"
         ],
         "xaxis": "x",
         "y": [
          179.3,
          183.9,
          188.7,
          192.4,
          194.6,
          199.0,
          203.2,
          208.6,
          213.771,
          217.346,
          220.633,
          222.803,
          227.877,
          232.229,
          235.961,
          239.811,
          244.955,
          250.467,
          255.204,
          260.766,
          266.698,
          270.422,
          286.811,
          302.709,
          314.438
         ],
         "yaxis": "y",
         "type": "scatter"
        },
        {
         "hovertemplate": "variable=Inflation_Rate_All_Item<br>Date=%{x}<br>value=%{y}<extra></extra>",
         "legendgroup": "Inflation_Rate_All_Item",
         "line": {
          "color": "#00cc96",
          "dash": "solid"
         },
         "marker": {
          "symbol": "circle"
         },
         "mode": "lines",
         "name": "Inflation_Rate_All_Item",
         "orientation": "v",
         "showlegend": true,
         "x": [
          "2000-12-31T00:00:00",
          "2001-12-31T00:00:00",
          "2002-12-31T00:00:00",
          "2003-12-31T00:00:00",
          "2004-12-31T00:00:00",
          "2005-12-31T00:00:00",
          "2006-12-31T00:00:00",
          "2007-12-31T00:00:00",
          "2008-12-31T00:00:00",
          "2009-12-31T00:00:00",
          "2010-12-31T00:00:00",
          "2011-12-31T00:00:00",
          "2012-12-31T00:00:00",
          "2013-12-31T00:00:00",
          "2014-12-31T00:00:00",
          "2015-12-31T00:00:00",
          "2016-12-31T00:00:00",
          "2017-12-31T00:00:00",
          "2018-12-31T00:00:00",
          "2019-12-31T00:00:00",
          "2020-12-31T00:00:00",
          "2021-12-31T00:00:00",
          "2022-12-31T00:00:00",
          "2023-12-31T00:00:00",
          "2024-12-31T00:00:00"
         ],
         "xaxis": "x",
         "y": [
          2.792956891317555,
          3.7212049616065945,
          1.1958997722095743,
          2.757456387169399,
          2.026286966046009,
          2.8448738593666034,
          4.018789144050117,
          2.075765178123423,
          4.294695655165981,
          -0.11358601902212717,
          2.6211113889767157,
          1.7007834915029774,
          3.0087663379855023,
          1.684061762098299,
          1.557758795574915,
          -0.22993097820542818,
          1.2375025026943876,
          2.5103933482571117,
          2.151318868063945,
          1.4875893578291333,
          2.5122643638566533,
          1.3951009246599089,
          7.5697666445729395,
          6.362123304649603,
          3.1059809026621865
         ],
         "yaxis": "y",
         "type": "scatter"
        },
        {
         "hovertemplate": "variable=Inflation_Rate_Less_Food_Enrgery<br>Date=%{x}<br>value=%{y}<extra></extra>",
         "legendgroup": "Inflation_Rate_Less_Food_Enrgery",
         "line": {
          "color": "#ab63fa",
          "dash": "solid"
         },
         "marker": {
          "symbol": "circle"
         },
         "mode": "lines",
         "name": "Inflation_Rate_Less_Food_Enrgery",
         "orientation": "v",
         "showlegend": true,
         "x": [
          "2000-12-31T00:00:00",
          "2001-12-31T00:00:00",
          "2002-12-31T00:00:00",
          "2003-12-31T00:00:00",
          "2004-12-31T00:00:00",
          "2005-12-31T00:00:00",
          "2006-12-31T00:00:00",
          "2007-12-31T00:00:00",
          "2008-12-31T00:00:00",
          "2009-12-31T00:00:00",
          "2010-12-31T00:00:00",
          "2011-12-31T00:00:00",
          "2012-12-31T00:00:00",
          "2013-12-31T00:00:00",
          "2014-12-31T00:00:00",
          "2015-12-31T00:00:00",
          "2016-12-31T00:00:00",
          "2017-12-31T00:00:00",
          "2018-12-31T00:00:00",
          "2019-12-31T00:00:00",
          "2020-12-31T00:00:00",
          "2021-12-31T00:00:00",
          "2022-12-31T00:00:00",
          "2023-12-31T00:00:00",
          "2024-12-31T00:00:00"
         ],
         "xaxis": "x",
         "y": [
          2.1070615034168627,
          2.5655326268823275,
          2.610114192495905,
          1.9607843137255054,
          1.1434511434511352,
          2.261048304213764,
          2.1105527638190846,
          2.657480314960625,
          2.4789069990412305,
          1.6723503187990874,
          1.5123351706495702,
          0.9835337415527112,
          2.2773481506083826,
          1.9098022178631435,
          1.6070344358370292,
          1.631625565241701,
          2.145022538582464,
          2.2502092221020176,
          1.8912671130328462,
          2.1794329242488475,
          2.27483644340134,
          1.3963359305281697,
          6.0605276197942315,
          5.5430231058083645,
          3.8746783214242075
         ],
         "yaxis": "y",
         "type": "scatter"
        }
       ],
       "layout": {
        "template": {
         "data": {
          "histogram2dcontour": [
           {
            "type": "histogram2dcontour",
            "colorbar": {
             "outlinewidth": 0,
             "ticks": ""
            },
            "colorscale": [
             [
              0.0,
              "#0d0887"
             ],
             [
              0.1111111111111111,
              "#46039f"
             ],
             [
              0.2222222222222222,
              "#7201a8"
             ],
             [
              0.3333333333333333,
              "#9c179e"
             ],
             [
              0.4444444444444444,
              "#bd3786"
             ],
             [
              0.5555555555555556,
              "#d8576b"
             ],
             [
              0.6666666666666666,
              "#ed7953"
             ],
             [
              0.7777777777777778,
              "#fb9f3a"
             ],
             [
              0.8888888888888888,
              "#fdca26"
             ],
             [
              1.0,
              "#f0f921"
             ]
            ]
           }
          ],
          "choropleth": [
           {
            "type": "choropleth",
            "colorbar": {
             "outlinewidth": 0,
             "ticks": ""
            }
           }
          ],
          "histogram2d": [
           {
            "type": "histogram2d",
            "colorbar": {
             "outlinewidth": 0,
             "ticks": ""
            },
            "colorscale": [
             [
              0.0,
              "#0d0887"
             ],
             [
              0.1111111111111111,
              "#46039f"
             ],
             [
              0.2222222222222222,
              "#7201a8"
             ],
             [
              0.3333333333333333,
              "#9c179e"
             ],
             [
              0.4444444444444444,
              "#bd3786"
             ],
             [
              0.5555555555555556,
              "#d8576b"
             ],
             [
              0.6666666666666666,
              "#ed7953"
             ],
             [
              0.7777777777777778,
              "#fb9f3a"
             ],
             [
              0.8888888888888888,
              "#fdca26"
             ],
             [
              1.0,
              "#f0f921"
             ]
            ]
           }
          ],
          "heatmap": [
           {
            "type": "heatmap",
            "colorbar": {
             "outlinewidth": 0,
             "ticks": ""
            },
            "colorscale": [
             [
              0.0,
              "#0d0887"
             ],
             [
              0.1111111111111111,
              "#46039f"
             ],
             [
              0.2222222222222222,
              "#7201a8"
             ],
             [
              0.3333333333333333,
              "#9c179e"
             ],
             [
              0.4444444444444444,
              "#bd3786"
             ],
             [
              0.5555555555555556,
              "#d8576b"
             ],
             [
              0.6666666666666666,
              "#ed7953"
             ],
             [
              0.7777777777777778,
              "#fb9f3a"
             ],
             [
              0.8888888888888888,
              "#fdca26"
             ],
             [
              1.0,
              "#f0f921"
             ]
            ]
           }
          ],
          "heatmapgl": [
           {
            "type": "heatmapgl",
            "colorbar": {
             "outlinewidth": 0,
             "ticks": ""
            },
            "colorscale": [
             [
              0.0,
              "#0d0887"
             ],
             [
              0.1111111111111111,
              "#46039f"
             ],
             [
              0.2222222222222222,
              "#7201a8"
             ],
             [
              0.3333333333333333,
              "#9c179e"
             ],
             [
              0.4444444444444444,
              "#bd3786"
             ],
             [
              0.5555555555555556,
              "#d8576b"
             ],
             [
              0.6666666666666666,
              "#ed7953"
             ],
             [
              0.7777777777777778,
              "#fb9f3a"
             ],
             [
              0.8888888888888888,
              "#fdca26"
             ],
             [
              1.0,
              "#f0f921"
             ]
            ]
           }
          ],
          "contourcarpet": [
           {
            "type": "contourcarpet",
            "colorbar": {
             "outlinewidth": 0,
             "ticks": ""
            }
           }
          ],
          "contour": [
           {
            "type": "contour",
            "colorbar": {
             "outlinewidth": 0,
             "ticks": ""
            },
            "colorscale": [
             [
              0.0,
              "#0d0887"
             ],
             [
              0.1111111111111111,
              "#46039f"
             ],
             [
              0.2222222222222222,
              "#7201a8"
             ],
             [
              0.3333333333333333,
              "#9c179e"
             ],
             [
              0.4444444444444444,
              "#bd3786"
             ],
             [
              0.5555555555555556,
              "#d8576b"
             ],
             [
              0.6666666666666666,
              "#ed7953"
             ],
             [
              0.7777777777777778,
              "#fb9f3a"
             ],
             [
              0.8888888888888888,
              "#fdca26"
             ],
             [
              1.0,
              "#f0f921"
             ]
            ]
           }
          ],
          "surface": [
           {
            "type": "surface",
            "colorbar": {
             "outlinewidth": 0,
             "ticks": ""
            },
            "colorscale": [
             [
              0.0,
              "#0d0887"
             ],
             [
              0.1111111111111111,
              "#46039f"
             ],
             [
              0.2222222222222222,
              "#7201a8"
             ],
             [
              0.3333333333333333,
              "#9c179e"
             ],
             [
              0.4444444444444444,
              "#bd3786"
             ],
             [
              0.5555555555555556,
              "#d8576b"
             ],
             [
              0.6666666666666666,
              "#ed7953"
             ],
             [
              0.7777777777777778,
              "#fb9f3a"
             ],
             [
              0.8888888888888888,
              "#fdca26"
             ],
             [
              1.0,
              "#f0f921"
             ]
            ]
           }
          ],
          "mesh3d": [
           {
            "type": "mesh3d",
            "colorbar": {
             "outlinewidth": 0,
             "ticks": ""
            }
           }
          ],
          "scatter": [
           {
            "marker": {
             "line": {
              "color": "#283442"
             }
            },
            "type": "scatter"
           }
          ],
          "parcoords": [
           {
            "type": "parcoords",
            "line": {
             "colorbar": {
              "outlinewidth": 0,
              "ticks": ""
             }
            }
           }
          ],
          "scatterpolargl": [
           {
            "type": "scatterpolargl",
            "marker": {
             "colorbar": {
              "outlinewidth": 0,
              "ticks": ""
             }
            }
           }
          ],
          "bar": [
           {
            "error_x": {
             "color": "#f2f5fa"
            },
            "error_y": {
             "color": "#f2f5fa"
            },
            "marker": {
             "line": {
              "color": "rgb(17,17,17)",
              "width": 0.5
             },
             "pattern": {
              "fillmode": "overlay",
              "size": 10,
              "solidity": 0.2
             }
            },
            "type": "bar"
           }
          ],
          "scattergeo": [
           {
            "type": "scattergeo",
            "marker": {
             "colorbar": {
              "outlinewidth": 0,
              "ticks": ""
             }
            }
           }
          ],
          "scatterpolar": [
           {
            "type": "scatterpolar",
            "marker": {
             "colorbar": {
              "outlinewidth": 0,
              "ticks": ""
             }
            }
           }
          ],
          "histogram": [
           {
            "marker": {
             "pattern": {
              "fillmode": "overlay",
              "size": 10,
              "solidity": 0.2
             }
            },
            "type": "histogram"
           }
          ],
          "scattergl": [
           {
            "marker": {
             "line": {
              "color": "#283442"
             }
            },
            "type": "scattergl"
           }
          ],
          "scatter3d": [
           {
            "type": "scatter3d",
            "line": {
             "colorbar": {
              "outlinewidth": 0,
              "ticks": ""
             }
            },
            "marker": {
             "colorbar": {
              "outlinewidth": 0,
              "ticks": ""
             }
            }
           }
          ],
          "scattermapbox": [
           {
            "type": "scattermapbox",
            "marker": {
             "colorbar": {
              "outlinewidth": 0,
              "ticks": ""
             }
            }
           }
          ],
          "scatterternary": [
           {
            "type": "scatterternary",
            "marker": {
             "colorbar": {
              "outlinewidth": 0,
              "ticks": ""
             }
            }
           }
          ],
          "scattercarpet": [
           {
            "type": "scattercarpet",
            "marker": {
             "colorbar": {
              "outlinewidth": 0,
              "ticks": ""
             }
            }
           }
          ],
          "carpet": [
           {
            "aaxis": {
             "endlinecolor": "#A2B1C6",
             "gridcolor": "#506784",
             "linecolor": "#506784",
             "minorgridcolor": "#506784",
             "startlinecolor": "#A2B1C6"
            },
            "baxis": {
             "endlinecolor": "#A2B1C6",
             "gridcolor": "#506784",
             "linecolor": "#506784",
             "minorgridcolor": "#506784",
             "startlinecolor": "#A2B1C6"
            },
            "type": "carpet"
           }
          ],
          "table": [
           {
            "cells": {
             "fill": {
              "color": "#506784"
             },
             "line": {
              "color": "rgb(17,17,17)"
             }
            },
            "header": {
             "fill": {
              "color": "#2a3f5f"
             },
             "line": {
              "color": "rgb(17,17,17)"
             }
            },
            "type": "table"
           }
          ],
          "barpolar": [
           {
            "marker": {
             "line": {
              "color": "rgb(17,17,17)",
              "width": 0.5
             },
             "pattern": {
              "fillmode": "overlay",
              "size": 10,
              "solidity": 0.2
             }
            },
            "type": "barpolar"
           }
          ],
          "pie": [
           {
            "automargin": true,
            "type": "pie"
           }
          ]
         },
         "layout": {
          "autotypenumbers": "strict",
          "colorway": [
           "#636efa",
           "#EF553B",
           "#00cc96",
           "#ab63fa",
           "#FFA15A",
           "#19d3f3",
           "#FF6692",
           "#B6E880",
           "#FF97FF",
           "#FECB52"
          ],
          "font": {
           "color": "#f2f5fa"
          },
          "hovermode": "closest",
          "hoverlabel": {
           "align": "left"
          },
          "paper_bgcolor": "rgb(17,17,17)",
          "plot_bgcolor": "rgb(17,17,17)",
          "polar": {
           "bgcolor": "rgb(17,17,17)",
           "angularaxis": {
            "gridcolor": "#506784",
            "linecolor": "#506784",
            "ticks": ""
           },
           "radialaxis": {
            "gridcolor": "#506784",
            "linecolor": "#506784",
            "ticks": ""
           }
          },
          "ternary": {
           "bgcolor": "rgb(17,17,17)",
           "aaxis": {
            "gridcolor": "#506784",
            "linecolor": "#506784",
            "ticks": ""
           },
           "baxis": {
            "gridcolor": "#506784",
            "linecolor": "#506784",
            "ticks": ""
           },
           "caxis": {
            "gridcolor": "#506784",
            "linecolor": "#506784",
            "ticks": ""
           }
          },
          "coloraxis": {
           "colorbar": {
            "outlinewidth": 0,
            "ticks": ""
           }
          },
          "colorscale": {
           "sequential": [
            [
             0.0,
             "#0d0887"
            ],
            [
             0.1111111111111111,
             "#46039f"
            ],
            [
             0.2222222222222222,
             "#7201a8"
            ],
            [
             0.3333333333333333,
             "#9c179e"
            ],
            [
             0.4444444444444444,
             "#bd3786"
            ],
            [
             0.5555555555555556,
             "#d8576b"
            ],
            [
             0.6666666666666666,
             "#ed7953"
            ],
            [
             0.7777777777777778,
             "#fb9f3a"
            ],
            [
             0.8888888888888888,
             "#fdca26"
            ],
            [
             1.0,
             "#f0f921"
            ]
           ],
           "sequentialminus": [
            [
             0.0,
             "#0d0887"
            ],
            [
             0.1111111111111111,
             "#46039f"
            ],
            [
             0.2222222222222222,
             "#7201a8"
            ],
            [
             0.3333333333333333,
             "#9c179e"
            ],
            [
             0.4444444444444444,
             "#bd3786"
            ],
            [
             0.5555555555555556,
             "#d8576b"
            ],
            [
             0.6666666666666666,
             "#ed7953"
            ],
            [
             0.7777777777777778,
             "#fb9f3a"
            ],
            [
             0.8888888888888888,
             "#fdca26"
            ],
            [
             1.0,
             "#f0f921"
            ]
           ],
           "diverging": [
            [
             0,
             "#8e0152"
            ],
            [
             0.1,
             "#c51b7d"
            ],
            [
             0.2,
             "#de77ae"
            ],
            [
             0.3,
             "#f1b6da"
            ],
            [
             0.4,
             "#fde0ef"
            ],
            [
             0.5,
             "#f7f7f7"
            ],
            [
             0.6,
             "#e6f5d0"
            ],
            [
             0.7,
             "#b8e186"
            ],
            [
             0.8,
             "#7fbc41"
            ],
            [
             0.9,
             "#4d9221"
            ],
            [
             1,
             "#276419"
            ]
           ]
          },
          "xaxis": {
           "gridcolor": "#283442",
           "linecolor": "#506784",
           "ticks": "",
           "title": {
            "standoff": 15
           },
           "zerolinecolor": "#283442",
           "automargin": true,
           "zerolinewidth": 2
          },
          "yaxis": {
           "gridcolor": "#283442",
           "linecolor": "#506784",
           "ticks": "",
           "title": {
            "standoff": 15
           },
           "zerolinecolor": "#283442",
           "automargin": true,
           "zerolinewidth": 2
          },
          "scene": {
           "xaxis": {
            "backgroundcolor": "rgb(17,17,17)",
            "gridcolor": "#506784",
            "linecolor": "#506784",
            "showbackground": true,
            "ticks": "",
            "zerolinecolor": "#C8D4E3",
            "gridwidth": 2
           },
           "yaxis": {
            "backgroundcolor": "rgb(17,17,17)",
            "gridcolor": "#506784",
            "linecolor": "#506784",
            "showbackground": true,
            "ticks": "",
            "zerolinecolor": "#C8D4E3",
            "gridwidth": 2
           },
           "zaxis": {
            "backgroundcolor": "rgb(17,17,17)",
            "gridcolor": "#506784",
            "linecolor": "#506784",
            "showbackground": true,
            "ticks": "",
            "zerolinecolor": "#C8D4E3",
            "gridwidth": 2
           }
          },
          "shapedefaults": {
           "line": {
            "color": "#f2f5fa"
           }
          },
          "annotationdefaults": {
           "arrowcolor": "#f2f5fa",
           "arrowhead": 0,
           "arrowwidth": 1
          },
          "geo": {
           "bgcolor": "rgb(17,17,17)",
           "landcolor": "rgb(17,17,17)",
           "subunitcolor": "#506784",
           "showland": true,
           "showlakes": true,
           "lakecolor": "rgb(17,17,17)"
          },
          "title": {
           "x": 0.05
          },
          "updatemenudefaults": {
           "bgcolor": "#506784",
           "borderwidth": 0
          },
          "sliderdefaults": {
           "bgcolor": "#C8D4E3",
           "borderwidth": 1,
           "bordercolor": "rgb(17,17,17)",
           "tickwidth": 0
          },
          "mapbox": {
           "style": "dark"
          }
         }
        },
        "xaxis": {
         "anchor": "y",
         "domain": [
          0.0,
          1.0
         ],
         "title": {
          "text": "Date"
         }
        },
        "yaxis": {
         "anchor": "x",
         "domain": [
          0.0,
          1.0
         ],
         "title": {
          "text": "value"
         }
        },
        "legend": {
         "title": {
          "text": "variable"
         },
         "tracegroupgap": 0
        },
        "margin": {
         "t": 60
        }
       },
       "config": {
        "plotlyServerURL": "https://plot.ly"
       }
      },
      "text/html": "<div>                            <div id=\"aaf46de0-822f-40a8-9777-3b8d27dcd86b\" class=\"plotly-graph-div\" style=\"height:525px; width:100%;\"></div>            <script type=\"text/javascript\">                require([\"plotly\"], function(Plotly) {                    window.PLOTLYENV=window.PLOTLYENV || {};                                    if (document.getElementById(\"aaf46de0-822f-40a8-9777-3b8d27dcd86b\")) {                    Plotly.newPlot(                        \"aaf46de0-822f-40a8-9777-3b8d27dcd86b\",                        [{\"hovertemplate\":\"variable=CPI_All_Items\\u003cbr\\u003eDate=%{x}\\u003cbr\\u003evalue=%{y}\\u003cextra\\u003e\\u003c\\u002fextra\\u003e\",\"legendgroup\":\"CPI_All_Items\",\"line\":{\"color\":\"#636efa\",\"dash\":\"solid\"},\"marker\":{\"symbol\":\"circle\"},\"mode\":\"lines\",\"name\":\"CPI_All_Items\",\"orientation\":\"v\",\"showlegend\":true,\"x\":[\"2000-12-31T00:00:00\",\"2001-12-31T00:00:00\",\"2002-12-31T00:00:00\",\"2003-12-31T00:00:00\",\"2004-12-31T00:00:00\",\"2005-12-31T00:00:00\",\"2006-12-31T00:00:00\",\"2007-12-31T00:00:00\",\"2008-12-31T00:00:00\",\"2009-12-31T00:00:00\",\"2010-12-31T00:00:00\",\"2011-12-31T00:00:00\",\"2012-12-31T00:00:00\",\"2013-12-31T00:00:00\",\"2014-12-31T00:00:00\",\"2015-12-31T00:00:00\",\"2016-12-31T00:00:00\",\"2017-12-31T00:00:00\",\"2018-12-31T00:00:00\",\"2019-12-31T00:00:00\",\"2020-12-31T00:00:00\",\"2021-12-31T00:00:00\",\"2022-12-31T00:00:00\",\"2023-12-31T00:00:00\",\"2024-12-31T00:00:00\"],\"xaxis\":\"x\",\"y\":[169.3,175.6,177.7,182.6,186.3,191.6,199.3,203.437,212.174,211.933,217.488,221.187,227.842,231.679,235.288,234.747,237.652,243.618,248.859,252.561,258.906,262.518,282.39,300.356,309.685],\"yaxis\":\"y\",\"type\":\"scatter\"},{\"hovertemplate\":\"variable=CPI_Less_Food_Energy\\u003cbr\\u003eDate=%{x}\\u003cbr\\u003evalue=%{y}\\u003cextra\\u003e\\u003c\\u002fextra\\u003e\",\"legendgroup\":\"CPI_Less_Food_Energy\",\"line\":{\"color\":\"#EF553B\",\"dash\":\"solid\"},\"marker\":{\"symbol\":\"circle\"},\"mode\":\"lines\",\"name\":\"CPI_Less_Food_Energy\",\"orientation\":\"v\",\"showlegend\":true,\"x\":[\"2000-12-31T00:00:00\",\"2001-12-31T00:00:00\",\"2002-12-31T00:00:00\",\"2003-12-31T00:00:00\",\"2004-12-31T00:00:00\",\"2005-12-31T00:00:00\",\"2006-12-31T00:00:00\",\"2007-12-31T00:00:00\",\"2008-12-31T00:00:00\",\"2009-12-31T00:00:00\",\"2010-12-31T00:00:00\",\"2011-12-31T00:00:00\",\"2012-12-31T00:00:00\",\"2013-12-31T00:00:00\",\"2014-12-31T00:00:00\",\"2015-12-31T00:00:00\",\"2016-12-31T00:00:00\",\"2017-12-31T00:00:00\",\"2018-12-31T00:00:00\",\"2019-12-31T00:00:00\",\"2020-12-31T00:00:00\",\"2021-12-31T00:00:00\",\"2022-12-31T00:00:00\",\"2023-12-31T00:00:00\",\"2024-12-31T00:00:00\"],\"xaxis\":\"x\",\"y\":[179.3,183.9,188.7,192.4,194.6,199.0,203.2,208.6,213.771,217.346,220.633,222.803,227.877,232.229,235.961,239.811,244.955,250.467,255.204,260.766,266.698,270.422,286.811,302.709,314.438],\"yaxis\":\"y\",\"type\":\"scatter\"},{\"hovertemplate\":\"variable=Inflation_Rate_All_Item\\u003cbr\\u003eDate=%{x}\\u003cbr\\u003evalue=%{y}\\u003cextra\\u003e\\u003c\\u002fextra\\u003e\",\"legendgroup\":\"Inflation_Rate_All_Item\",\"line\":{\"color\":\"#00cc96\",\"dash\":\"solid\"},\"marker\":{\"symbol\":\"circle\"},\"mode\":\"lines\",\"name\":\"Inflation_Rate_All_Item\",\"orientation\":\"v\",\"showlegend\":true,\"x\":[\"2000-12-31T00:00:00\",\"2001-12-31T00:00:00\",\"2002-12-31T00:00:00\",\"2003-12-31T00:00:00\",\"2004-12-31T00:00:00\",\"2005-12-31T00:00:00\",\"2006-12-31T00:00:00\",\"2007-12-31T00:00:00\",\"2008-12-31T00:00:00\",\"2009-12-31T00:00:00\",\"2010-12-31T00:00:00\",\"2011-12-31T00:00:00\",\"2012-12-31T00:00:00\",\"2013-12-31T00:00:00\",\"2014-12-31T00:00:00\",\"2015-12-31T00:00:00\",\"2016-12-31T00:00:00\",\"2017-12-31T00:00:00\",\"2018-12-31T00:00:00\",\"2019-12-31T00:00:00\",\"2020-12-31T00:00:00\",\"2021-12-31T00:00:00\",\"2022-12-31T00:00:00\",\"2023-12-31T00:00:00\",\"2024-12-31T00:00:00\"],\"xaxis\":\"x\",\"y\":[2.792956891317555,3.7212049616065945,1.1958997722095743,2.757456387169399,2.026286966046009,2.8448738593666034,4.018789144050117,2.075765178123423,4.294695655165981,-0.11358601902212717,2.6211113889767157,1.7007834915029774,3.0087663379855023,1.684061762098299,1.557758795574915,-0.22993097820542818,1.2375025026943876,2.5103933482571117,2.151318868063945,1.4875893578291333,2.5122643638566533,1.3951009246599089,7.5697666445729395,6.362123304649603,3.1059809026621865],\"yaxis\":\"y\",\"type\":\"scatter\"},{\"hovertemplate\":\"variable=Inflation_Rate_Less_Food_Enrgery\\u003cbr\\u003eDate=%{x}\\u003cbr\\u003evalue=%{y}\\u003cextra\\u003e\\u003c\\u002fextra\\u003e\",\"legendgroup\":\"Inflation_Rate_Less_Food_Enrgery\",\"line\":{\"color\":\"#ab63fa\",\"dash\":\"solid\"},\"marker\":{\"symbol\":\"circle\"},\"mode\":\"lines\",\"name\":\"Inflation_Rate_Less_Food_Enrgery\",\"orientation\":\"v\",\"showlegend\":true,\"x\":[\"2000-12-31T00:00:00\",\"2001-12-31T00:00:00\",\"2002-12-31T00:00:00\",\"2003-12-31T00:00:00\",\"2004-12-31T00:00:00\",\"2005-12-31T00:00:00\",\"2006-12-31T00:00:00\",\"2007-12-31T00:00:00\",\"2008-12-31T00:00:00\",\"2009-12-31T00:00:00\",\"2010-12-31T00:00:00\",\"2011-12-31T00:00:00\",\"2012-12-31T00:00:00\",\"2013-12-31T00:00:00\",\"2014-12-31T00:00:00\",\"2015-12-31T00:00:00\",\"2016-12-31T00:00:00\",\"2017-12-31T00:00:00\",\"2018-12-31T00:00:00\",\"2019-12-31T00:00:00\",\"2020-12-31T00:00:00\",\"2021-12-31T00:00:00\",\"2022-12-31T00:00:00\",\"2023-12-31T00:00:00\",\"2024-12-31T00:00:00\"],\"xaxis\":\"x\",\"y\":[2.1070615034168627,2.5655326268823275,2.610114192495905,1.9607843137255054,1.1434511434511352,2.261048304213764,2.1105527638190846,2.657480314960625,2.4789069990412305,1.6723503187990874,1.5123351706495702,0.9835337415527112,2.2773481506083826,1.9098022178631435,1.6070344358370292,1.631625565241701,2.145022538582464,2.2502092221020176,1.8912671130328462,2.1794329242488475,2.27483644340134,1.3963359305281697,6.0605276197942315,5.5430231058083645,3.8746783214242075],\"yaxis\":\"y\",\"type\":\"scatter\"}],                        {\"template\":{\"data\":{\"histogram2dcontour\":[{\"type\":\"histogram2dcontour\",\"colorbar\":{\"outlinewidth\":0,\"ticks\":\"\"},\"colorscale\":[[0.0,\"#0d0887\"],[0.1111111111111111,\"#46039f\"],[0.2222222222222222,\"#7201a8\"],[0.3333333333333333,\"#9c179e\"],[0.4444444444444444,\"#bd3786\"],[0.5555555555555556,\"#d8576b\"],[0.6666666666666666,\"#ed7953\"],[0.7777777777777778,\"#fb9f3a\"],[0.8888888888888888,\"#fdca26\"],[1.0,\"#f0f921\"]]}],\"choropleth\":[{\"type\":\"choropleth\",\"colorbar\":{\"outlinewidth\":0,\"ticks\":\"\"}}],\"histogram2d\":[{\"type\":\"histogram2d\",\"colorbar\":{\"outlinewidth\":0,\"ticks\":\"\"},\"colorscale\":[[0.0,\"#0d0887\"],[0.1111111111111111,\"#46039f\"],[0.2222222222222222,\"#7201a8\"],[0.3333333333333333,\"#9c179e\"],[0.4444444444444444,\"#bd3786\"],[0.5555555555555556,\"#d8576b\"],[0.6666666666666666,\"#ed7953\"],[0.7777777777777778,\"#fb9f3a\"],[0.8888888888888888,\"#fdca26\"],[1.0,\"#f0f921\"]]}],\"heatmap\":[{\"type\":\"heatmap\",\"colorbar\":{\"outlinewidth\":0,\"ticks\":\"\"},\"colorscale\":[[0.0,\"#0d0887\"],[0.1111111111111111,\"#46039f\"],[0.2222222222222222,\"#7201a8\"],[0.3333333333333333,\"#9c179e\"],[0.4444444444444444,\"#bd3786\"],[0.5555555555555556,\"#d8576b\"],[0.6666666666666666,\"#ed7953\"],[0.7777777777777778,\"#fb9f3a\"],[0.8888888888888888,\"#fdca26\"],[1.0,\"#f0f921\"]]}],\"heatmapgl\":[{\"type\":\"heatmapgl\",\"colorbar\":{\"outlinewidth\":0,\"ticks\":\"\"},\"colorscale\":[[0.0,\"#0d0887\"],[0.1111111111111111,\"#46039f\"],[0.2222222222222222,\"#7201a8\"],[0.3333333333333333,\"#9c179e\"],[0.4444444444444444,\"#bd3786\"],[0.5555555555555556,\"#d8576b\"],[0.6666666666666666,\"#ed7953\"],[0.7777777777777778,\"#fb9f3a\"],[0.8888888888888888,\"#fdca26\"],[1.0,\"#f0f921\"]]}],\"contourcarpet\":[{\"type\":\"contourcarpet\",\"colorbar\":{\"outlinewidth\":0,\"ticks\":\"\"}}],\"contour\":[{\"type\":\"contour\",\"colorbar\":{\"outlinewidth\":0,\"ticks\":\"\"},\"colorscale\":[[0.0,\"#0d0887\"],[0.1111111111111111,\"#46039f\"],[0.2222222222222222,\"#7201a8\"],[0.3333333333333333,\"#9c179e\"],[0.4444444444444444,\"#bd3786\"],[0.5555555555555556,\"#d8576b\"],[0.6666666666666666,\"#ed7953\"],[0.7777777777777778,\"#fb9f3a\"],[0.8888888888888888,\"#fdca26\"],[1.0,\"#f0f921\"]]}],\"surface\":[{\"type\":\"surface\",\"colorbar\":{\"outlinewidth\":0,\"ticks\":\"\"},\"colorscale\":[[0.0,\"#0d0887\"],[0.1111111111111111,\"#46039f\"],[0.2222222222222222,\"#7201a8\"],[0.3333333333333333,\"#9c179e\"],[0.4444444444444444,\"#bd3786\"],[0.5555555555555556,\"#d8576b\"],[0.6666666666666666,\"#ed7953\"],[0.7777777777777778,\"#fb9f3a\"],[0.8888888888888888,\"#fdca26\"],[1.0,\"#f0f921\"]]}],\"mesh3d\":[{\"type\":\"mesh3d\",\"colorbar\":{\"outlinewidth\":0,\"ticks\":\"\"}}],\"scatter\":[{\"marker\":{\"line\":{\"color\":\"#283442\"}},\"type\":\"scatter\"}],\"parcoords\":[{\"type\":\"parcoords\",\"line\":{\"colorbar\":{\"outlinewidth\":0,\"ticks\":\"\"}}}],\"scatterpolargl\":[{\"type\":\"scatterpolargl\",\"marker\":{\"colorbar\":{\"outlinewidth\":0,\"ticks\":\"\"}}}],\"bar\":[{\"error_x\":{\"color\":\"#f2f5fa\"},\"error_y\":{\"color\":\"#f2f5fa\"},\"marker\":{\"line\":{\"color\":\"rgb(17,17,17)\",\"width\":0.5},\"pattern\":{\"fillmode\":\"overlay\",\"size\":10,\"solidity\":0.2}},\"type\":\"bar\"}],\"scattergeo\":[{\"type\":\"scattergeo\",\"marker\":{\"colorbar\":{\"outlinewidth\":0,\"ticks\":\"\"}}}],\"scatterpolar\":[{\"type\":\"scatterpolar\",\"marker\":{\"colorbar\":{\"outlinewidth\":0,\"ticks\":\"\"}}}],\"histogram\":[{\"marker\":{\"pattern\":{\"fillmode\":\"overlay\",\"size\":10,\"solidity\":0.2}},\"type\":\"histogram\"}],\"scattergl\":[{\"marker\":{\"line\":{\"color\":\"#283442\"}},\"type\":\"scattergl\"}],\"scatter3d\":[{\"type\":\"scatter3d\",\"line\":{\"colorbar\":{\"outlinewidth\":0,\"ticks\":\"\"}},\"marker\":{\"colorbar\":{\"outlinewidth\":0,\"ticks\":\"\"}}}],\"scattermapbox\":[{\"type\":\"scattermapbox\",\"marker\":{\"colorbar\":{\"outlinewidth\":0,\"ticks\":\"\"}}}],\"scatterternary\":[{\"type\":\"scatterternary\",\"marker\":{\"colorbar\":{\"outlinewidth\":0,\"ticks\":\"\"}}}],\"scattercarpet\":[{\"type\":\"scattercarpet\",\"marker\":{\"colorbar\":{\"outlinewidth\":0,\"ticks\":\"\"}}}],\"carpet\":[{\"aaxis\":{\"endlinecolor\":\"#A2B1C6\",\"gridcolor\":\"#506784\",\"linecolor\":\"#506784\",\"minorgridcolor\":\"#506784\",\"startlinecolor\":\"#A2B1C6\"},\"baxis\":{\"endlinecolor\":\"#A2B1C6\",\"gridcolor\":\"#506784\",\"linecolor\":\"#506784\",\"minorgridcolor\":\"#506784\",\"startlinecolor\":\"#A2B1C6\"},\"type\":\"carpet\"}],\"table\":[{\"cells\":{\"fill\":{\"color\":\"#506784\"},\"line\":{\"color\":\"rgb(17,17,17)\"}},\"header\":{\"fill\":{\"color\":\"#2a3f5f\"},\"line\":{\"color\":\"rgb(17,17,17)\"}},\"type\":\"table\"}],\"barpolar\":[{\"marker\":{\"line\":{\"color\":\"rgb(17,17,17)\",\"width\":0.5},\"pattern\":{\"fillmode\":\"overlay\",\"size\":10,\"solidity\":0.2}},\"type\":\"barpolar\"}],\"pie\":[{\"automargin\":true,\"type\":\"pie\"}]},\"layout\":{\"autotypenumbers\":\"strict\",\"colorway\":[\"#636efa\",\"#EF553B\",\"#00cc96\",\"#ab63fa\",\"#FFA15A\",\"#19d3f3\",\"#FF6692\",\"#B6E880\",\"#FF97FF\",\"#FECB52\"],\"font\":{\"color\":\"#f2f5fa\"},\"hovermode\":\"closest\",\"hoverlabel\":{\"align\":\"left\"},\"paper_bgcolor\":\"rgb(17,17,17)\",\"plot_bgcolor\":\"rgb(17,17,17)\",\"polar\":{\"bgcolor\":\"rgb(17,17,17)\",\"angularaxis\":{\"gridcolor\":\"#506784\",\"linecolor\":\"#506784\",\"ticks\":\"\"},\"radialaxis\":{\"gridcolor\":\"#506784\",\"linecolor\":\"#506784\",\"ticks\":\"\"}},\"ternary\":{\"bgcolor\":\"rgb(17,17,17)\",\"aaxis\":{\"gridcolor\":\"#506784\",\"linecolor\":\"#506784\",\"ticks\":\"\"},\"baxis\":{\"gridcolor\":\"#506784\",\"linecolor\":\"#506784\",\"ticks\":\"\"},\"caxis\":{\"gridcolor\":\"#506784\",\"linecolor\":\"#506784\",\"ticks\":\"\"}},\"coloraxis\":{\"colorbar\":{\"outlinewidth\":0,\"ticks\":\"\"}},\"colorscale\":{\"sequential\":[[0.0,\"#0d0887\"],[0.1111111111111111,\"#46039f\"],[0.2222222222222222,\"#7201a8\"],[0.3333333333333333,\"#9c179e\"],[0.4444444444444444,\"#bd3786\"],[0.5555555555555556,\"#d8576b\"],[0.6666666666666666,\"#ed7953\"],[0.7777777777777778,\"#fb9f3a\"],[0.8888888888888888,\"#fdca26\"],[1.0,\"#f0f921\"]],\"sequentialminus\":[[0.0,\"#0d0887\"],[0.1111111111111111,\"#46039f\"],[0.2222222222222222,\"#7201a8\"],[0.3333333333333333,\"#9c179e\"],[0.4444444444444444,\"#bd3786\"],[0.5555555555555556,\"#d8576b\"],[0.6666666666666666,\"#ed7953\"],[0.7777777777777778,\"#fb9f3a\"],[0.8888888888888888,\"#fdca26\"],[1.0,\"#f0f921\"]],\"diverging\":[[0,\"#8e0152\"],[0.1,\"#c51b7d\"],[0.2,\"#de77ae\"],[0.3,\"#f1b6da\"],[0.4,\"#fde0ef\"],[0.5,\"#f7f7f7\"],[0.6,\"#e6f5d0\"],[0.7,\"#b8e186\"],[0.8,\"#7fbc41\"],[0.9,\"#4d9221\"],[1,\"#276419\"]]},\"xaxis\":{\"gridcolor\":\"#283442\",\"linecolor\":\"#506784\",\"ticks\":\"\",\"title\":{\"standoff\":15},\"zerolinecolor\":\"#283442\",\"automargin\":true,\"zerolinewidth\":2},\"yaxis\":{\"gridcolor\":\"#283442\",\"linecolor\":\"#506784\",\"ticks\":\"\",\"title\":{\"standoff\":15},\"zerolinecolor\":\"#283442\",\"automargin\":true,\"zerolinewidth\":2},\"scene\":{\"xaxis\":{\"backgroundcolor\":\"rgb(17,17,17)\",\"gridcolor\":\"#506784\",\"linecolor\":\"#506784\",\"showbackground\":true,\"ticks\":\"\",\"zerolinecolor\":\"#C8D4E3\",\"gridwidth\":2},\"yaxis\":{\"backgroundcolor\":\"rgb(17,17,17)\",\"gridcolor\":\"#506784\",\"linecolor\":\"#506784\",\"showbackground\":true,\"ticks\":\"\",\"zerolinecolor\":\"#C8D4E3\",\"gridwidth\":2},\"zaxis\":{\"backgroundcolor\":\"rgb(17,17,17)\",\"gridcolor\":\"#506784\",\"linecolor\":\"#506784\",\"showbackground\":true,\"ticks\":\"\",\"zerolinecolor\":\"#C8D4E3\",\"gridwidth\":2}},\"shapedefaults\":{\"line\":{\"color\":\"#f2f5fa\"}},\"annotationdefaults\":{\"arrowcolor\":\"#f2f5fa\",\"arrowhead\":0,\"arrowwidth\":1},\"geo\":{\"bgcolor\":\"rgb(17,17,17)\",\"landcolor\":\"rgb(17,17,17)\",\"subunitcolor\":\"#506784\",\"showland\":true,\"showlakes\":true,\"lakecolor\":\"rgb(17,17,17)\"},\"title\":{\"x\":0.05},\"updatemenudefaults\":{\"bgcolor\":\"#506784\",\"borderwidth\":0},\"sliderdefaults\":{\"bgcolor\":\"#C8D4E3\",\"borderwidth\":1,\"bordercolor\":\"rgb(17,17,17)\",\"tickwidth\":0},\"mapbox\":{\"style\":\"dark\"}}},\"xaxis\":{\"anchor\":\"y\",\"domain\":[0.0,1.0],\"title\":{\"text\":\"Date\"}},\"yaxis\":{\"anchor\":\"x\",\"domain\":[0.0,1.0],\"title\":{\"text\":\"value\"}},\"legend\":{\"title\":{\"text\":\"variable\"},\"tracegroupgap\":0},\"margin\":{\"t\":60}},                        {\"responsive\": true}                    ).then(function(){\n                            \nvar gd = document.getElementById('aaf46de0-822f-40a8-9777-3b8d27dcd86b');\nvar x = new MutationObserver(function (mutations, observer) {{\n        var display = window.getComputedStyle(gd).display;\n        if (!display || display === 'none') {{\n            console.log([gd, 'removed!']);\n            Plotly.purge(gd);\n            observer.disconnect();\n        }}\n}});\n\n// Listen for the removal of the full notebook cells\nvar notebookContainer = gd.closest('#notebook-container');\nif (notebookContainer) {{\n    x.observe(notebookContainer, {childList: true});\n}}\n\n// Listen for the clearing of the current output cell\nvar outputEl = gd.closest('.output');\nif (outputEl) {{\n    x.observe(outputEl, {childList: true});\n}}\n\n                        })                };                });            </script>        </div>"
     },
     "metadata": {},
     "output_type": "display_data"
    }
   ],
   "source": [
    "px.line(annual_cpi)"
   ],
   "metadata": {
    "collapsed": false,
    "ExecuteTime": {
     "end_time": "2024-09-15T16:06:22.561100500Z",
     "start_time": "2024-09-15T16:06:22.324312Z"
    }
   },
   "id": "208bef6d5ca96248",
   "execution_count": 65
  },
  {
   "cell_type": "markdown",
   "source": [
    "# Track Inflation Trends Over Time:\n",
    "\n",
    "### * Analyze trends in the Consumer Price Index (CPI) over the years, focusing on both CPI_All_Items and CPI_Less_Food_Energy.\n",
    "### * Provide a summary of inflation trends for different time periods, highlighting notable spikes or declines"
   ],
   "metadata": {
    "collapsed": false
   },
   "id": "46620ee2e4839b78"
  },
  {
   "cell_type": "code",
   "outputs": [
    {
     "data": {
      "text/plain": "<Figure size 1000x600 with 1 Axes>",
      "image/png": "[encoded data removed]"
     },
     "metadata": {},
     "output_type": "display_data"
    }
   ],
   "source": [
    "plt.figure(figsize=(10,6))\n",
    "plt.plot(annual_cpi.index, annual_cpi['CPI_All_Items'], label='CPI All Items', color='cyan')\n",
    "plt.plot(annual_cpi.index, annual_cpi['CPI_Less_Food_Energy'], label='CPI Less Food and Energy', color='yellow')\n",
    "plt.title('CPI Trends Over Time')\n",
    "plt.xlabel('Year')\n",
    "plt.ylabel('CPI')\n",
    "plt.legend()\n",
    "plt.grid(True)\n",
    "plt.show()"
   ],
   "metadata": {
    "collapsed": false,
    "ExecuteTime": {
     "end_time": "2024-09-15T18:44:00.998791Z",
     "start_time": "2024-09-15T18:44:00.841630800Z"
    }
   },
   "id": "dc37bddf1adbc56c",
   "execution_count": 34
  },
  {
   "cell_type": "code",
   "outputs": [
    {
     "data": {
      "text/plain": "<Figure size 1000x600 with 1 Axes>",
      "image/png": "[encoded data removed]"
     },
     "metadata": {},
     "output_type": "display_data"
    }
   ],
   "source": [
    "plt.figure(figsize=(10,6))\n",
    "plt.plot(annual_cpi.index, annual_cpi['Inflation_Rate_All_Item'], label='Inflation Rate of All Items', color='blue', linewidth=5)\n",
    "plt.plot(annual_cpi.index, annual_cpi['Inflation_Rate_All_Item'], label='Inflation Rate of Less Food and Energy', color='yellow', linestyle=':')\n",
    "plt.title('Year-over-Year Inflation Rate')\n",
    "plt.xlabel('Year')\n",
    "plt.ylabel('Inflation Rate (%)')\n",
    "plt.legend()\n",
    "plt.grid(True)\n",
    "plt.show()"
   ],
   "metadata": {
    "collapsed": false,
    "ExecuteTime": {
     "end_time": "2024-09-15T17:47:12.898468Z",
     "start_time": "2024-09-15T17:47:12.668437800Z"
    }
   },
   "id": "17f86aa19a9f51f2",
   "execution_count": 93
  },
  {
   "cell_type": "markdown",
   "source": [
    "#### There are some significant change in the inflation rate. The most concernd change is after 2008. The inflation rate dropped very low. "
   ],
   "metadata": {
    "collapsed": false
   },
   "id": "fcca9435d71025ca"
  },
  {
   "cell_type": "code",
   "outputs": [
    {
     "data": {
      "text/plain": "<Figure size 1000x600 with 2 Axes>",
      "image/png": "[encoded data removed]"
     },
     "metadata": {},
     "output_type": "display_data"
    }
   ],
   "source": [
    "pre_2008 = annual_cpi[annual_cpi.index < '2008-01-01']\n",
    "post_2008 = annual_cpi[annual_cpi.index >= '2008-01-01']\n",
    "\n",
    "fig, ax = plt.subplots(2, 1, figsize=(10,6))\n",
    "\n",
    "ax[0].plot(pre_2008.index, pre_2008['CPI_All_Items'], label='CPI All Items', color='cyan')\n",
    "ax[0].plot(pre_2008.index, pre_2008['CPI_Less_Food_Energy'], label='CPI Less Food, Energy', color='yellow')\n",
    "ax[0].set_title('CPI Trends Pre-2008')\n",
    "ax[0].set_xlabel('Year')\n",
    "ax[0].set_ylabel('CPI')\n",
    "ax[0].legend()\n",
    "ax[0].grid(True)\n",
    "\n",
    "ax[1].plot(post_2008.index, post_2008['CPI_All_Items'], label='CPI ALL Items', color='cyan')\n",
    "ax[1].plot(post_2008.index, post_2008['CPI_Less_Food_Energy'], label='CPI Less Food, Energy',color='yellow')\n",
    "ax[1].set_title('CPI Trends Post-2008')\n",
    "ax[1].set_xlabel('Year')\n",
    "ax[1].set_ylabel('CPI')\n",
    "ax[1].legend()\n",
    "ax[1].grid(True)\n",
    "\n",
    "plt.tight_layout()\n",
    "plt.show()"
   ],
   "metadata": {
    "collapsed": false,
    "ExecuteTime": {
     "end_time": "2024-09-15T19:11:18.118624500Z",
     "start_time": "2024-09-15T19:11:17.846668300Z"
    }
   },
   "id": "261b62e436f26b6",
   "execution_count": 42
  },
  {
   "cell_type": "markdown",
   "source": [],
   "metadata": {
    "collapsed": false
   },
   "id": "44d16e6ea414bf44"
  },
  {
   "cell_type": "code",
   "outputs": [
    {
     "data": {
      "application/vnd.plotly.v1+json": {
       "data": [
        {
         "hovertemplate": "variable=CPI_All_Items<br>Date=%{x}<br>value=%{y}<extra></extra>",
         "legendgroup": "CPI_All_Items",
         "line": {
          "color": "#636efa",
          "dash": "solid"
         },
         "marker": {
          "symbol": "circle"
         },
         "mode": "lines",
         "name": "CPI_All_Items",
         "orientation": "v",
         "showlegend": true,
         "x": [
          "2005-12-31T00:00:00",
          "2006-12-31T00:00:00",
          "2007-12-31T00:00:00",
          "2008-12-31T00:00:00",
          "2009-12-31T00:00:00",
          "2010-12-31T00:00:00",
          "2011-12-31T00:00:00",
          "2012-12-31T00:00:00",
          "2013-12-31T00:00:00",
          "2014-12-31T00:00:00",
          "2015-12-31T00:00:00",
          "2016-12-31T00:00:00",
          "2017-12-31T00:00:00",
          "2018-12-31T00:00:00",
          "2019-12-31T00:00:00",
          "2020-12-31T00:00:00",
          "2021-12-31T00:00:00",
          "2022-12-31T00:00:00"
         ],
         "xaxis": "x",
         "y": [
          191.6,
          199.3,
          203.437,
          212.174,
          211.933,
          217.488,
          221.187,
          227.842,
          231.679,
          235.288,
          234.747,
          237.652,
          243.618,
          248.859,
          252.561,
          258.906,
          262.518,
          282.39
         ],
         "yaxis": "y",
         "type": "scatter"
        },
        {
         "hovertemplate": "variable=CPI_Less_Food_Energy<br>Date=%{x}<br>value=%{y}<extra></extra>",
         "legendgroup": "CPI_Less_Food_Energy",
         "line": {
          "color": "#EF553B",
          "dash": "solid"
         },
         "marker": {
          "symbol": "circle"
         },
         "mode": "lines",
         "name": "CPI_Less_Food_Energy",
         "orientation": "v",
         "showlegend": true,
         "x": [
          "2005-12-31T00:00:00",
          "2006-12-31T00:00:00",
          "2007-12-31T00:00:00",
          "2008-12-31T00:00:00",
          "2009-12-31T00:00:00",
          "2010-12-31T00:00:00",
          "2011-12-31T00:00:00",
          "2012-12-31T00:00:00",
          "2013-12-31T00:00:00",
          "2014-12-31T00:00:00",
          "2015-12-31T00:00:00",
          "2016-12-31T00:00:00",
          "2017-12-31T00:00:00",
          "2018-12-31T00:00:00",
          "2019-12-31T00:00:00",
          "2020-12-31T00:00:00",
          "2021-12-31T00:00:00",
          "2022-12-31T00:00:00"
         ],
         "xaxis": "x",
         "y": [
          199.0,
          203.2,
          208.6,
          213.771,
          217.346,
          220.633,
          222.803,
          227.877,
          232.229,
          235.961,
          239.811,
          244.955,
          250.467,
          255.204,
          260.766,
          266.698,
          270.422,
          286.811
         ],
         "yaxis": "y",
         "type": "scatter"
        },
        {
         "hovertemplate": "variable=Inflation_Rate_All_Item<br>Date=%{x}<br>value=%{y}<extra></extra>",
         "legendgroup": "Inflation_Rate_All_Item",
         "line": {
          "color": "#00cc96",
          "dash": "solid"
         },
         "marker": {
          "symbol": "circle"
         },
         "mode": "lines",
         "name": "Inflation_Rate_All_Item",
         "orientation": "v",
         "showlegend": true,
         "x": [
          "2005-12-31T00:00:00",
          "2006-12-31T00:00:00",
          "2007-12-31T00:00:00",
          "2008-12-31T00:00:00",
          "2009-12-31T00:00:00",
          "2010-12-31T00:00:00",
          "2011-12-31T00:00:00",
          "2012-12-31T00:00:00",
          "2013-12-31T00:00:00",
          "2014-12-31T00:00:00",
          "2015-12-31T00:00:00",
          "2016-12-31T00:00:00",
          "2017-12-31T00:00:00",
          "2018-12-31T00:00:00",
          "2019-12-31T00:00:00",
          "2020-12-31T00:00:00",
          "2021-12-31T00:00:00",
          "2022-12-31T00:00:00"
         ],
         "xaxis": "x",
         "y": [
          2.8448738593666034,
          4.018789144050117,
          2.075765178123423,
          4.294695655165981,
          -0.11358601902212717,
          2.6211113889767157,
          1.7007834915029774,
          3.0087663379855023,
          1.684061762098299,
          1.557758795574915,
          -0.22993097820542818,
          1.2375025026943876,
          2.5103933482571117,
          2.151318868063945,
          1.4875893578291333,
          2.5122643638566533,
          1.3951009246599089,
          7.5697666445729395
         ],
         "yaxis": "y",
         "type": "scatter"
        },
        {
         "hovertemplate": "variable=Inflation_Rate_Less_Food_Enrgery<br>Date=%{x}<br>value=%{y}<extra></extra>",
         "legendgroup": "Inflation_Rate_Less_Food_Enrgery",
         "line": {
          "color": "#ab63fa",
          "dash": "solid"
         },
         "marker": {
          "symbol": "circle"
         },
         "mode": "lines",
         "name": "Inflation_Rate_Less_Food_Enrgery",
         "orientation": "v",
         "showlegend": true,
         "x": [
          "2005-12-31T00:00:00",
          "2006-12-31T00:00:00",
          "2007-12-31T00:00:00",
          "2008-12-31T00:00:00",
          "2009-12-31T00:00:00",
          "2010-12-31T00:00:00",
          "2011-12-31T00:00:00",
          "2012-12-31T00:00:00",
          "2013-12-31T00:00:00",
          "2014-12-31T00:00:00",
          "2015-12-31T00:00:00",
          "2016-12-31T00:00:00",
          "2017-12-31T00:00:00",
          "2018-12-31T00:00:00",
          "2019-12-31T00:00:00",
          "2020-12-31T00:00:00",
          "2021-12-31T00:00:00",
          "2022-12-31T00:00:00"
         ],
         "xaxis": "x",
         "y": [
          2.261048304213764,
          2.1105527638190846,
          2.657480314960625,
          2.4789069990412305,
          1.6723503187990874,
          1.5123351706495702,
          0.9835337415527112,
          2.2773481506083826,
          1.9098022178631435,
          1.6070344358370292,
          1.631625565241701,
          2.145022538582464,
          2.2502092221020176,
          1.8912671130328462,
          2.1794329242488475,
          2.27483644340134,
          1.3963359305281697,
          6.0605276197942315
         ],
         "yaxis": "y",
         "type": "scatter"
        }
       ],
       "layout": {
        "template": {
         "data": {
          "histogram2dcontour": [
           {
            "type": "histogram2dcontour",
            "colorbar": {
             "outlinewidth": 0,
             "ticks": ""
            },
            "colorscale": [
             [
              0.0,
              "#0d0887"
             ],
             [
              0.1111111111111111,
              "#46039f"
             ],
             [
              0.2222222222222222,
              "#7201a8"
             ],
             [
              0.3333333333333333,
              "#9c179e"
             ],
             [
              0.4444444444444444,
              "#bd3786"
             ],
             [
              0.5555555555555556,
              "#d8576b"
             ],
             [
              0.6666666666666666,
              "#ed7953"
             ],
             [
              0.7777777777777778,
              "#fb9f3a"
             ],
             [
              0.8888888888888888,
              "#fdca26"
             ],
             [
              1.0,
              "#f0f921"
             ]
            ]
           }
          ],
          "choropleth": [
           {
            "type": "choropleth",
            "colorbar": {
             "outlinewidth": 0,
             "ticks": ""
            }
           }
          ],
          "histogram2d": [
           {
            "type": "histogram2d",
            "colorbar": {
             "outlinewidth": 0,
             "ticks": ""
            },
            "colorscale": [
             [
              0.0,
              "#0d0887"
             ],
             [
              0.1111111111111111,
              "#46039f"
             ],
             [
              0.2222222222222222,
              "#7201a8"
             ],
             [
              0.3333333333333333,
              "#9c179e"
             ],
             [
              0.4444444444444444,
              "#bd3786"
             ],
             [
              0.5555555555555556,
              "#d8576b"
             ],
             [
              0.6666666666666666,
              "#ed7953"
             ],
             [
              0.7777777777777778,
              "#fb9f3a"
             ],
             [
              0.8888888888888888,
              "#fdca26"
             ],
             [
              1.0,
              "#f0f921"
             ]
            ]
           }
          ],
          "heatmap": [
           {
            "type": "heatmap",
            "colorbar": {
             "outlinewidth": 0,
             "ticks": ""
            },
            "colorscale": [
             [
              0.0,
              "#0d0887"
             ],
             [
              0.1111111111111111,
              "#46039f"
             ],
             [
              0.2222222222222222,
              "#7201a8"
             ],
             [
              0.3333333333333333,
              "#9c179e"
             ],
             [
              0.4444444444444444,
              "#bd3786"
             ],
             [
              0.5555555555555556,
              "#d8576b"
             ],
             [
              0.6666666666666666,
              "#ed7953"
             ],
             [
              0.7777777777777778,
              "#fb9f3a"
             ],
             [
              0.8888888888888888,
              "#fdca26"
             ],
             [
              1.0,
              "#f0f921"
             ]
            ]
           }
          ],
          "heatmapgl": [
           {
            "type": "heatmapgl",
            "colorbar": {
             "outlinewidth": 0,
             "ticks": ""
            },
            "colorscale": [
             [
              0.0,
              "#0d0887"
             ],
             [
              0.1111111111111111,
              "#46039f"
             ],
             [
              0.2222222222222222,
              "#7201a8"
             ],
             [
              0.3333333333333333,
              "#9c179e"
             ],
             [
              0.4444444444444444,
              "#bd3786"
             ],
             [
              0.5555555555555556,
              "#d8576b"
             ],
             [
              0.6666666666666666,
              "#ed7953"
             ],
             [
              0.7777777777777778,
              "#fb9f3a"
             ],
             [
              0.8888888888888888,
              "#fdca26"
             ],
             [
              1.0,
              "#f0f921"
             ]
            ]
           }
          ],
          "contourcarpet": [
           {
            "type": "contourcarpet",
            "colorbar": {
             "outlinewidth": 0,
             "ticks": ""
            }
           }
          ],
          "contour": [
           {
            "type": "contour",
            "colorbar": {
             "outlinewidth": 0,
             "ticks": ""
            },
            "colorscale": [
             [
              0.0,
              "#0d0887"
             ],
             [
              0.1111111111111111,
              "#46039f"
             ],
             [
              0.2222222222222222,
              "#7201a8"
             ],
             [
              0.3333333333333333,
              "#9c179e"
             ],
             [
              0.4444444444444444,
              "#bd3786"
             ],
             [
              0.5555555555555556,
              "#d8576b"
             ],
             [
              0.6666666666666666,
              "#ed7953"
             ],
             [
              0.7777777777777778,
              "#fb9f3a"
             ],
             [
              0.8888888888888888,
              "#fdca26"
             ],
             [
              1.0,
              "#f0f921"
             ]
            ]
           }
          ],
          "surface": [
           {
            "type": "surface",
            "colorbar": {
             "outlinewidth": 0,
             "ticks": ""
            },
            "colorscale": [
             [
              0.0,
              "#0d0887"
             ],
             [
              0.1111111111111111,
              "#46039f"
             ],
             [
              0.2222222222222222,
              "#7201a8"
             ],
             [
              0.3333333333333333,
              "#9c179e"
             ],
             [
              0.4444444444444444,
              "#bd3786"
             ],
             [
              0.5555555555555556,
              "#d8576b"
             ],
             [
              0.6666666666666666,
              "#ed7953"
             ],
             [
              0.7777777777777778,
              "#fb9f3a"
             ],
             [
              0.8888888888888888,
              "#fdca26"
             ],
             [
              1.0,
              "#f0f921"
             ]
            ]
           }
          ],
          "mesh3d": [
           {
            "type": "mesh3d",
            "colorbar": {
             "outlinewidth": 0,
             "ticks": ""
            }
           }
          ],
          "scatter": [
           {
            "marker": {
             "line": {
              "color": "#283442"
             }
            },
            "type": "scatter"
           }
          ],
          "parcoords": [
           {
            "type": "parcoords",
            "line": {
             "colorbar": {
              "outlinewidth": 0,
              "ticks": ""
             }
            }
           }
          ],
          "scatterpolargl": [
           {
            "type": "scatterpolargl",
            "marker": {
             "colorbar": {
              "outlinewidth": 0,
              "ticks": ""
             }
            }
           }
          ],
          "bar": [
           {
            "error_x": {
             "color": "#f2f5fa"
            },
            "error_y": {
             "color": "#f2f5fa"
            },
            "marker": {
             "line": {
              "color": "rgb(17,17,17)",
              "width": 0.5
             },
             "pattern": {
              "fillmode": "overlay",
              "size": 10,
              "solidity": 0.2
             }
            },
            "type": "bar"
           }
          ],
          "scattergeo": [
           {
            "type": "scattergeo",
            "marker": {
             "colorbar": {
              "outlinewidth": 0,
              "ticks": ""
             }
            }
           }
          ],
          "scatterpolar": [
           {
            "type": "scatterpolar",
            "marker": {
             "colorbar": {
              "outlinewidth": 0,
              "ticks": ""
             }
            }
           }
          ],
          "histogram": [
           {
            "marker": {
             "pattern": {
              "fillmode": "overlay",
              "size": 10,
              "solidity": 0.2
             }
            },
            "type": "histogram"
           }
          ],
          "scattergl": [
           {
            "marker": {
             "line": {
              "color": "#283442"
             }
            },
            "type": "scattergl"
           }
          ],
          "scatter3d": [
           {
            "type": "scatter3d",
            "line": {
             "colorbar": {
              "outlinewidth": 0,
              "ticks": ""
             }
            },
            "marker": {
             "colorbar": {
              "outlinewidth": 0,
              "ticks": ""
             }
            }
           }
          ],
          "scattermapbox": [
           {
            "type": "scattermapbox",
            "marker": {
             "colorbar": {
              "outlinewidth": 0,
              "ticks": ""
             }
            }
           }
          ],
          "scatterternary": [
           {
            "type": "scatterternary",
            "marker": {
             "colorbar": {
              "outlinewidth": 0,
              "ticks": ""
             }
            }
           }
          ],
          "scattercarpet": [
           {
            "type": "scattercarpet",
            "marker": {
             "colorbar": {
              "outlinewidth": 0,
              "ticks": ""
             }
            }
           }
          ],
          "carpet": [
           {
            "aaxis": {
             "endlinecolor": "#A2B1C6",
             "gridcolor": "#506784",
             "linecolor": "#506784",
             "minorgridcolor": "#506784",
             "startlinecolor": "#A2B1C6"
            },
            "baxis": {
             "endlinecolor": "#A2B1C6",
             "gridcolor": "#506784",
             "linecolor": "#506784",
             "minorgridcolor": "#506784",
             "startlinecolor": "#A2B1C6"
            },
            "type": "carpet"
           }
          ],
          "table": [
           {
            "cells": {
             "fill": {
              "color": "#506784"
             },
             "line": {
              "color": "rgb(17,17,17)"
             }
            },
            "header": {
             "fill": {
              "color": "#2a3f5f"
             },
             "line": {
              "color": "rgb(17,17,17)"
             }
            },
            "type": "table"
           }
          ],
          "barpolar": [
           {
            "marker": {
             "line": {
              "color": "rgb(17,17,17)",
              "width": 0.5
             },
             "pattern": {
              "fillmode": "overlay",
              "size": 10,
              "solidity": 0.2
             }
            },
            "type": "barpolar"
           }
          ],
          "pie": [
           {
            "automargin": true,
            "type": "pie"
           }
          ]
         },
         "layout": {
          "autotypenumbers": "strict",
          "colorway": [
           "#636efa",
           "#EF553B",
           "#00cc96",
           "#ab63fa",
           "#FFA15A",
           "#19d3f3",
           "#FF6692",
           "#B6E880",
           "#FF97FF",
           "#FECB52"
          ],
          "font": {
           "color": "#f2f5fa"
          },
          "hovermode": "closest",
          "hoverlabel": {
           "align": "left"
          },
          "paper_bgcolor": "rgb(17,17,17)",
          "plot_bgcolor": "rgb(17,17,17)",
          "polar": {
           "bgcolor": "rgb(17,17,17)",
           "angularaxis": {
            "gridcolor": "#506784",
            "linecolor": "#506784",
            "ticks": ""
           },
           "radialaxis": {
            "gridcolor": "#506784",
            "linecolor": "#506784",
            "ticks": ""
           }
          },
          "ternary": {
           "bgcolor": "rgb(17,17,17)",
           "aaxis": {
            "gridcolor": "#506784",
            "linecolor": "#506784",
            "ticks": ""
           },
           "baxis": {
            "gridcolor": "#506784",
            "linecolor": "#506784",
            "ticks": ""
           },
           "caxis": {
            "gridcolor": "#506784",
            "linecolor": "#506784",
            "ticks": ""
           }
          },
          "coloraxis": {
           "colorbar": {
            "outlinewidth": 0,
            "ticks": ""
           }
          },
          "colorscale": {
           "sequential": [
            [
             0.0,
             "#0d0887"
            ],
            [
             0.1111111111111111,
             "#46039f"
            ],
            [
             0.2222222222222222,
             "#7201a8"
            ],
            [
             0.3333333333333333,
             "#9c179e"
            ],
            [
             0.4444444444444444,
             "#bd3786"
            ],
            [
             0.5555555555555556,
             "#d8576b"
            ],
            [
             0.6666666666666666,
             "#ed7953"
            ],
            [
             0.7777777777777778,
             "#fb9f3a"
            ],
            [
             0.8888888888888888,
             "#fdca26"
            ],
            [
             1.0,
             "#f0f921"
            ]
           ],
           "sequentialminus": [
            [
             0.0,
             "#0d0887"
            ],
            [
             0.1111111111111111,
             "#46039f"
            ],
            [
             0.2222222222222222,
             "#7201a8"
            ],
            [
             0.3333333333333333,
             "#9c179e"
            ],
            [
             0.4444444444444444,
             "#bd3786"
            ],
            [
             0.5555555555555556,
             "#d8576b"
            ],
            [
             0.6666666666666666,
             "#ed7953"
            ],
            [
             0.7777777777777778,
             "#fb9f3a"
            ],
            [
             0.8888888888888888,
             "#fdca26"
            ],
            [
             1.0,
             "#f0f921"
            ]
           ],
           "diverging": [
            [
             0,
             "#8e0152"
            ],
            [
             0.1,
             "#c51b7d"
            ],
            [
             0.2,
             "#de77ae"
            ],
            [
             0.3,
             "#f1b6da"
            ],
            [
             0.4,
             "#fde0ef"
            ],
            [
             0.5,
             "#f7f7f7"
            ],
            [
             0.6,
             "#e6f5d0"
            ],
            [
             0.7,
             "#b8e186"
            ],
            [
             0.8,
             "#7fbc41"
            ],
            [
             0.9,
             "#4d9221"
            ],
            [
             1,
             "#276419"
            ]
           ]
          },
          "xaxis": {
           "gridcolor": "#283442",
           "linecolor": "#506784",
           "ticks": "",
           "title": {
            "standoff": 15
           },
           "zerolinecolor": "#283442",
           "automargin": true,
           "zerolinewidth": 2
          },
          "yaxis": {
           "gridcolor": "#283442",
           "linecolor": "#506784",
           "ticks": "",
           "title": {
            "standoff": 15
           },
           "zerolinecolor": "#283442",
           "automargin": true,
           "zerolinewidth": 2
          },
          "scene": {
           "xaxis": {
            "backgroundcolor": "rgb(17,17,17)",
            "gridcolor": "#506784",
            "linecolor": "#506784",
            "showbackground": true,
            "ticks": "",
            "zerolinecolor": "#C8D4E3",
            "gridwidth": 2
           },
           "yaxis": {
            "backgroundcolor": "rgb(17,17,17)",
            "gridcolor": "#506784",
            "linecolor": "#506784",
            "showbackground": true,
            "ticks": "",
            "zerolinecolor": "#C8D4E3",
            "gridwidth": 2
           },
           "zaxis": {
            "backgroundcolor": "rgb(17,17,17)",
            "gridcolor": "#506784",
            "linecolor": "#506784",
            "showbackground": true,
            "ticks": "",
            "zerolinecolor": "#C8D4E3",
            "gridwidth": 2
           }
          },
          "shapedefaults": {
           "line": {
            "color": "#f2f5fa"
           }
          },
          "annotationdefaults": {
           "arrowcolor": "#f2f5fa",
           "arrowhead": 0,
           "arrowwidth": 1
          },
          "geo": {
           "bgcolor": "rgb(17,17,17)",
           "landcolor": "rgb(17,17,17)",
           "subunitcolor": "#506784",
           "showland": true,
           "showlakes": true,
           "lakecolor": "rgb(17,17,17)"
          },
          "title": {
           "x": 0.05
          },
          "updatemenudefaults": {
           "bgcolor": "#506784",
           "borderwidth": 0
          },
          "sliderdefaults": {
           "bgcolor": "#C8D4E3",
           "borderwidth": 1,
           "bordercolor": "rgb(17,17,17)",
           "tickwidth": 0
          },
          "mapbox": {
           "style": "dark"
          }
         }
        },
        "xaxis": {
         "anchor": "y",
         "domain": [
          0.0,
          1.0
         ],
         "title": {
          "text": "Date"
         }
        },
        "yaxis": {
         "anchor": "x",
         "domain": [
          0.0,
          1.0
         ],
         "title": {
          "text": "value"
         }
        },
        "legend": {
         "title": {
          "text": "variable"
         },
         "tracegroupgap": 0
        },
        "margin": {
         "t": 60
        }
       },
       "config": {
        "plotlyServerURL": "https://plot.ly"
       }
      },
      "text/html": "<div>                            <div id=\"4c4843c9-8a83-4f5f-9a80-221ec292840f\" class=\"plotly-graph-div\" style=\"height:525px; width:100%;\"></div>            <script type=\"text/javascript\">                require([\"plotly\"], function(Plotly) {                    window.PLOTLYENV=window.PLOTLYENV || {};                                    if (document.getElementById(\"4c4843c9-8a83-4f5f-9a80-221ec292840f\")) {                    Plotly.newPlot(                        \"4c4843c9-8a83-4f5f-9a80-221ec292840f\",                        [{\"hovertemplate\":\"variable=CPI_All_Items\\u003cbr\\u003eDate=%{x}\\u003cbr\\u003evalue=%{y}\\u003cextra\\u003e\\u003c\\u002fextra\\u003e\",\"legendgroup\":\"CPI_All_Items\",\"line\":{\"color\":\"#636efa\",\"dash\":\"solid\"},\"marker\":{\"symbol\":\"circle\"},\"mode\":\"lines\",\"name\":\"CPI_All_Items\",\"orientation\":\"v\",\"showlegend\":true,\"x\":[\"2005-12-31T00:00:00\",\"2006-12-31T00:00:00\",\"2007-12-31T00:00:00\",\"2008-12-31T00:00:00\",\"2009-12-31T00:00:00\",\"2010-12-31T00:00:00\",\"2011-12-31T00:00:00\",\"2012-12-31T00:00:00\",\"2013-12-31T00:00:00\",\"2014-12-31T00:00:00\",\"2015-12-31T00:00:00\",\"2016-12-31T00:00:00\",\"2017-12-31T00:00:00\",\"2018-12-31T00:00:00\",\"2019-12-31T00:00:00\",\"2020-12-31T00:00:00\",\"2021-12-31T00:00:00\",\"2022-12-31T00:00:00\"],\"xaxis\":\"x\",\"y\":[191.6,199.3,203.437,212.174,211.933,217.488,221.187,227.842,231.679,235.288,234.747,237.652,243.618,248.859,252.561,258.906,262.518,282.39],\"yaxis\":\"y\",\"type\":\"scatter\"},{\"hovertemplate\":\"variable=CPI_Less_Food_Energy\\u003cbr\\u003eDate=%{x}\\u003cbr\\u003evalue=%{y}\\u003cextra\\u003e\\u003c\\u002fextra\\u003e\",\"legendgroup\":\"CPI_Less_Food_Energy\",\"line\":{\"color\":\"#EF553B\",\"dash\":\"solid\"},\"marker\":{\"symbol\":\"circle\"},\"mode\":\"lines\",\"name\":\"CPI_Less_Food_Energy\",\"orientation\":\"v\",\"showlegend\":true,\"x\":[\"2005-12-31T00:00:00\",\"2006-12-31T00:00:00\",\"2007-12-31T00:00:00\",\"2008-12-31T00:00:00\",\"2009-12-31T00:00:00\",\"2010-12-31T00:00:00\",\"2011-12-31T00:00:00\",\"2012-12-31T00:00:00\",\"2013-12-31T00:00:00\",\"2014-12-31T00:00:00\",\"2015-12-31T00:00:00\",\"2016-12-31T00:00:00\",\"2017-12-31T00:00:00\",\"2018-12-31T00:00:00\",\"2019-12-31T00:00:00\",\"2020-12-31T00:00:00\",\"2021-12-31T00:00:00\",\"2022-12-31T00:00:00\"],\"xaxis\":\"x\",\"y\":[199.0,203.2,208.6,213.771,217.346,220.633,222.803,227.877,232.229,235.961,239.811,244.955,250.467,255.204,260.766,266.698,270.422,286.811],\"yaxis\":\"y\",\"type\":\"scatter\"},{\"hovertemplate\":\"variable=Inflation_Rate_All_Item\\u003cbr\\u003eDate=%{x}\\u003cbr\\u003evalue=%{y}\\u003cextra\\u003e\\u003c\\u002fextra\\u003e\",\"legendgroup\":\"Inflation_Rate_All_Item\",\"line\":{\"color\":\"#00cc96\",\"dash\":\"solid\"},\"marker\":{\"symbol\":\"circle\"},\"mode\":\"lines\",\"name\":\"Inflation_Rate_All_Item\",\"orientation\":\"v\",\"showlegend\":true,\"x\":[\"2005-12-31T00:00:00\",\"2006-12-31T00:00:00\",\"2007-12-31T00:00:00\",\"2008-12-31T00:00:00\",\"2009-12-31T00:00:00\",\"2010-12-31T00:00:00\",\"2011-12-31T00:00:00\",\"2012-12-31T00:00:00\",\"2013-12-31T00:00:00\",\"2014-12-31T00:00:00\",\"2015-12-31T00:00:00\",\"2016-12-31T00:00:00\",\"2017-12-31T00:00:00\",\"2018-12-31T00:00:00\",\"2019-12-31T00:00:00\",\"2020-12-31T00:00:00\",\"2021-12-31T00:00:00\",\"2022-12-31T00:00:00\"],\"xaxis\":\"x\",\"y\":[2.8448738593666034,4.018789144050117,2.075765178123423,4.294695655165981,-0.11358601902212717,2.6211113889767157,1.7007834915029774,3.0087663379855023,1.684061762098299,1.557758795574915,-0.22993097820542818,1.2375025026943876,2.5103933482571117,2.151318868063945,1.4875893578291333,2.5122643638566533,1.3951009246599089,7.5697666445729395],\"yaxis\":\"y\",\"type\":\"scatter\"},{\"hovertemplate\":\"variable=Inflation_Rate_Less_Food_Enrgery\\u003cbr\\u003eDate=%{x}\\u003cbr\\u003evalue=%{y}\\u003cextra\\u003e\\u003c\\u002fextra\\u003e\",\"legendgroup\":\"Inflation_Rate_Less_Food_Enrgery\",\"line\":{\"color\":\"#ab63fa\",\"dash\":\"solid\"},\"marker\":{\"symbol\":\"circle\"},\"mode\":\"lines\",\"name\":\"Inflation_Rate_Less_Food_Enrgery\",\"orientation\":\"v\",\"showlegend\":true,\"x\":[\"2005-12-31T00:00:00\",\"2006-12-31T00:00:00\",\"2007-12-31T00:00:00\",\"2008-12-31T00:00:00\",\"2009-12-31T00:00:00\",\"2010-12-31T00:00:00\",\"2011-12-31T00:00:00\",\"2012-12-31T00:00:00\",\"2013-12-31T00:00:00\",\"2014-12-31T00:00:00\",\"2015-12-31T00:00:00\",\"2016-12-31T00:00:00\",\"2017-12-31T00:00:00\",\"2018-12-31T00:00:00\",\"2019-12-31T00:00:00\",\"2020-12-31T00:00:00\",\"2021-12-31T00:00:00\",\"2022-12-31T00:00:00\"],\"xaxis\":\"x\",\"y\":[2.261048304213764,2.1105527638190846,2.657480314960625,2.4789069990412305,1.6723503187990874,1.5123351706495702,0.9835337415527112,2.2773481506083826,1.9098022178631435,1.6070344358370292,1.631625565241701,2.145022538582464,2.2502092221020176,1.8912671130328462,2.1794329242488475,2.27483644340134,1.3963359305281697,6.0605276197942315],\"yaxis\":\"y\",\"type\":\"scatter\"}],                        {\"template\":{\"data\":{\"histogram2dcontour\":[{\"type\":\"histogram2dcontour\",\"colorbar\":{\"outlinewidth\":0,\"ticks\":\"\"},\"colorscale\":[[0.0,\"#0d0887\"],[0.1111111111111111,\"#46039f\"],[0.2222222222222222,\"#7201a8\"],[0.3333333333333333,\"#9c179e\"],[0.4444444444444444,\"#bd3786\"],[0.5555555555555556,\"#d8576b\"],[0.6666666666666666,\"#ed7953\"],[0.7777777777777778,\"#fb9f3a\"],[0.8888888888888888,\"#fdca26\"],[1.0,\"#f0f921\"]]}],\"choropleth\":[{\"type\":\"choropleth\",\"colorbar\":{\"outlinewidth\":0,\"ticks\":\"\"}}],\"histogram2d\":[{\"type\":\"histogram2d\",\"colorbar\":{\"outlinewidth\":0,\"ticks\":\"\"},\"colorscale\":[[0.0,\"#0d0887\"],[0.1111111111111111,\"#46039f\"],[0.2222222222222222,\"#7201a8\"],[0.3333333333333333,\"#9c179e\"],[0.4444444444444444,\"#bd3786\"],[0.5555555555555556,\"#d8576b\"],[0.6666666666666666,\"#ed7953\"],[0.7777777777777778,\"#fb9f3a\"],[0.8888888888888888,\"#fdca26\"],[1.0,\"#f0f921\"]]}],\"heatmap\":[{\"type\":\"heatmap\",\"colorbar\":{\"outlinewidth\":0,\"ticks\":\"\"},\"colorscale\":[[0.0,\"#0d0887\"],[0.1111111111111111,\"#46039f\"],[0.2222222222222222,\"#7201a8\"],[0.3333333333333333,\"#9c179e\"],[0.4444444444444444,\"#bd3786\"],[0.5555555555555556,\"#d8576b\"],[0.6666666666666666,\"#ed7953\"],[0.7777777777777778,\"#fb9f3a\"],[0.8888888888888888,\"#fdca26\"],[1.0,\"#f0f921\"]]}],\"heatmapgl\":[{\"type\":\"heatmapgl\",\"colorbar\":{\"outlinewidth\":0,\"ticks\":\"\"},\"colorscale\":[[0.0,\"#0d0887\"],[0.1111111111111111,\"#46039f\"],[0.2222222222222222,\"#7201a8\"],[0.3333333333333333,\"#9c179e\"],[0.4444444444444444,\"#bd3786\"],[0.5555555555555556,\"#d8576b\"],[0.6666666666666666,\"#ed7953\"],[0.7777777777777778,\"#fb9f3a\"],[0.8888888888888888,\"#fdca26\"],[1.0,\"#f0f921\"]]}],\"contourcarpet\":[{\"type\":\"contourcarpet\",\"colorbar\":{\"outlinewidth\":0,\"ticks\":\"\"}}],\"contour\":[{\"type\":\"contour\",\"colorbar\":{\"outlinewidth\":0,\"ticks\":\"\"},\"colorscale\":[[0.0,\"#0d0887\"],[0.1111111111111111,\"#46039f\"],[0.2222222222222222,\"#7201a8\"],[0.3333333333333333,\"#9c179e\"],[0.4444444444444444,\"#bd3786\"],[0.5555555555555556,\"#d8576b\"],[0.6666666666666666,\"#ed7953\"],[0.7777777777777778,\"#fb9f3a\"],[0.8888888888888888,\"#fdca26\"],[1.0,\"#f0f921\"]]}],\"surface\":[{\"type\":\"surface\",\"colorbar\":{\"outlinewidth\":0,\"ticks\":\"\"},\"colorscale\":[[0.0,\"#0d0887\"],[0.1111111111111111,\"#46039f\"],[0.2222222222222222,\"#7201a8\"],[0.3333333333333333,\"#9c179e\"],[0.4444444444444444,\"#bd3786\"],[0.5555555555555556,\"#d8576b\"],[0.6666666666666666,\"#ed7953\"],[0.7777777777777778,\"#fb9f3a\"],[0.8888888888888888,\"#fdca26\"],[1.0,\"#f0f921\"]]}],\"mesh3d\":[{\"type\":\"mesh3d\",\"colorbar\":{\"outlinewidth\":0,\"ticks\":\"\"}}],\"scatter\":[{\"marker\":{\"line\":{\"color\":\"#283442\"}},\"type\":\"scatter\"}],\"parcoords\":[{\"type\":\"parcoords\",\"line\":{\"colorbar\":{\"outlinewidth\":0,\"ticks\":\"\"}}}],\"scatterpolargl\":[{\"type\":\"scatterpolargl\",\"marker\":{\"colorbar\":{\"outlinewidth\":0,\"ticks\":\"\"}}}],\"bar\":[{\"error_x\":{\"color\":\"#f2f5fa\"},\"error_y\":{\"color\":\"#f2f5fa\"},\"marker\":{\"line\":{\"color\":\"rgb(17,17,17)\",\"width\":0.5},\"pattern\":{\"fillmode\":\"overlay\",\"size\":10,\"solidity\":0.2}},\"type\":\"bar\"}],\"scattergeo\":[{\"type\":\"scattergeo\",\"marker\":{\"colorbar\":{\"outlinewidth\":0,\"ticks\":\"\"}}}],\"scatterpolar\":[{\"type\":\"scatterpolar\",\"marker\":{\"colorbar\":{\"outlinewidth\":0,\"ticks\":\"\"}}}],\"histogram\":[{\"marker\":{\"pattern\":{\"fillmode\":\"overlay\",\"size\":10,\"solidity\":0.2}},\"type\":\"histogram\"}],\"scattergl\":[{\"marker\":{\"line\":{\"color\":\"#283442\"}},\"type\":\"scattergl\"}],\"scatter3d\":[{\"type\":\"scatter3d\",\"line\":{\"colorbar\":{\"outlinewidth\":0,\"ticks\":\"\"}},\"marker\":{\"colorbar\":{\"outlinewidth\":0,\"ticks\":\"\"}}}],\"scattermapbox\":[{\"type\":\"scattermapbox\",\"marker\":{\"colorbar\":{\"outlinewidth\":0,\"ticks\":\"\"}}}],\"scatterternary\":[{\"type\":\"scatterternary\",\"marker\":{\"colorbar\":{\"outlinewidth\":0,\"ticks\":\"\"}}}],\"scattercarpet\":[{\"type\":\"scattercarpet\",\"marker\":{\"colorbar\":{\"outlinewidth\":0,\"ticks\":\"\"}}}],\"carpet\":[{\"aaxis\":{\"endlinecolor\":\"#A2B1C6\",\"gridcolor\":\"#506784\",\"linecolor\":\"#506784\",\"minorgridcolor\":\"#506784\",\"startlinecolor\":\"#A2B1C6\"},\"baxis\":{\"endlinecolor\":\"#A2B1C6\",\"gridcolor\":\"#506784\",\"linecolor\":\"#506784\",\"minorgridcolor\":\"#506784\",\"startlinecolor\":\"#A2B1C6\"},\"type\":\"carpet\"}],\"table\":[{\"cells\":{\"fill\":{\"color\":\"#506784\"},\"line\":{\"color\":\"rgb(17,17,17)\"}},\"header\":{\"fill\":{\"color\":\"#2a3f5f\"},\"line\":{\"color\":\"rgb(17,17,17)\"}},\"type\":\"table\"}],\"barpolar\":[{\"marker\":{\"line\":{\"color\":\"rgb(17,17,17)\",\"width\":0.5},\"pattern\":{\"fillmode\":\"overlay\",\"size\":10,\"solidity\":0.2}},\"type\":\"barpolar\"}],\"pie\":[{\"automargin\":true,\"type\":\"pie\"}]},\"layout\":{\"autotypenumbers\":\"strict\",\"colorway\":[\"#636efa\",\"#EF553B\",\"#00cc96\",\"#ab63fa\",\"#FFA15A\",\"#19d3f3\",\"#FF6692\",\"#B6E880\",\"#FF97FF\",\"#FECB52\"],\"font\":{\"color\":\"#f2f5fa\"},\"hovermode\":\"closest\",\"hoverlabel\":{\"align\":\"left\"},\"paper_bgcolor\":\"rgb(17,17,17)\",\"plot_bgcolor\":\"rgb(17,17,17)\",\"polar\":{\"bgcolor\":\"rgb(17,17,17)\",\"angularaxis\":{\"gridcolor\":\"#506784\",\"linecolor\":\"#506784\",\"ticks\":\"\"},\"radialaxis\":{\"gridcolor\":\"#506784\",\"linecolor\":\"#506784\",\"ticks\":\"\"}},\"ternary\":{\"bgcolor\":\"rgb(17,17,17)\",\"aaxis\":{\"gridcolor\":\"#506784\",\"linecolor\":\"#506784\",\"ticks\":\"\"},\"baxis\":{\"gridcolor\":\"#506784\",\"linecolor\":\"#506784\",\"ticks\":\"\"},\"caxis\":{\"gridcolor\":\"#506784\",\"linecolor\":\"#506784\",\"ticks\":\"\"}},\"coloraxis\":{\"colorbar\":{\"outlinewidth\":0,\"ticks\":\"\"}},\"colorscale\":{\"sequential\":[[0.0,\"#0d0887\"],[0.1111111111111111,\"#46039f\"],[0.2222222222222222,\"#7201a8\"],[0.3333333333333333,\"#9c179e\"],[0.4444444444444444,\"#bd3786\"],[0.5555555555555556,\"#d8576b\"],[0.6666666666666666,\"#ed7953\"],[0.7777777777777778,\"#fb9f3a\"],[0.8888888888888888,\"#fdca26\"],[1.0,\"#f0f921\"]],\"sequentialminus\":[[0.0,\"#0d0887\"],[0.1111111111111111,\"#46039f\"],[0.2222222222222222,\"#7201a8\"],[0.3333333333333333,\"#9c179e\"],[0.4444444444444444,\"#bd3786\"],[0.5555555555555556,\"#d8576b\"],[0.6666666666666666,\"#ed7953\"],[0.7777777777777778,\"#fb9f3a\"],[0.8888888888888888,\"#fdca26\"],[1.0,\"#f0f921\"]],\"diverging\":[[0,\"#8e0152\"],[0.1,\"#c51b7d\"],[0.2,\"#de77ae\"],[0.3,\"#f1b6da\"],[0.4,\"#fde0ef\"],[0.5,\"#f7f7f7\"],[0.6,\"#e6f5d0\"],[0.7,\"#b8e186\"],[0.8,\"#7fbc41\"],[0.9,\"#4d9221\"],[1,\"#276419\"]]},\"xaxis\":{\"gridcolor\":\"#283442\",\"linecolor\":\"#506784\",\"ticks\":\"\",\"title\":{\"standoff\":15},\"zerolinecolor\":\"#283442\",\"automargin\":true,\"zerolinewidth\":2},\"yaxis\":{\"gridcolor\":\"#283442\",\"linecolor\":\"#506784\",\"ticks\":\"\",\"title\":{\"standoff\":15},\"zerolinecolor\":\"#283442\",\"automargin\":true,\"zerolinewidth\":2},\"scene\":{\"xaxis\":{\"backgroundcolor\":\"rgb(17,17,17)\",\"gridcolor\":\"#506784\",\"linecolor\":\"#506784\",\"showbackground\":true,\"ticks\":\"\",\"zerolinecolor\":\"#C8D4E3\",\"gridwidth\":2},\"yaxis\":{\"backgroundcolor\":\"rgb(17,17,17)\",\"gridcolor\":\"#506784\",\"linecolor\":\"#506784\",\"showbackground\":true,\"ticks\":\"\",\"zerolinecolor\":\"#C8D4E3\",\"gridwidth\":2},\"zaxis\":{\"backgroundcolor\":\"rgb(17,17,17)\",\"gridcolor\":\"#506784\",\"linecolor\":\"#506784\",\"showbackground\":true,\"ticks\":\"\",\"zerolinecolor\":\"#C8D4E3\",\"gridwidth\":2}},\"shapedefaults\":{\"line\":{\"color\":\"#f2f5fa\"}},\"annotationdefaults\":{\"arrowcolor\":\"#f2f5fa\",\"arrowhead\":0,\"arrowwidth\":1},\"geo\":{\"bgcolor\":\"rgb(17,17,17)\",\"landcolor\":\"rgb(17,17,17)\",\"subunitcolor\":\"#506784\",\"showland\":true,\"showlakes\":true,\"lakecolor\":\"rgb(17,17,17)\"},\"title\":{\"x\":0.05},\"updatemenudefaults\":{\"bgcolor\":\"#506784\",\"borderwidth\":0},\"sliderdefaults\":{\"bgcolor\":\"#C8D4E3\",\"borderwidth\":1,\"bordercolor\":\"rgb(17,17,17)\",\"tickwidth\":0},\"mapbox\":{\"style\":\"dark\"}}},\"xaxis\":{\"anchor\":\"y\",\"domain\":[0.0,1.0],\"title\":{\"text\":\"Date\"}},\"yaxis\":{\"anchor\":\"x\",\"domain\":[0.0,1.0],\"title\":{\"text\":\"value\"}},\"legend\":{\"title\":{\"text\":\"variable\"},\"tracegroupgap\":0},\"margin\":{\"t\":60}},                        {\"responsive\": true}                    ).then(function(){\n                            \nvar gd = document.getElementById('4c4843c9-8a83-4f5f-9a80-221ec292840f');\nvar x = new MutationObserver(function (mutations, observer) {{\n        var display = window.getComputedStyle(gd).display;\n        if (!display || display === 'none') {{\n            console.log([gd, 'removed!']);\n            Plotly.purge(gd);\n            observer.disconnect();\n        }}\n}});\n\n// Listen for the removal of the full notebook cells\nvar notebookContainer = gd.closest('#notebook-container');\nif (notebookContainer) {{\n    x.observe(notebookContainer, {childList: true});\n}}\n\n// Listen for the clearing of the current output cell\nvar outputEl = gd.closest('.output');\nif (outputEl) {{\n    x.observe(outputEl, {childList: true});\n}}\n\n                        })                };                });            </script>        </div>"
     },
     "metadata": {},
     "output_type": "display_data"
    }
   ],
   "source": [
    "data_2007_2024 = annual_cpi[(annual_cpi.index >= '2005-01-01') & (annual_cpi.index < '2023-01-01')]\n",
    "\n",
    "px.line(data_2007_2024)"
   ],
   "metadata": {
    "collapsed": false,
    "ExecuteTime": {
     "end_time": "2024-09-15T18:50:24.180743500Z",
     "start_time": "2024-09-15T18:50:24.122738500Z"
    }
   },
   "id": "9b4ad554747b98f7",
   "execution_count": 40
  },
  {
   "cell_type": "code",
   "outputs": [
    {
     "data": {
      "text/plain": "<Figure size 1000x600 with 1 Axes>",
      "image/png": "[encoded data removed]"
     },
     "metadata": {},
     "output_type": "display_data"
    }
   ],
   "source": [
    "plt.figure(figsize=(10,6))\n",
    "# plt.plot(data_2007_2024.index, data_2007_2024['CPI_All_Items'], label='CPI', color='cyan')\n",
    "plt.plot(data_2007_2024.index, data_2007_2024['Inflation_Rate_All_Item'], label='Inflation', color='yellow')\n",
    "plt.show()"
   ],
   "metadata": {
    "collapsed": false,
    "ExecuteTime": {
     "end_time": "2024-09-15T18:50:26.082875900Z",
     "start_time": "2024-09-15T18:50:25.944712800Z"
    }
   },
   "id": "cbf08ce96a3c4576",
   "execution_count": 41
  },
  {
   "cell_type": "markdown",
   "source": [
    "#### The sharp drop in inflation from 4.29% in December 2008 to -0.11% in December 2009 reflects the economic fallout from the 2008 financial crisis. "
   ],
   "metadata": {
    "collapsed": false
   },
   "id": "31d4fcbc135980e4"
  },
  {
   "cell_type": "code",
   "outputs": [],
   "source": [],
   "metadata": {
    "collapsed": false,
    "ExecuteTime": {
     "end_time": "2024-09-15T18:16:39.605106100Z",
     "start_time": "2024-09-15T18:16:39.347971900Z"
    }
   },
   "id": "a06f882e805aac90",
   "execution_count": 108
  },
  {
   "cell_type": "code",
   "outputs": [],
   "source": [],
   "metadata": {
    "collapsed": false
   },
   "id": "2de5f289176951ec"
  }
 ],
 "metadata": {
  "kernelspec": {
   "display_name": "Python 3",
   "language": "python",
   "name": "python3"
  },
  "language_info": {
   "codemirror_mode": {
    "name": "ipython",
    "version": 2
   },
   "file_extension": ".py",
   "mimetype": "text/x-python",
   "name": "python",
   "nbconvert_exporter": "python",
   "pygments_lexer": "ipython2",
   "version": "2.7.6"
  }
 },
 "nbformat": 4,
 "nbformat_minor": 5
}
